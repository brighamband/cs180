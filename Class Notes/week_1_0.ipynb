{
  "nbformat": 4,
  "nbformat_minor": 0,
  "metadata": {
    "colab": {
      "name": "week-1-0.ipynb",
      "provenance": [],
      "collapsed_sections": [],
      "toc_visible": true
    },
    "kernelspec": {
      "name": "python3",
      "display_name": "Python 3"
    },
    "language_info": {
      "name": "python"
    }
  },
  "cells": [
    {
      "cell_type": "markdown",
      "metadata": {
        "id": "dCAW8l1gT3lw"
      },
      "source": [
        "## File Systems and the os library\n",
        "\n",
        "An easy-to-use library for interacting with the machine's operating system. Contains misc. functions and classes for writing platform agnostic code "
      ]
    },
    {
      "cell_type": "code",
      "metadata": {
        "id": "aRoaOuJXNDsm"
      },
      "source": [
        "import os"
      ],
      "execution_count": null,
      "outputs": []
    },
    {
      "cell_type": "code",
      "metadata": {
        "id": "8aEwSNmYNGhv"
      },
      "source": [
        "# create directory\n",
        "os.mkdir(\"./data\")"
      ],
      "execution_count": null,
      "outputs": []
    },
    {
      "cell_type": "code",
      "metadata": {
        "colab": {
          "base_uri": "https://localhost:8080/"
        },
        "id": "nr_KJ3bLDjP0",
        "outputId": "1330b79f-2a35-4e16-e6c9-72a3e878050c"
      },
      "source": [
        "os.path.exists(\"data\")"
      ],
      "execution_count": null,
      "outputs": [
        {
          "output_type": "execute_result",
          "data": {
            "text/plain": [
              "True"
            ]
          },
          "metadata": {},
          "execution_count": 20
        }
      ]
    },
    {
      "cell_type": "code",
      "metadata": {
        "id": "hJTL-u0oNSsu"
      },
      "source": [
        "if not os.path.exists(\"./data\"):\n",
        "  os.mkdir(\"./data\")"
      ],
      "execution_count": null,
      "outputs": []
    },
    {
      "cell_type": "code",
      "metadata": {
        "id": "J3XTwuFBNtGt",
        "colab": {
          "base_uri": "https://localhost:8080/"
        },
        "outputId": "018f568d-0b27-436f-e18d-0209f052d2f2"
      },
      "source": [
        "files = os.listdir(\"sample_data\")\n",
        "files"
      ],
      "execution_count": null,
      "outputs": [
        {
          "output_type": "execute_result",
          "data": {
            "text/plain": [
              "['anscombe.json',\n",
              " 'README.md',\n",
              " 'mnist_test.csv',\n",
              " 'california_housing_train.csv',\n",
              " 'mnist_train_small.csv',\n",
              " 'california_housing_test.csv']"
            ]
          },
          "metadata": {},
          "execution_count": 23
        }
      ]
    },
    {
      "cell_type": "code",
      "metadata": {
        "id": "6uxTjOd5T7f8",
        "colab": {
          "base_uri": "https://localhost:8080/",
          "height": 35
        },
        "outputId": "16c2b1dc-6cca-4077-fcfa-ce5f9ff23262"
      },
      "source": [
        "os.getcwd()"
      ],
      "execution_count": null,
      "outputs": [
        {
          "output_type": "execute_result",
          "data": {
            "application/vnd.google.colaboratory.intrinsic+json": {
              "type": "string"
            },
            "text/plain": [
              "'/content'"
            ]
          },
          "metadata": {},
          "execution_count": 24
        }
      ]
    },
    {
      "cell_type": "code",
      "metadata": {
        "id": "N_oBYLohOLx1",
        "colab": {
          "base_uri": "https://localhost:8080/",
          "height": 35
        },
        "outputId": "5a1a3802-42c5-4440-ac81-c51c54e717f3"
      },
      "source": [
        "fpath = os.path.join(os.getcwd(), \"data\", \"hello-world.txt\")\n",
        "fpath"
      ],
      "execution_count": null,
      "outputs": [
        {
          "output_type": "execute_result",
          "data": {
            "application/vnd.google.colaboratory.intrinsic+json": {
              "type": "string"
            },
            "text/plain": [
              "'/content/data/hello-world.txt'"
            ]
          },
          "metadata": {},
          "execution_count": 25
        }
      ]
    },
    {
      "cell_type": "code",
      "metadata": {
        "id": "X2ViJv29UB2s"
      },
      "source": [
        "with open(fpath, \"w\") as f:\n",
        "  f.write(\"hellow world\")"
      ],
      "execution_count": null,
      "outputs": []
    },
    {
      "cell_type": "markdown",
      "metadata": {
        "id": "w0w_ICdeBLJn"
      },
      "source": [
        "\n",
        "\n",
        "*   JSON (JavaScript Object Notation) is a lightweight data-interchange format \n",
        "* It is easy for humans to read and write and  is easy for machines to parse and generate\n",
        "* It is based on a subset of the JavaScript Programming Language [1]\n",
        "\n",
        "JSON has two structures:\n",
        "\n",
        "* A collection of name/value pairs. In various languages, this is realized as an object, record, struct, dictionary, hash table, keyed list, or associative array.\n",
        "* An ordered list of values. In most languages, this is realized as an array, vector, list, or sequence.\n",
        "\n",
        "\n",
        "These are universal data structures. Virtually all modern programming languages support them in one form or another. It makes sense that a data format that is interchangeable with programming languages also be based on these structures.\n",
        "\n",
        "[1] json.org\n"
      ]
    },
    {
      "cell_type": "markdown",
      "metadata": {
        "id": "2BbHVuAzT8V9"
      },
      "source": [
        "## JSON"
      ]
    },
    {
      "cell_type": "markdown",
      "metadata": {
        "id": "TT7X95C6K-5_"
      },
      "source": [
        "```\n",
        "\n",
        "{\n",
        "    \"glossary\": {\n",
        "        \"title\": \"example glossary\",\n",
        "\t\t\"GlossDiv\": {\n",
        "            \"title\": \"S\",\n",
        "\t\t\t\"GlossList\": {\n",
        "                \"GlossEntry\": {\n",
        "                    \"ID\": \"SGML\",\n",
        "\t\t\t\t\t\"SortAs\": \"SGML\",\n",
        "\t\t\t\t\t\"GlossTerm\": \"Standard Generalized Markup Language\",\n",
        "\t\t\t\t\t\"Acronym\": \"SGML\",\n",
        "\t\t\t\t\t\"Abbrev\": \"ISO 8879:1986\",\n",
        "\t\t\t\t\t\"GlossDef\": {\n",
        "                        \"para\": \"A meta-markup language, used to create markup languages such as DocBook.\",\n",
        "\t\t\t\t\t\t\"GlossSeeAlso\": [\"GML\", \"XML\"]\n",
        "                    },\n",
        "\t\t\t\t\t\"GlossSee\": \"markup\"\n",
        "                }\n",
        "            }\n",
        "        }\n",
        "    }\n",
        "}\n",
        "```"
      ]
    },
    {
      "cell_type": "markdown",
      "metadata": {
        "id": "kFh853SLLKs3"
      },
      "source": [
        "### Writing to JSON with the Python `json` library"
      ]
    },
    {
      "cell_type": "code",
      "metadata": {
        "id": "Wlf8OFk4LX8-"
      },
      "source": [
        "word_counts = {\n",
        "  \"data\": 2,\n",
        "  \"science\": 2,\n",
        "  \"is\": 2,\n",
        "  \"my\": 1,\n",
        "  \"favorite\": 1,\n",
        "  \"class\": 1,\n",
        "  \"cool\": 1\n",
        "}"
      ],
      "execution_count": null,
      "outputs": []
    },
    {
      "cell_type": "code",
      "metadata": {
        "id": "p0w_RV_HLVlB"
      },
      "source": [
        "import json"
      ],
      "execution_count": null,
      "outputs": []
    },
    {
      "cell_type": "code",
      "metadata": {
        "id": "aCJBIS1UMhDR"
      },
      "source": [
        "fpath = os.path.join(\"data\", \"word_counts.json\")\n",
        "# with open(fpath)"
      ],
      "execution_count": null,
      "outputs": []
    },
    {
      "cell_type": "code",
      "metadata": {
        "colab": {
          "base_uri": "https://localhost:8080/",
          "height": 35
        },
        "id": "mB4YwXVhFo5y",
        "outputId": "f8c6e11f-89ba-4f94-f22c-38f3bacd9e06"
      },
      "source": [
        "fpath"
      ],
      "execution_count": null,
      "outputs": [
        {
          "output_type": "execute_result",
          "data": {
            "application/vnd.google.colaboratory.intrinsic+json": {
              "type": "string"
            },
            "text/plain": [
              "'data/word_counts.json'"
            ]
          },
          "metadata": {},
          "execution_count": 37
        }
      ]
    },
    {
      "cell_type": "code",
      "metadata": {
        "id": "ruC_63eMF4W5"
      },
      "source": [
        "with open(fpath, \"w\") as f:\n",
        "  json.dump(word_counts, f)"
      ],
      "execution_count": null,
      "outputs": []
    },
    {
      "cell_type": "code",
      "metadata": {
        "id": "McniooxjHETK"
      },
      "source": [
        "with open(fpath, \"r\") as f:\n",
        "  word_counts_2 = json.load(f)"
      ],
      "execution_count": null,
      "outputs": []
    },
    {
      "cell_type": "code",
      "metadata": {
        "colab": {
          "base_uri": "https://localhost:8080/"
        },
        "id": "C_aA8iq-HMoy",
        "outputId": "903cd421-24a2-4b22-e496-8cd6330d9165"
      },
      "source": [
        "word_counts_2"
      ],
      "execution_count": null,
      "outputs": [
        {
          "output_type": "execute_result",
          "data": {
            "text/plain": [
              "{'class': 1,\n",
              " 'cool': 1,\n",
              " 'data': 2,\n",
              " 'favorite': 1,\n",
              " 'is': 2,\n",
              " 'my': 1,\n",
              " 'science': 2}"
            ]
          },
          "metadata": {},
          "execution_count": 42
        }
      ]
    },
    {
      "cell_type": "markdown",
      "metadata": {
        "id": "KAlz8MbDms9_"
      },
      "source": [
        "# YAML (Yaml Ain't Markup Language)"
      ]
    },
    {
      "cell_type": "code",
      "metadata": {
        "id": "nA7JD0C6mw1G"
      },
      "source": [
        "import yaml\n",
        "with open(\"example.yaml\", \"r\") as f:\n",
        "  cfg = yaml.load(f)"
      ],
      "execution_count": null,
      "outputs": []
    },
    {
      "cell_type": "code",
      "metadata": {
        "id": "AntbO-e-m48V",
        "colab": {
          "base_uri": "https://localhost:8080/"
        },
        "outputId": "cd90a952-aa81-49ae-c4ba-d980855b287f"
      },
      "source": [
        "cfg"
      ],
      "execution_count": null,
      "outputs": [
        {
          "output_type": "execute_result",
          "data": {
            "text/plain": [
              "{'data_augmentation': {'add_noise': {'apply': True,\n",
              "   'mean': 0,\n",
              "   'samples': 0.1,\n",
              "   'std': 0.02},\n",
              "  'mirror_x': {'apply': True, 'probability': 0.2},\n",
              "  'rotate_z': {'apply': True, 'mean': 0, 'std': 10}},\n",
              " 'dataset': {'cache': False,\n",
              "  'cuda': True,\n",
              "  'drop_last': False,\n",
              "  'max_from_img': 40,\n",
              "  'n_nbrs': 100,\n",
              "  'notest': False,\n",
              "  'rescale_outputs': False,\n",
              "  'use_normals': False},\n",
              " 'optimization': {'batch_size': 8,\n",
              "  'cuda': True,\n",
              "  'dropout': 0.0,\n",
              "  'epochs': 30,\n",
              "  'learning_rate': 0.001,\n",
              "  'loss': 'mse',\n",
              "  'optimizer': 'adam',\n",
              "  'test_batch_size': 8,\n",
              "  'weight_decay': 0.0}}"
            ]
          },
          "metadata": {},
          "execution_count": 40
        }
      ]
    },
    {
      "cell_type": "markdown",
      "metadata": {
        "id": "Cp0AUhaVUSi-"
      },
      "source": [
        "# numpy (Numerical Python)"
      ]
    },
    {
      "cell_type": "markdown",
      "metadata": {
        "id": "H5Gk682T7FQI"
      },
      "source": [
        " - Highly optimized n-dimensional array library (c/c++ under the hood)\n",
        " - In Python we have lists that serve the purpose of arrays, but they are slow to process.\n",
        "\n",
        "- NumPy aims to provide an array object that is up to 50x faster than traditional Python lists.\n",
        "\n",
        "- The array object in NumPy is called ndarray, it provides a lot of supporting functions that make working with ndarray very easy.\n",
        "\n",
        "- Arrays are very frequently used in data science, where speed and resources are very important.\n",
        "\n",
        "  - NumPy arrays are stored at one continuous place in memory unlike lists, so processes can access and manipulate them very efficiently.\n",
        "\n",
        "  - This behavior is called locality of reference in computer science.\n",
        "\n",
        "  - This is the main reason why NumPy is faster than lists. Also it is optimized to work with latest CPU architectures."
      ]
    },
    {
      "cell_type": "markdown",
      "metadata": {
        "id": "oumRtrCE5c9G"
      },
      "source": [
        "### Basic Terminology"
      ]
    },
    {
      "cell_type": "markdown",
      "metadata": {
        "id": "CLllSg6U5MPl"
      },
      "source": [
        "![lin-alg.png](data:image/png;base64,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)"
      ]
    },
    {
      "cell_type": "code",
      "metadata": {
        "id": "xn8Q0AMb5oz_"
      },
      "source": [
        "# scalar (no dimensions)\n",
        "a = 10"
      ],
      "execution_count": null,
      "outputs": []
    },
    {
      "cell_type": "code",
      "metadata": {
        "id": "BotW92ak5yYY"
      },
      "source": [
        "# vector (1 dimension)\n",
        "b = [10, 5, 12]\n",
        "c = [10, 5, 12, 25, 124, 12, 42]"
      ],
      "execution_count": null,
      "outputs": []
    },
    {
      "cell_type": "code",
      "metadata": {
        "id": "FtDF9Hke5zjh"
      },
      "source": [
        "# matrix (2 dimensions) 2 x2\n",
        "d = [\n",
        "    [1, 2],\n",
        "    [3, 4]\n",
        "    ]"
      ],
      "execution_count": null,
      "outputs": []
    },
    {
      "cell_type": "code",
      "metadata": {
        "id": "ZyZJMYzu509I"
      },
      "source": [
        "# tensor (n dimensional)\n",
        "e = [\n",
        "      [[1, 2], # first 2 x2 matrix\n",
        "      [3, 4]],\n",
        "     \n",
        "      [[1, 2], # second 2x2 matrix\n",
        "      [3, 4]],\n",
        "     \n",
        "      [[1, 2], # third 2x2 matrix\n",
        "      [3, 4]],\n",
        "    ]\n",
        "# how many dimensions: 3\n",
        "# what are the dimensions: (3 x 2 x 2)"
      ],
      "execution_count": null,
      "outputs": []
    },
    {
      "cell_type": "code",
      "metadata": {
        "id": "cGU6D6bVUlhK"
      },
      "source": [
        "import numpy as np"
      ],
      "execution_count": null,
      "outputs": []
    },
    {
      "cell_type": "code",
      "metadata": {
        "id": "2lwQvmFO5odx"
      },
      "source": [
        ""
      ],
      "execution_count": null,
      "outputs": []
    },
    {
      "cell_type": "code",
      "metadata": {
        "id": "6ohDAJRsT4m0",
        "colab": {
          "base_uri": "https://localhost:8080/"
        },
        "outputId": "9a44ab08-d055-4a66-e59b-7a6cac87ec0b"
      },
      "source": [
        "# create array from list\n",
        "vector = np.array(b, dtype=float)\n",
        "vector"
      ],
      "execution_count": null,
      "outputs": [
        {
          "output_type": "execute_result",
          "data": {
            "text/plain": [
              "array([10.,  5., 12.])"
            ]
          },
          "metadata": {},
          "execution_count": 6
        }
      ]
    },
    {
      "cell_type": "code",
      "metadata": {
        "colab": {
          "base_uri": "https://localhost:8080/"
        },
        "id": "uoSkFKEsLOL7",
        "outputId": "af4c9a1e-344c-45b3-e897-f346a2d9e108"
      },
      "source": [
        "vector.dtype"
      ],
      "execution_count": null,
      "outputs": [
        {
          "output_type": "execute_result",
          "data": {
            "text/plain": [
              "dtype('float64')"
            ]
          },
          "metadata": {},
          "execution_count": 68
        }
      ]
    },
    {
      "cell_type": "code",
      "metadata": {
        "colab": {
          "base_uri": "https://localhost:8080/"
        },
        "id": "W4-hl0WMT774",
        "outputId": "bca5de72-254c-416d-d5c0-0ed2dc0bcf71"
      },
      "source": [
        "np.array([\"byu\", \"will\", \"beat\", \"utah\"], dtype=\"object\")"
      ],
      "execution_count": null,
      "outputs": [
        {
          "output_type": "execute_result",
          "data": {
            "text/plain": [
              "array(['byu', 'will', 'beat', 'utah'], dtype=object)"
            ]
          },
          "metadata": {},
          "execution_count": 8
        }
      ]
    },
    {
      "cell_type": "code",
      "metadata": {
        "colab": {
          "base_uri": "https://localhost:8080/"
        },
        "id": "maBnriZyUIsg",
        "outputId": "3694e913-4cce-4c2d-b835-4e992a1c279c"
      },
      "source": [
        "# init null array\n",
        "np.zeros(10)"
      ],
      "execution_count": null,
      "outputs": [
        {
          "output_type": "execute_result",
          "data": {
            "text/plain": [
              "array([0., 0., 0., 0., 0., 0., 0., 0., 0., 0.])"
            ]
          },
          "metadata": {},
          "execution_count": 10
        }
      ]
    },
    {
      "cell_type": "code",
      "metadata": {
        "id": "aA4GalWgUSb4"
      },
      "source": [
        " x = np.zeros((10, 3))"
      ],
      "execution_count": null,
      "outputs": []
    },
    {
      "cell_type": "code",
      "metadata": {
        "colab": {
          "base_uri": "https://localhost:8080/",
          "height": 162
        },
        "id": "MIgKperRUZjQ",
        "outputId": "e22d2a18-725b-4408-9fff-bcb2d991969f"
      },
      "source": [
        "x[0, 0] = \"byu\""
      ],
      "execution_count": null,
      "outputs": [
        {
          "output_type": "error",
          "ename": "ValueError",
          "evalue": "ignored",
          "traceback": [
            "\u001b[0;31m---------------------------------------------------------------------------\u001b[0m",
            "\u001b[0;31mValueError\u001b[0m                                Traceback (most recent call last)",
            "\u001b[0;32m<ipython-input-15-e3d648e54658>\u001b[0m in \u001b[0;36m<module>\u001b[0;34m()\u001b[0m\n\u001b[0;32m----> 1\u001b[0;31m \u001b[0mx\u001b[0m\u001b[0;34m[\u001b[0m\u001b[0;36m0\u001b[0m\u001b[0;34m,\u001b[0m \u001b[0;36m0\u001b[0m\u001b[0;34m]\u001b[0m \u001b[0;34m=\u001b[0m \u001b[0;34m\"byu\"\u001b[0m\u001b[0;34m\u001b[0m\u001b[0;34m\u001b[0m\u001b[0m\n\u001b[0m",
            "\u001b[0;31mValueError\u001b[0m: could not convert string to float: 'byu'"
          ]
        }
      ]
    },
    {
      "cell_type": "code",
      "metadata": {
        "id": "vntmB_zKUhxd"
      },
      "source": [
        "x2 = np.zeros((10, 3), dtype=\"object\")"
      ],
      "execution_count": null,
      "outputs": []
    },
    {
      "cell_type": "code",
      "metadata": {
        "colab": {
          "base_uri": "https://localhost:8080/"
        },
        "id": "6Z_7I85lUlT1",
        "outputId": "e263f0ff-80f9-430f-bac9-24f2c6b929b7"
      },
      "source": [
        "x2"
      ],
      "execution_count": null,
      "outputs": [
        {
          "output_type": "execute_result",
          "data": {
            "text/plain": [
              "array([[0, 0, 0],\n",
              "       [0, 0, 0],\n",
              "       [0, 0, 0],\n",
              "       [0, 0, 0],\n",
              "       [0, 0, 0],\n",
              "       [0, 0, 0],\n",
              "       [0, 0, 0],\n",
              "       [0, 0, 0],\n",
              "       [0, 0, 0],\n",
              "       [0, 0, 0]], dtype=object)"
            ]
          },
          "metadata": {},
          "execution_count": 34
        }
      ]
    },
    {
      "cell_type": "code",
      "metadata": {
        "id": "OIIuPwbWUmLl"
      },
      "source": [
        "x2[0, 0] = \"byu\""
      ],
      "execution_count": null,
      "outputs": []
    },
    {
      "cell_type": "code",
      "metadata": {
        "colab": {
          "base_uri": "https://localhost:8080/"
        },
        "id": "1SmMfImuUoqt",
        "outputId": "34f87402-34bc-4860-af82-64ed7e0fddb2"
      },
      "source": [
        "x2"
      ],
      "execution_count": null,
      "outputs": [
        {
          "output_type": "execute_result",
          "data": {
            "text/plain": [
              "array([['byu', 0, 0],\n",
              "       [0, 0, 0],\n",
              "       [0, 0, 0],\n",
              "       [0, 0, 0],\n",
              "       [0, 0, 0],\n",
              "       [0, 0, 0],\n",
              "       [0, 0, 0],\n",
              "       [0, 0, 0],\n",
              "       [0, 0, 0],\n",
              "       [0, 0, 0]], dtype=object)"
            ]
          },
          "metadata": {},
          "execution_count": 36
        }
      ]
    },
    {
      "cell_type": "code",
      "metadata": {
        "id": "s2TDM1VK6dsG"
      },
      "source": [
        "# scalar"
      ],
      "execution_count": null,
      "outputs": []
    },
    {
      "cell_type": "code",
      "metadata": {
        "id": "XHi4iekFUbwU"
      },
      "source": [
        "# 1-D array (vector)"
      ],
      "execution_count": null,
      "outputs": []
    },
    {
      "cell_type": "code",
      "metadata": {
        "id": "zkWAT8rbUdT0",
        "colab": {
          "base_uri": "https://localhost:8080/"
        },
        "outputId": "0f457440-ce79-45ee-8386-cb87346519a0"
      },
      "source": [
        "# 2-D array (matrix)\n",
        "matrix = np.array(d)\n",
        "matrix"
      ],
      "execution_count": null,
      "outputs": [
        {
          "output_type": "execute_result",
          "data": {
            "text/plain": [
              "array([[1, 2],\n",
              "       [3, 4]])"
            ]
          },
          "metadata": {},
          "execution_count": 61
        }
      ]
    },
    {
      "cell_type": "code",
      "metadata": {
        "colab": {
          "base_uri": "https://localhost:8080/"
        },
        "id": "g8Wb4CDqKy-r",
        "outputId": "6b78eab3-c00a-4fd0-9f8c-a9ab08f2debf"
      },
      "source": [
        "matrix.shape"
      ],
      "execution_count": null,
      "outputs": [
        {
          "output_type": "execute_result",
          "data": {
            "text/plain": [
              "(2, 2)"
            ]
          },
          "metadata": {},
          "execution_count": 62
        }
      ]
    },
    {
      "cell_type": "code",
      "metadata": {
        "id": "UhD_Mj2yUeXT",
        "colab": {
          "base_uri": "https://localhost:8080/"
        },
        "outputId": "0ac66f1c-dfb6-4556-a017-4acee25107e2"
      },
      "source": [
        "# 3-D array (tensor)\n",
        "tensor = np.array(e)\n",
        "tensor"
      ],
      "execution_count": null,
      "outputs": [
        {
          "output_type": "execute_result",
          "data": {
            "text/plain": [
              "array([[[1, 2],\n",
              "        [3, 4]],\n",
              "\n",
              "       [[1, 2],\n",
              "        [3, 4]],\n",
              "\n",
              "       [[1, 2],\n",
              "        [3, 4]]])"
            ]
          },
          "metadata": {},
          "execution_count": 64
        }
      ]
    },
    {
      "cell_type": "code",
      "metadata": {
        "colab": {
          "base_uri": "https://localhost:8080/"
        },
        "id": "7o826LA1LAtr",
        "outputId": "0448cff0-76d9-496b-9904-9120c6c1df17"
      },
      "source": [
        "tensor.shape"
      ],
      "execution_count": null,
      "outputs": [
        {
          "output_type": "execute_result",
          "data": {
            "text/plain": [
              "(3, 2, 2)"
            ]
          },
          "metadata": {},
          "execution_count": 65
        }
      ]
    },
    {
      "cell_type": "code",
      "metadata": {
        "id": "TVLQp5fQUfAz"
      },
      "source": [
        "# dtypes"
      ],
      "execution_count": null,
      "outputs": []
    },
    {
      "cell_type": "code",
      "metadata": {
        "colab": {
          "base_uri": "https://localhost:8080/"
        },
        "id": "Ymmq5yBkUkaC",
        "outputId": "8329e35a-2443-4c20-ccc1-166909eebde2"
      },
      "source": [
        "x = np.zeros(10)\n",
        "x"
      ],
      "execution_count": null,
      "outputs": [
        {
          "output_type": "execute_result",
          "data": {
            "text/plain": [
              "array([0., 0., 0., 0., 0., 0., 0., 0., 0., 0.])"
            ]
          },
          "metadata": {},
          "execution_count": 29
        }
      ]
    },
    {
      "cell_type": "code",
      "metadata": {
        "colab": {
          "base_uri": "https://localhost:8080/"
        },
        "id": "iiJb7H2mUnJ0",
        "outputId": "ab41de66-5ed3-4df0-ba02-137f6b0090f6"
      },
      "source": [
        "x.dtype"
      ],
      "execution_count": null,
      "outputs": [
        {
          "output_type": "execute_result",
          "data": {
            "text/plain": [
              "dtype('float64')"
            ]
          },
          "metadata": {},
          "execution_count": 30
        }
      ]
    },
    {
      "cell_type": "code",
      "metadata": {
        "id": "pWRrWygkUozO"
      },
      "source": [
        "# slicing/indexing"
      ],
      "execution_count": null,
      "outputs": []
    },
    {
      "cell_type": "code",
      "metadata": {
        "colab": {
          "base_uri": "https://localhost:8080/"
        },
        "id": "YoKTEwA6Uv4g",
        "outputId": "8d85b8f2-4e41-423c-f29f-461e9675e4b5"
      },
      "source": [
        "x2 = np.random.multivariate_normal([0, 0, 0], np.eye(3), size=10)\n",
        "x2"
      ],
      "execution_count": null,
      "outputs": [
        {
          "output_type": "execute_result",
          "data": {
            "text/plain": [
              "array([[ 1.50154456, -0.05885693, -0.89366734],\n",
              "       [ 0.20952289,  0.37512594,  1.63835149],\n",
              "       [ 2.08741926, -0.73323558,  1.59344763],\n",
              "       [ 0.30602716,  0.36463956, -0.34072516],\n",
              "       [ 0.93788443,  0.74959788,  0.59770103],\n",
              "       [-0.97214018, -1.04974387, -1.94705577],\n",
              "       [-0.55734072,  1.69265389, -0.04329406],\n",
              "       [-0.79101418, -0.41835204,  1.16872175],\n",
              "       [-0.35729236,  0.56161541,  1.01843279],\n",
              "       [-0.5210533 ,  1.74877483,  1.0891219 ]])"
            ]
          },
          "metadata": {},
          "execution_count": 39
        }
      ]
    },
    {
      "cell_type": "code",
      "metadata": {
        "colab": {
          "base_uri": "https://localhost:8080/"
        },
        "id": "TkZf63xBU15u",
        "outputId": "418352ac-1d01-4d9a-8f56-c68fcb940712"
      },
      "source": [
        "x2[0, 2]"
      ],
      "execution_count": null,
      "outputs": [
        {
          "output_type": "execute_result",
          "data": {
            "text/plain": [
              "-0.8936673439236972"
            ]
          },
          "metadata": {},
          "execution_count": 40
        }
      ]
    },
    {
      "cell_type": "code",
      "metadata": {
        "colab": {
          "base_uri": "https://localhost:8080/"
        },
        "id": "-CxXd6hMVUmQ",
        "outputId": "0c5885fd-7e0a-4c8b-c276-1991ef5b26db"
      },
      "source": [
        "x2[:, 0]"
      ],
      "execution_count": null,
      "outputs": [
        {
          "output_type": "execute_result",
          "data": {
            "text/plain": [
              "array([ 1.50154456,  0.20952289,  2.08741926,  0.30602716,  0.93788443,\n",
              "       -0.97214018, -0.55734072, -0.79101418, -0.35729236, -0.5210533 ])"
            ]
          },
          "metadata": {},
          "execution_count": 41
        }
      ]
    },
    {
      "cell_type": "code",
      "metadata": {
        "colab": {
          "base_uri": "https://localhost:8080/"
        },
        "id": "VKtZ76zLVkCp",
        "outputId": "bf2e2b91-1378-4fcf-8088-cbad725e76f8"
      },
      "source": [
        "x2[:, 0:2]"
      ],
      "execution_count": null,
      "outputs": [
        {
          "output_type": "execute_result",
          "data": {
            "text/plain": [
              "array([[ 1.50154456, -0.05885693],\n",
              "       [ 0.20952289,  0.37512594],\n",
              "       [ 2.08741926, -0.73323558],\n",
              "       [ 0.30602716,  0.36463956],\n",
              "       [ 0.93788443,  0.74959788],\n",
              "       [-0.97214018, -1.04974387],\n",
              "       [-0.55734072,  1.69265389],\n",
              "       [-0.79101418, -0.41835204],\n",
              "       [-0.35729236,  0.56161541],\n",
              "       [-0.5210533 ,  1.74877483]])"
            ]
          },
          "metadata": {},
          "execution_count": 42
        }
      ]
    },
    {
      "cell_type": "code",
      "metadata": {
        "colab": {
          "base_uri": "https://localhost:8080/"
        },
        "id": "NbwDOBGwV1AR",
        "outputId": "9c217c56-2cee-47cd-d4d0-704436daa6db"
      },
      "source": [
        "x2[:5, 0:2]"
      ],
      "execution_count": null,
      "outputs": [
        {
          "output_type": "execute_result",
          "data": {
            "text/plain": [
              "array([[ 1.50154456, -0.05885693],\n",
              "       [ 0.20952289,  0.37512594],\n",
              "       [ 2.08741926, -0.73323558],\n",
              "       [ 0.30602716,  0.36463956],\n",
              "       [ 0.93788443,  0.74959788]])"
            ]
          },
          "metadata": {},
          "execution_count": 43
        }
      ]
    },
    {
      "cell_type": "code",
      "metadata": {
        "id": "Nf5ELrx8VCgR"
      },
      "source": [
        "# iterating (avoid if possible)"
      ],
      "execution_count": null,
      "outputs": []
    },
    {
      "cell_type": "code",
      "metadata": {
        "colab": {
          "base_uri": "https://localhost:8080/"
        },
        "id": "EOKJgKViWz9S",
        "outputId": "f4b6aeac-b169-4043-e04a-41736bec009a"
      },
      "source": [
        "for i in range(1, 11):\n",
        "  print(i)"
      ],
      "execution_count": null,
      "outputs": [
        {
          "output_type": "stream",
          "name": "stdout",
          "text": [
            "1\n",
            "2\n",
            "3\n",
            "4\n",
            "5\n",
            "6\n",
            "7\n",
            "8\n",
            "9\n",
            "10\n"
          ]
        }
      ]
    },
    {
      "cell_type": "code",
      "metadata": {
        "colab": {
          "base_uri": "https://localhost:8080/"
        },
        "id": "yfefQb-5XDtx",
        "outputId": "7d811aff-be0f-4c13-fd9c-48bf0c3acf28"
      },
      "source": [
        "x2"
      ],
      "execution_count": null,
      "outputs": [
        {
          "output_type": "execute_result",
          "data": {
            "text/plain": [
              "array([[ 1.50154456, -0.05885693, -0.89366734],\n",
              "       [ 0.20952289,  0.37512594,  1.63835149],\n",
              "       [ 2.08741926, -0.73323558,  1.59344763],\n",
              "       [ 0.30602716,  0.36463956, -0.34072516],\n",
              "       [ 0.93788443,  0.74959788,  0.59770103],\n",
              "       [-0.97214018, -1.04974387, -1.94705577],\n",
              "       [-0.55734072,  1.69265389, -0.04329406],\n",
              "       [-0.79101418, -0.41835204,  1.16872175],\n",
              "       [-0.35729236,  0.56161541,  1.01843279],\n",
              "       [-0.5210533 ,  1.74877483,  1.0891219 ]])"
            ]
          },
          "metadata": {},
          "execution_count": 46
        }
      ]
    },
    {
      "cell_type": "code",
      "metadata": {
        "colab": {
          "base_uri": "https://localhost:8080/"
        },
        "id": "Lpf2rNWDXPSx",
        "outputId": "ff88cbe5-b95b-4eac-fa2a-78b732452905"
      },
      "source": [
        "for row in x2:\n",
        "  print(row)"
      ],
      "execution_count": null,
      "outputs": [
        {
          "output_type": "stream",
          "name": "stdout",
          "text": [
            "[ 1.50154456 -0.05885693 -0.89366734]\n",
            "[0.20952289 0.37512594 1.63835149]\n",
            "[ 2.08741926 -0.73323558  1.59344763]\n",
            "[ 0.30602716  0.36463956 -0.34072516]\n",
            "[0.93788443 0.74959788 0.59770103]\n",
            "[-0.97214018 -1.04974387 -1.94705577]\n",
            "[-0.55734072  1.69265389 -0.04329406]\n",
            "[-0.79101418 -0.41835204  1.16872175]\n",
            "[-0.35729236  0.56161541  1.01843279]\n",
            "[-0.5210533   1.74877483  1.0891219 ]\n"
          ]
        }
      ]
    },
    {
      "cell_type": "markdown",
      "metadata": {
        "id": "E-_ocbZiXYKj"
      },
      "source": [
        "### Axes and vectorized operations"
      ]
    },
    {
      "cell_type": "code",
      "metadata": {
        "id": "4HpHNMeiXZ_G"
      },
      "source": [
        "X = np.random.multivariate_normal([0, 0, 0], np.eye(3), size=10)"
      ],
      "execution_count": null,
      "outputs": []
    },
    {
      "cell_type": "code",
      "metadata": {
        "colab": {
          "base_uri": "https://localhost:8080/"
        },
        "id": "eMUMKVaTXfxQ",
        "outputId": "cf59e7e4-7a15-46f1-9324-bbd30a8a0738"
      },
      "source": [
        "X"
      ],
      "execution_count": null,
      "outputs": [
        {
          "output_type": "execute_result",
          "data": {
            "text/plain": [
              "array([[-1.82890463,  1.06565526, -1.12875225],\n",
              "       [-0.91568379, -1.29342681, -1.01032142],\n",
              "       [ 1.60369844,  1.35225899, -0.53959214],\n",
              "       [-0.77660804, -0.85147534, -0.42435312],\n",
              "       [ 1.17274498, -0.32917186, -0.78818525],\n",
              "       [-1.44505416, -0.84714716, -1.00706238],\n",
              "       [ 1.88635505, -0.52618847,  0.25058658],\n",
              "       [ 0.45642826,  2.52368713,  0.96305803],\n",
              "       [ 0.90839888,  0.60980247, -2.88053764],\n",
              "       [ 1.66324353,  0.25401728, -0.1689418 ]])"
            ]
          },
          "metadata": {},
          "execution_count": 51
        }
      ]
    },
    {
      "cell_type": "code",
      "metadata": {
        "id": "tBdheBiBXgcg",
        "colab": {
          "base_uri": "https://localhost:8080/"
        },
        "outputId": "c5a22a52-bdfd-40cd-ccd7-81b8872f0376"
      },
      "source": [
        "X.shape"
      ],
      "execution_count": null,
      "outputs": [
        {
          "output_type": "execute_result",
          "data": {
            "text/plain": [
              "(10, 3)"
            ]
          },
          "metadata": {},
          "execution_count": 52
        }
      ]
    },
    {
      "cell_type": "code",
      "metadata": {
        "id": "6EnwrmV5XhWg",
        "colab": {
          "base_uri": "https://localhost:8080/"
        },
        "outputId": "a9d83dcf-3161-4ed9-feca-3cb7d720e9ac"
      },
      "source": [
        "# mean\n",
        "X.mean()"
      ],
      "execution_count": null,
      "outputs": [
        {
          "output_type": "execute_result",
          "data": {
            "text/plain": [
              "-0.06838237956699925"
            ]
          },
          "metadata": {},
          "execution_count": 53
        }
      ]
    },
    {
      "cell_type": "code",
      "metadata": {
        "colab": {
          "base_uri": "https://localhost:8080/"
        },
        "id": "evF0uYkZXnly",
        "outputId": "cae7758c-c967-4cbb-fe06-d8483dc5bcf4"
      },
      "source": [
        "X.mean(axis=0)"
      ],
      "execution_count": null,
      "outputs": [
        {
          "output_type": "execute_result",
          "data": {
            "text/plain": [
              "array([ 0.27246185,  0.19580115, -0.67341014])"
            ]
          },
          "metadata": {},
          "execution_count": 54
        }
      ]
    },
    {
      "cell_type": "code",
      "metadata": {
        "colab": {
          "base_uri": "https://localhost:8080/"
        },
        "id": "3SQGSua7YP85",
        "outputId": "f84cbe26-7970-4695-f3b2-2f0c6d6aac2a"
      },
      "source": [
        "X.mean(axis=1)"
      ],
      "execution_count": null,
      "outputs": [
        {
          "output_type": "execute_result",
          "data": {
            "text/plain": [
              "array([-0.63066721, -1.073144  ,  0.8054551 , -0.6841455 ,  0.01846262,\n",
              "       -1.09975457,  0.53691772,  1.31439114, -0.4541121 ,  0.582773  ])"
            ]
          },
          "metadata": {},
          "execution_count": 55
        }
      ]
    },
    {
      "cell_type": "code",
      "metadata": {
        "id": "MUOoj7YWYd7z"
      },
      "source": [
        "arr = np.random.rand(10)"
      ],
      "execution_count": null,
      "outputs": []
    },
    {
      "cell_type": "code",
      "metadata": {
        "colab": {
          "base_uri": "https://localhost:8080/",
          "height": 303
        },
        "id": "0llGYqawYwtF",
        "outputId": "9aa119ac-4340-40a0-f8fd-b4ec97e874dc"
      },
      "source": [
        "arr.mean(1)"
      ],
      "execution_count": null,
      "outputs": [
        {
          "output_type": "error",
          "ename": "AxisError",
          "evalue": "ignored",
          "traceback": [
            "\u001b[0;31m---------------------------------------------------------------------------\u001b[0m",
            "\u001b[0;31mAxisError\u001b[0m                                 Traceback (most recent call last)",
            "\u001b[0;32m<ipython-input-63-ee32a8b6e96c>\u001b[0m in \u001b[0;36m<module>\u001b[0;34m()\u001b[0m\n\u001b[0;32m----> 1\u001b[0;31m \u001b[0marr\u001b[0m\u001b[0;34m.\u001b[0m\u001b[0mmean\u001b[0m\u001b[0;34m(\u001b[0m\u001b[0;36m1\u001b[0m\u001b[0;34m)\u001b[0m\u001b[0;34m\u001b[0m\u001b[0;34m\u001b[0m\u001b[0m\n\u001b[0m",
            "\u001b[0;32m/usr/local/lib/python3.7/dist-packages/numpy/core/_methods.py\u001b[0m in \u001b[0;36m_mean\u001b[0;34m(a, axis, dtype, out, keepdims)\u001b[0m\n\u001b[1;32m    145\u001b[0m \u001b[0;34m\u001b[0m\u001b[0m\n\u001b[1;32m    146\u001b[0m     \u001b[0mis_float16_result\u001b[0m \u001b[0;34m=\u001b[0m \u001b[0;32mFalse\u001b[0m\u001b[0;34m\u001b[0m\u001b[0;34m\u001b[0m\u001b[0m\n\u001b[0;32m--> 147\u001b[0;31m     \u001b[0mrcount\u001b[0m \u001b[0;34m=\u001b[0m \u001b[0m_count_reduce_items\u001b[0m\u001b[0;34m(\u001b[0m\u001b[0marr\u001b[0m\u001b[0;34m,\u001b[0m \u001b[0maxis\u001b[0m\u001b[0;34m)\u001b[0m\u001b[0;34m\u001b[0m\u001b[0;34m\u001b[0m\u001b[0m\n\u001b[0m\u001b[1;32m    148\u001b[0m     \u001b[0;31m# Make this warning show up first\u001b[0m\u001b[0;34m\u001b[0m\u001b[0;34m\u001b[0m\u001b[0;34m\u001b[0m\u001b[0m\n\u001b[1;32m    149\u001b[0m     \u001b[0;32mif\u001b[0m \u001b[0mrcount\u001b[0m \u001b[0;34m==\u001b[0m \u001b[0;36m0\u001b[0m\u001b[0;34m:\u001b[0m\u001b[0;34m\u001b[0m\u001b[0;34m\u001b[0m\u001b[0m\n",
            "\u001b[0;32m/usr/local/lib/python3.7/dist-packages/numpy/core/_methods.py\u001b[0m in \u001b[0;36m_count_reduce_items\u001b[0;34m(arr, axis)\u001b[0m\n\u001b[1;32m     64\u001b[0m     \u001b[0mitems\u001b[0m \u001b[0;34m=\u001b[0m \u001b[0;36m1\u001b[0m\u001b[0;34m\u001b[0m\u001b[0;34m\u001b[0m\u001b[0m\n\u001b[1;32m     65\u001b[0m     \u001b[0;32mfor\u001b[0m \u001b[0max\u001b[0m \u001b[0;32min\u001b[0m \u001b[0maxis\u001b[0m\u001b[0;34m:\u001b[0m\u001b[0;34m\u001b[0m\u001b[0;34m\u001b[0m\u001b[0m\n\u001b[0;32m---> 66\u001b[0;31m         \u001b[0mitems\u001b[0m \u001b[0;34m*=\u001b[0m \u001b[0marr\u001b[0m\u001b[0;34m.\u001b[0m\u001b[0mshape\u001b[0m\u001b[0;34m[\u001b[0m\u001b[0mmu\u001b[0m\u001b[0;34m.\u001b[0m\u001b[0mnormalize_axis_index\u001b[0m\u001b[0;34m(\u001b[0m\u001b[0max\u001b[0m\u001b[0;34m,\u001b[0m \u001b[0marr\u001b[0m\u001b[0;34m.\u001b[0m\u001b[0mndim\u001b[0m\u001b[0;34m)\u001b[0m\u001b[0;34m]\u001b[0m\u001b[0;34m\u001b[0m\u001b[0;34m\u001b[0m\u001b[0m\n\u001b[0m\u001b[1;32m     67\u001b[0m     \u001b[0;32mreturn\u001b[0m \u001b[0mitems\u001b[0m\u001b[0;34m\u001b[0m\u001b[0;34m\u001b[0m\u001b[0m\n\u001b[1;32m     68\u001b[0m \u001b[0;34m\u001b[0m\u001b[0m\n",
            "\u001b[0;31mAxisError\u001b[0m: axis 1 is out of bounds for array of dimension 1"
          ]
        }
      ]
    },
    {
      "cell_type": "code",
      "metadata": {
        "colab": {
          "base_uri": "https://localhost:8080/"
        },
        "id": "lEV15tlMYg6p",
        "outputId": "4b4aeef0-d623-4c51-bb21-e6e151b2e748"
      },
      "source": [
        "arr.reshape(1, 10).mean(1)"
      ],
      "execution_count": null,
      "outputs": [
        {
          "output_type": "execute_result",
          "data": {
            "text/plain": [
              "array([0.64283829])"
            ]
          },
          "metadata": {},
          "execution_count": 65
        }
      ]
    },
    {
      "cell_type": "code",
      "metadata": {
        "colab": {
          "base_uri": "https://localhost:8080/"
        },
        "id": "cKmpW8dwY-26",
        "outputId": "0846996a-fabd-4027-ef7d-6fffeb668c43"
      },
      "source": [
        "arr"
      ],
      "execution_count": null,
      "outputs": [
        {
          "output_type": "execute_result",
          "data": {
            "text/plain": [
              "array([0.32631437, 0.00650167, 0.95368535, 0.87218186, 0.97967149,\n",
              "       0.93213979, 0.54723524, 0.65567215, 0.21352417, 0.94145684])"
            ]
          },
          "metadata": {},
          "execution_count": 66
        }
      ]
    },
    {
      "cell_type": "code",
      "metadata": {
        "colab": {
          "base_uri": "https://localhost:8080/"
        },
        "id": "6cY5W3bNZBNB",
        "outputId": "de1685f4-e09a-4c4a-cdd6-8a37a8c4926f"
      },
      "source": [
        "arr.shape"
      ],
      "execution_count": null,
      "outputs": [
        {
          "output_type": "execute_result",
          "data": {
            "text/plain": [
              "(10,)"
            ]
          },
          "metadata": {},
          "execution_count": 67
        }
      ]
    },
    {
      "cell_type": "code",
      "metadata": {
        "colab": {
          "base_uri": "https://localhost:8080/"
        },
        "id": "yrzAk9XOZEhh",
        "outputId": "2ccc5078-7a90-4dc3-91be-1054509517e1"
      },
      "source": [
        "arr.reshape(10, 1)"
      ],
      "execution_count": null,
      "outputs": [
        {
          "output_type": "execute_result",
          "data": {
            "text/plain": [
              "array([[0.32631437],\n",
              "       [0.00650167],\n",
              "       [0.95368535],\n",
              "       [0.87218186],\n",
              "       [0.97967149],\n",
              "       [0.93213979],\n",
              "       [0.54723524],\n",
              "       [0.65567215],\n",
              "       [0.21352417],\n",
              "       [0.94145684]])"
            ]
          },
          "metadata": {},
          "execution_count": 68
        }
      ]
    },
    {
      "cell_type": "code",
      "metadata": {
        "id": "lvMK1Re9ZN-B"
      },
      "source": [
        "rr"
      ],
      "execution_count": null,
      "outputs": []
    },
    {
      "cell_type": "code",
      "metadata": {
        "colab": {
          "base_uri": "https://localhost:8080/"
        },
        "id": "F2ROrbk5ZH6p",
        "outputId": "2255247d-3df1-4b73-b1e9-94e77a7e38a4"
      },
      "source": [
        "arr.reshape(1, 10)"
      ],
      "execution_count": null,
      "outputs": [
        {
          "output_type": "execute_result",
          "data": {
            "text/plain": [
              "array([[0.32631437, 0.00650167, 0.95368535, 0.87218186, 0.97967149,\n",
              "        0.93213979, 0.54723524, 0.65567215, 0.21352417, 0.94145684]])"
            ]
          },
          "metadata": {},
          "execution_count": 69
        }
      ]
    },
    {
      "cell_type": "code",
      "metadata": {
        "colab": {
          "base_uri": "https://localhost:8080/"
        },
        "id": "diK6GPDqZOox",
        "outputId": "47145716-657a-4f3e-8a32-7aa72a80ce87"
      },
      "source": [
        "arr.reshape(5,2)"
      ],
      "execution_count": null,
      "outputs": [
        {
          "output_type": "execute_result",
          "data": {
            "text/plain": [
              "array([[0.32631437, 0.00650167],\n",
              "       [0.95368535, 0.87218186],\n",
              "       [0.97967149, 0.93213979],\n",
              "       [0.54723524, 0.65567215],\n",
              "       [0.21352417, 0.94145684]])"
            ]
          },
          "metadata": {},
          "execution_count": 72
        }
      ]
    },
    {
      "cell_type": "code",
      "metadata": {
        "colab": {
          "base_uri": "https://localhost:8080/"
        },
        "id": "1ldYUQ3DZmKJ",
        "outputId": "47458693-acc4-4f0e-f9ca-4e4f12c5de8b"
      },
      "source": [
        "(1, 2, 3)"
      ],
      "execution_count": null,
      "outputs": [
        {
          "output_type": "execute_result",
          "data": {
            "text/plain": [
              "(1, 2, 3)"
            ]
          },
          "metadata": {},
          "execution_count": 73
        }
      ]
    },
    {
      "cell_type": "code",
      "metadata": {
        "id": "Zjw773gW5kK8",
        "colab": {
          "base_uri": "https://localhost:8080/"
        },
        "outputId": "d8c305ca-4906-4c49-967a-3c0aa0994df2"
      },
      "source": [
        "# sum\n",
        "X"
      ],
      "execution_count": null,
      "outputs": [
        {
          "output_type": "execute_result",
          "data": {
            "text/plain": [
              "array([[-1.82890463,  1.06565526, -1.12875225],\n",
              "       [-0.91568379, -1.29342681, -1.01032142],\n",
              "       [ 1.60369844,  1.35225899, -0.53959214],\n",
              "       [-0.77660804, -0.85147534, -0.42435312],\n",
              "       [ 1.17274498, -0.32917186, -0.78818525],\n",
              "       [-1.44505416, -0.84714716, -1.00706238],\n",
              "       [ 1.88635505, -0.52618847,  0.25058658],\n",
              "       [ 0.45642826,  2.52368713,  0.96305803],\n",
              "       [ 0.90839888,  0.60980247, -2.88053764],\n",
              "       [ 1.66324353,  0.25401728, -0.1689418 ]])"
            ]
          },
          "metadata": {},
          "execution_count": 76
        }
      ]
    },
    {
      "cell_type": "code",
      "metadata": {
        "colab": {
          "base_uri": "https://localhost:8080/"
        },
        "id": "_elSsjnYZukZ",
        "outputId": "77bbcab5-34df-4d33-941c-a488b1244b72"
      },
      "source": [
        "X.sum()"
      ],
      "execution_count": null,
      "outputs": [
        {
          "output_type": "execute_result",
          "data": {
            "text/plain": [
              "-2.051471387009977"
            ]
          },
          "metadata": {},
          "execution_count": 77
        }
      ]
    },
    {
      "cell_type": "code",
      "metadata": {
        "colab": {
          "base_uri": "https://localhost:8080/"
        },
        "id": "IW40pd20ZwVR",
        "outputId": "8fe2e956-70e6-4351-9e6a-c1c810065c07"
      },
      "source": [
        "X.sum(0)"
      ],
      "execution_count": null,
      "outputs": [
        {
          "output_type": "execute_result",
          "data": {
            "text/plain": [
              "array([ 2.7246185 ,  1.9580115 , -6.73410139])"
            ]
          },
          "metadata": {},
          "execution_count": 78
        }
      ]
    },
    {
      "cell_type": "code",
      "metadata": {
        "colab": {
          "base_uri": "https://localhost:8080/"
        },
        "id": "Uxc_ux9kZyMh",
        "outputId": "4f222ec9-e174-4ca5-d0ca-af04c125c758"
      },
      "source": [
        "X.sum(1)"
      ],
      "execution_count": null,
      "outputs": [
        {
          "output_type": "execute_result",
          "data": {
            "text/plain": [
              "array([-1.89200162, -3.21943201,  2.41636529, -2.05243649,  0.05538787,\n",
              "       -3.2992637 ,  1.61075316,  3.94317342, -1.36233629,  1.748319  ])"
            ]
          },
          "metadata": {},
          "execution_count": 79
        }
      ]
    },
    {
      "cell_type": "code",
      "metadata": {
        "colab": {
          "base_uri": "https://localhost:8080/"
        },
        "id": "IiEP9vOTZz7p",
        "outputId": "22c58bac-e9b0-4340-91ab-44253fcb15e6"
      },
      "source": [
        "X.std(1)"
      ],
      "execution_count": null,
      "outputs": [
        {
          "output_type": "execute_result",
          "data": {
            "text/plain": [
              "array([1.2330682 , 0.16048355, 0.95661539, 0.18622628, 0.83743622,\n",
              "       0.25274108, 1.00551171, 0.87975983, 1.72006698, 0.78327773])"
            ]
          },
          "metadata": {},
          "execution_count": 81
        }
      ]
    },
    {
      "cell_type": "code",
      "metadata": {
        "id": "hEbZW50-w7SP",
        "colab": {
          "base_uri": "https://localhost:8080/"
        },
        "outputId": "7e62e1c2-9b52-4204-df20-3cc98a739fa7"
      },
      "source": [
        "# elementwise\n",
        "B = np.random.multivariate_normal([0, 0, 0], np.eye(3), size=10)\n",
        "B"
      ],
      "execution_count": null,
      "outputs": [
        {
          "output_type": "execute_result",
          "data": {
            "text/plain": [
              "array([[-2.23119555,  0.46157258, -0.05138281],\n",
              "       [-1.08444373, -1.19246922, -0.19784552],\n",
              "       [ 1.90832559,  0.2691867 ,  0.52265587],\n",
              "       [ 0.20222706,  1.47446079, -0.21529916],\n",
              "       [ 0.97036273,  0.06226799, -0.33270971],\n",
              "       [-1.20601966,  1.4858353 , -0.04797615],\n",
              "       [ 0.62573905,  0.46792105,  0.80081557],\n",
              "       [-0.07818923,  0.18479151,  0.97738819],\n",
              "       [ 2.20464587,  0.42908422,  1.24109902],\n",
              "       [ 0.16347549, -0.33438322, -0.80161614]])"
            ]
          },
          "metadata": {},
          "execution_count": 84
        }
      ]
    },
    {
      "cell_type": "code",
      "metadata": {
        "colab": {
          "base_uri": "https://localhost:8080/"
        },
        "id": "0tl20t5zaiAC",
        "outputId": "206594b9-cfbf-45e7-c966-0966a131cf86"
      },
      "source": [
        "X"
      ],
      "execution_count": null,
      "outputs": [
        {
          "output_type": "execute_result",
          "data": {
            "text/plain": [
              "array([[-1.82890463,  1.06565526, -1.12875225],\n",
              "       [-0.91568379, -1.29342681, -1.01032142],\n",
              "       [ 1.60369844,  1.35225899, -0.53959214],\n",
              "       [-0.77660804, -0.85147534, -0.42435312],\n",
              "       [ 1.17274498, -0.32917186, -0.78818525],\n",
              "       [-1.44505416, -0.84714716, -1.00706238],\n",
              "       [ 1.88635505, -0.52618847,  0.25058658],\n",
              "       [ 0.45642826,  2.52368713,  0.96305803],\n",
              "       [ 0.90839888,  0.60980247, -2.88053764],\n",
              "       [ 1.66324353,  0.25401728, -0.1689418 ]])"
            ]
          },
          "metadata": {},
          "execution_count": 86
        }
      ]
    },
    {
      "cell_type": "code",
      "metadata": {
        "colab": {
          "base_uri": "https://localhost:8080/"
        },
        "id": "meIPMBp-Z9uT",
        "outputId": "635f2aeb-1e22-41d9-8c7a-f1d2ae5495b8"
      },
      "source": [
        "X + B"
      ],
      "execution_count": null,
      "outputs": [
        {
          "output_type": "execute_result",
          "data": {
            "text/plain": [
              "array([[-4.06010018,  1.52722784, -1.18013506],\n",
              "       [-2.00012752, -2.48589602, -1.20816693],\n",
              "       [ 3.51202402,  1.6214457 , -0.01693628],\n",
              "       [-0.57438098,  0.62298545, -0.63965228],\n",
              "       [ 2.14310771, -0.26690387, -1.12089496],\n",
              "       [-2.65107382,  0.63868814, -1.05503853],\n",
              "       [ 2.51209409, -0.05826742,  1.05140215],\n",
              "       [ 0.37823902,  2.70847864,  1.94044622],\n",
              "       [ 3.11304475,  1.0388867 , -1.63943862],\n",
              "       [ 1.82671901, -0.08036594, -0.97055794]])"
            ]
          },
          "metadata": {},
          "execution_count": 85
        }
      ]
    },
    {
      "cell_type": "code",
      "metadata": {
        "colab": {
          "base_uri": "https://localhost:8080/"
        },
        "id": "RBHF3TJ2artK",
        "outputId": "f0602227-a1b8-4229-c485-faeb289e9961"
      },
      "source": [
        "X - B"
      ],
      "execution_count": null,
      "outputs": [
        {
          "output_type": "execute_result",
          "data": {
            "text/plain": [
              "array([[ 0.40229092,  0.60408268, -1.07736944],\n",
              "       [ 0.16875994, -0.10095759, -0.8124759 ],\n",
              "       [-0.30462715,  1.08307229, -1.06224801],\n",
              "       [-0.9788351 , -2.32593613, -0.20905395],\n",
              "       [ 0.20238225, -0.39143985, -0.45547554],\n",
              "       [-0.2390345 , -2.33298247, -0.95908623],\n",
              "       [ 1.260616  , -0.99410952, -0.55022899],\n",
              "       [ 0.53461749,  2.33889562, -0.01433016],\n",
              "       [-1.29624699,  0.18071825, -4.12163666],\n",
              "       [ 1.49976804,  0.5884005 ,  0.63267434]])"
            ]
          },
          "metadata": {},
          "execution_count": 87
        }
      ]
    },
    {
      "cell_type": "code",
      "metadata": {
        "colab": {
          "base_uri": "https://localhost:8080/"
        },
        "id": "rInlcOaLas8z",
        "outputId": "b56d327e-093b-4570-f7a2-0b678554b633"
      },
      "source": [
        "X / B"
      ],
      "execution_count": null,
      "outputs": [
        {
          "output_type": "execute_result",
          "data": {
            "text/plain": [
              "array([[ 0.81969715,  2.30874908, 21.96750801],\n",
              "       [ 0.8443811 ,  1.08466264,  5.1066177 ],\n",
              "       [ 0.8403694 ,  5.02349846, -1.03240426],\n",
              "       [-3.84027761, -0.57748252,  1.97099288],\n",
              "       [ 1.20856351, -5.28637351,  2.36898782],\n",
              "       [ 1.19820117, -0.57014876, 20.99089604],\n",
              "       [ 3.01460337, -1.12452403,  0.31291422],\n",
              "       [-5.83748232, 13.65694313,  0.98533831],\n",
              "       [ 0.41203846,  1.42117196, -2.32095714],\n",
              "       [10.17426873, -0.75965917,  0.2107515 ]])"
            ]
          },
          "metadata": {},
          "execution_count": 88
        }
      ]
    },
    {
      "cell_type": "code",
      "metadata": {
        "colab": {
          "base_uri": "https://localhost:8080/"
        },
        "id": "Axpvpx-za1gC",
        "outputId": "96f83878-27fa-4530-b652-0b4b788ff43d"
      },
      "source": [
        "X * B"
      ],
      "execution_count": null,
      "outputs": [
        {
          "output_type": "execute_result",
          "data": {
            "text/plain": [
              "array([[ 4.08064388,  0.49187725,  0.05799846],\n",
              "       [ 0.99300754,  1.54237165,  0.19988756],\n",
              "       [ 3.06037876,  0.36401014, -0.282021  ],\n",
              "       [-0.15705116, -1.255467  ,  0.09136287],\n",
              "       [ 1.13798802, -0.02049687,  0.26223689],\n",
              "       [ 1.74276373, -1.25872116,  0.04831498],\n",
              "       [ 1.18036601, -0.24621466,  0.20067363],\n",
              "       [-0.03568777,  0.46635595,  0.94128155],\n",
              "       [ 2.00269784,  0.26165662, -3.57503245],\n",
              "       [ 0.27189954, -0.08493912,  0.13542648]])"
            ]
          },
          "metadata": {},
          "execution_count": 89
        }
      ]
    },
    {
      "cell_type": "code",
      "metadata": {
        "id": "84k1nlZEHCVx"
      },
      "source": [
        "# scalars"
      ],
      "execution_count": null,
      "outputs": []
    },
    {
      "cell_type": "code",
      "metadata": {
        "id": "zew_LsMybesi"
      },
      "source": [
        "s = 100.0"
      ],
      "execution_count": null,
      "outputs": []
    },
    {
      "cell_type": "code",
      "metadata": {
        "colab": {
          "base_uri": "https://localhost:8080/"
        },
        "id": "e7OVUzIcbgAK",
        "outputId": "4d849b0a-e922-4563-9baa-cb60e98cda1d"
      },
      "source": [
        "s*X"
      ],
      "execution_count": null,
      "outputs": [
        {
          "output_type": "execute_result",
          "data": {
            "text/plain": [
              "array([[-182.89046338,  106.56552615, -112.87522473],\n",
              "       [ -91.56837883, -129.34268065, -101.0321418 ],\n",
              "       [ 160.36984353,  135.22589947,  -53.95921429],\n",
              "       [ -77.66080392,  -85.14753385,  -42.43531162],\n",
              "       [ 117.27449795,  -32.91718612,  -78.81852488],\n",
              "       [-144.50541629,  -84.71471626, -100.70623794],\n",
              "       [ 188.63550453,  -52.61884674,   25.05865785],\n",
              "       [  45.64282559,  252.36871303,   96.30580321],\n",
              "       [  90.83988805,   60.98024701, -288.0537639 ],\n",
              "       [ 166.32435265,   25.40172789,  -16.89418041]])"
            ]
          },
          "metadata": {},
          "execution_count": 92
        }
      ]
    },
    {
      "cell_type": "code",
      "metadata": {
        "colab": {
          "base_uri": "https://localhost:8080/"
        },
        "id": "NTcjkikhbtKS",
        "outputId": "1680a061-cfbb-42c9-e046-f1acfb963b22"
      },
      "source": [
        "s + X"
      ],
      "execution_count": null,
      "outputs": [
        {
          "output_type": "execute_result",
          "data": {
            "text/plain": [
              "array([[ 98.17109537, 101.06565526,  98.87124775],\n",
              "       [ 99.08431621,  98.70657319,  98.98967858],\n",
              "       [101.60369844, 101.35225899,  99.46040786],\n",
              "       [ 99.22339196,  99.14852466,  99.57564688],\n",
              "       [101.17274498,  99.67082814,  99.21181475],\n",
              "       [ 98.55494584,  99.15285284,  98.99293762],\n",
              "       [101.88635505,  99.47381153, 100.25058658],\n",
              "       [100.45642826, 102.52368713, 100.96305803],\n",
              "       [100.90839888, 100.60980247,  97.11946236],\n",
              "       [101.66324353, 100.25401728,  99.8310582 ]])"
            ]
          },
          "metadata": {},
          "execution_count": 93
        }
      ]
    },
    {
      "cell_type": "code",
      "metadata": {
        "colab": {
          "base_uri": "https://localhost:8080/"
        },
        "id": "X6lvhMcSbuha",
        "outputId": "70d67541-f3ad-4a91-f041-b18e04827f49"
      },
      "source": [
        "s / X"
      ],
      "execution_count": null,
      "outputs": [
        {
          "output_type": "execute_result",
          "data": {
            "text/plain": [
              "array([[ -54.67753657,   93.8389774 ,  -88.59340058],\n",
              "       [-109.2080053 ,  -77.31399991,  -98.97840254],\n",
              "       [  62.35586305,   73.95033081, -185.32515959],\n",
              "       [-128.76508476, -117.44321354, -235.65279995],\n",
              "       [  85.27003035, -303.79267428, -126.87372689],\n",
              "       [ -69.20155837, -118.04324492,  -99.2987148 ],\n",
              "       [  53.01228963, -190.04597439,  399.06367138],\n",
              "       [ 219.09248321,   39.62456312,  103.83590258],\n",
              "       [ 110.08379925,  163.98752859,  -34.71574148],\n",
              "       [  60.12348667,  393.67400693, -591.91980666]])"
            ]
          },
          "metadata": {},
          "execution_count": 94
        }
      ]
    },
    {
      "cell_type": "code",
      "metadata": {
        "id": "TfbbtNsatYru"
      },
      "source": [
        "# broadcasting"
      ],
      "execution_count": null,
      "outputs": []
    },
    {
      "cell_type": "code",
      "metadata": {
        "id": "icyhWrTnyPzr",
        "colab": {
          "base_uri": "https://localhost:8080/"
        },
        "outputId": "7a56740a-72ad-43a7-fe46-47e0d9cc8a2d"
      },
      "source": [
        "W = np.random.randint(0, 10, 30).reshape(10, 3)\n",
        "W"
      ],
      "execution_count": null,
      "outputs": [
        {
          "output_type": "execute_result",
          "data": {
            "text/plain": [
              "array([[4, 6, 3],\n",
              "       [0, 0, 2],\n",
              "       [6, 4, 2],\n",
              "       [7, 0, 0],\n",
              "       [5, 2, 9],\n",
              "       [1, 3, 9],\n",
              "       [3, 8, 0],\n",
              "       [6, 1, 9],\n",
              "       [8, 0, 7],\n",
              "       [4, 1, 0]])"
            ]
          },
          "metadata": {},
          "execution_count": 95
        }
      ]
    },
    {
      "cell_type": "code",
      "metadata": {
        "id": "XON9_3I3x8ou",
        "colab": {
          "base_uri": "https://localhost:8080/"
        },
        "outputId": "2293814b-f3bf-4ace-880f-f552a01d0273"
      },
      "source": [
        "y = np.random.randint(0, 10, 10)\n",
        "y"
      ],
      "execution_count": null,
      "outputs": [
        {
          "output_type": "execute_result",
          "data": {
            "text/plain": [
              "array([5, 4, 4, 1, 4, 5, 5, 1, 2, 9])"
            ]
          },
          "metadata": {},
          "execution_count": 96
        }
      ]
    },
    {
      "cell_type": "code",
      "metadata": {
        "id": "Rx7j11R0yp2I",
        "colab": {
          "base_uri": "https://localhost:8080/"
        },
        "outputId": "6eada664-b335-47e3-f4ee-f2b84ab63aaf"
      },
      "source": [
        "y = y.reshape(10, 1)\n",
        "y"
      ],
      "execution_count": null,
      "outputs": [
        {
          "output_type": "execute_result",
          "data": {
            "text/plain": [
              "array([[5],\n",
              "       [4],\n",
              "       [4],\n",
              "       [1],\n",
              "       [4],\n",
              "       [5],\n",
              "       [5],\n",
              "       [1],\n",
              "       [2],\n",
              "       [9]])"
            ]
          },
          "metadata": {},
          "execution_count": 97
        }
      ]
    },
    {
      "cell_type": "code",
      "metadata": {
        "id": "hF6UCa6oyFfZ",
        "colab": {
          "base_uri": "https://localhost:8080/"
        },
        "outputId": "510580d7-0351-449e-ea5b-287f7d311f4c"
      },
      "source": [
        "z = np.random.randint(0, 10, 3)\n",
        "z"
      ],
      "execution_count": null,
      "outputs": [
        {
          "output_type": "execute_result",
          "data": {
            "text/plain": [
              "array([4, 8, 5])"
            ]
          },
          "metadata": {},
          "execution_count": 98
        }
      ]
    },
    {
      "cell_type": "code",
      "metadata": {
        "id": "I8l_jIYMytx0",
        "colab": {
          "base_uri": "https://localhost:8080/"
        },
        "outputId": "855a0d40-4e23-4e89-ccae-2e5da77ab7ba"
      },
      "source": [
        "z = z.reshape(1, 3)\n",
        "z"
      ],
      "execution_count": null,
      "outputs": [
        {
          "output_type": "execute_result",
          "data": {
            "text/plain": [
              "array([[4, 8, 5]])"
            ]
          },
          "metadata": {},
          "execution_count": 99
        }
      ]
    },
    {
      "cell_type": "markdown",
      "metadata": {
        "id": "yaIdi47Ay8lF"
      },
      "source": [
        "#### Broadcast y over W"
      ]
    },
    {
      "cell_type": "code",
      "metadata": {
        "id": "5qNk-Ti_y5nc",
        "colab": {
          "base_uri": "https://localhost:8080/"
        },
        "outputId": "11913a6a-8e33-4196-cd4d-68c5426dea7a"
      },
      "source": [
        "W"
      ],
      "execution_count": null,
      "outputs": [
        {
          "output_type": "execute_result",
          "data": {
            "text/plain": [
              "array([[4, 6, 3],\n",
              "       [0, 0, 2],\n",
              "       [6, 4, 2],\n",
              "       [7, 0, 0],\n",
              "       [5, 2, 9],\n",
              "       [1, 3, 9],\n",
              "       [3, 8, 0],\n",
              "       [6, 1, 9],\n",
              "       [8, 0, 7],\n",
              "       [4, 1, 0]])"
            ]
          },
          "metadata": {},
          "execution_count": 100
        }
      ]
    },
    {
      "cell_type": "code",
      "metadata": {
        "id": "XB83ouNGy683",
        "colab": {
          "base_uri": "https://localhost:8080/"
        },
        "outputId": "051dbc11-a054-4183-b01f-48cdd7965737"
      },
      "source": [
        "y"
      ],
      "execution_count": null,
      "outputs": [
        {
          "output_type": "execute_result",
          "data": {
            "text/plain": [
              "array([[5],\n",
              "       [4],\n",
              "       [4],\n",
              "       [1],\n",
              "       [4],\n",
              "       [5],\n",
              "       [5],\n",
              "       [1],\n",
              "       [2],\n",
              "       [9]])"
            ]
          },
          "metadata": {},
          "execution_count": 101
        }
      ]
    },
    {
      "cell_type": "code",
      "metadata": {
        "id": "8hM11_nNyHMy",
        "colab": {
          "base_uri": "https://localhost:8080/"
        },
        "outputId": "c21799b5-bc9d-4629-c2e2-4ed0ecf0f5bb"
      },
      "source": [
        "y * W"
      ],
      "execution_count": null,
      "outputs": [
        {
          "output_type": "execute_result",
          "data": {
            "text/plain": [
              "array([[20, 30, 15],\n",
              "       [ 0,  0,  8],\n",
              "       [24, 16,  8],\n",
              "       [ 7,  0,  0],\n",
              "       [20,  8, 36],\n",
              "       [ 5, 15, 45],\n",
              "       [15, 40,  0],\n",
              "       [ 6,  1,  9],\n",
              "       [16,  0, 14],\n",
              "       [36,  9,  0]])"
            ]
          },
          "metadata": {},
          "execution_count": 102
        }
      ]
    },
    {
      "cell_type": "markdown",
      "metadata": {
        "id": "7eYZOrZfzBJK"
      },
      "source": [
        "#### Broadcast z over W"
      ]
    },
    {
      "cell_type": "code",
      "metadata": {
        "id": "-fOBj6UczETo",
        "colab": {
          "base_uri": "https://localhost:8080/"
        },
        "outputId": "c22016bc-7e98-4536-befd-ebfb8292a08d"
      },
      "source": [
        "W"
      ],
      "execution_count": null,
      "outputs": [
        {
          "output_type": "execute_result",
          "data": {
            "text/plain": [
              "array([[4, 6, 3],\n",
              "       [0, 0, 2],\n",
              "       [6, 4, 2],\n",
              "       [7, 0, 0],\n",
              "       [5, 2, 9],\n",
              "       [1, 3, 9],\n",
              "       [3, 8, 0],\n",
              "       [6, 1, 9],\n",
              "       [8, 0, 7],\n",
              "       [4, 1, 0]])"
            ]
          },
          "metadata": {},
          "execution_count": 103
        }
      ]
    },
    {
      "cell_type": "code",
      "metadata": {
        "id": "kca9pz_XzGjG",
        "colab": {
          "base_uri": "https://localhost:8080/"
        },
        "outputId": "b84d0a21-b06f-4166-8494-cc747f55643e"
      },
      "source": [
        "z"
      ],
      "execution_count": null,
      "outputs": [
        {
          "output_type": "execute_result",
          "data": {
            "text/plain": [
              "array([[4, 8, 5]])"
            ]
          },
          "metadata": {},
          "execution_count": 104
        }
      ]
    },
    {
      "cell_type": "code",
      "metadata": {
        "id": "fzedmW9ZzIZJ",
        "colab": {
          "base_uri": "https://localhost:8080/"
        },
        "outputId": "12c55b0d-44c6-4d18-8666-a3e0439ffbba"
      },
      "source": [
        "z * W"
      ],
      "execution_count": null,
      "outputs": [
        {
          "output_type": "execute_result",
          "data": {
            "text/plain": [
              "array([[16, 48, 15],\n",
              "       [ 0,  0, 10],\n",
              "       [24, 32, 10],\n",
              "       [28,  0,  0],\n",
              "       [20, 16, 45],\n",
              "       [ 4, 24, 45],\n",
              "       [12, 64,  0],\n",
              "       [24,  8, 45],\n",
              "       [32,  0, 35],\n",
              "       [16,  8,  0]])"
            ]
          },
          "metadata": {},
          "execution_count": 105
        }
      ]
    },
    {
      "cell_type": "markdown",
      "metadata": {
        "id": "-6oc1diLuXAN"
      },
      "source": [
        "## Data as arrays"
      ]
    },
    {
      "cell_type": "code",
      "metadata": {
        "id": "XemG2-85uaLv"
      },
      "source": [
        "from scipy import misc\n",
        "import matplotlib.pyplot as plt"
      ],
      "execution_count": null,
      "outputs": []
    },
    {
      "cell_type": "code",
      "metadata": {
        "id": "QefxCpZ5uc4r"
      },
      "source": [
        "img = misc.face()"
      ],
      "execution_count": null,
      "outputs": []
    },
    {
      "cell_type": "code",
      "metadata": {
        "id": "UAKqM0jzufZr",
        "colab": {
          "base_uri": "https://localhost:8080/"
        },
        "outputId": "cf67e051-793c-44cd-d083-afdddad6446a"
      },
      "source": [
        "img.shape"
      ],
      "execution_count": null,
      "outputs": [
        {
          "output_type": "execute_result",
          "data": {
            "text/plain": [
              "(768, 1024, 3)"
            ]
          },
          "metadata": {},
          "execution_count": 109
        }
      ]
    },
    {
      "cell_type": "code",
      "metadata": {
        "id": "vGyjNjlEc8Iy"
      },
      "source": [
        ""
      ],
      "execution_count": null,
      "outputs": []
    },
    {
      "cell_type": "code",
      "metadata": {
        "id": "NxWiot4SujRL",
        "colab": {
          "base_uri": "https://localhost:8080/",
          "height": 286
        },
        "outputId": "ed93dc3a-13b6-4754-e389-bad22182a7d4"
      },
      "source": [
        "plt.imshow(img)"
      ],
      "execution_count": null,
      "outputs": [
        {
          "output_type": "execute_result",
          "data": {
            "text/plain": [
              "<matplotlib.image.AxesImage at 0x7f8579fa0990>"
            ]
          },
          "metadata": {},
          "execution_count": 110
        },
        {
          "output_type": "display_data",
          "data": {
            "image/png": "[encoded data removed]",
            "text/plain": [
              "<Figure size 432x288 with 1 Axes>"
            ]
          },
          "metadata": {
            "needs_background": "light"
          }
        }
      ]
    },
    {
      "cell_type": "code",
      "metadata": {
        "colab": {
          "base_uri": "https://localhost:8080/"
        },
        "id": "hJa8HclwdEOq",
        "outputId": "931dc911-4690-4738-a106-97c675d56b49"
      },
      "source": [
        "img"
      ],
      "execution_count": null,
      "outputs": [
        {
          "output_type": "execute_result",
          "data": {
            "text/plain": [
              "array([[[121, 112, 131],\n",
              "        [138, 129, 148],\n",
              "        [153, 144, 165],\n",
              "        ...,\n",
              "        [119, 126,  74],\n",
              "        [131, 136,  82],\n",
              "        [139, 144,  90]],\n",
              "\n",
              "       [[ 89,  82, 100],\n",
              "        [110, 103, 121],\n",
              "        [130, 122, 143],\n",
              "        ...,\n",
              "        [118, 125,  71],\n",
              "        [134, 141,  87],\n",
              "        [146, 153,  99]],\n",
              "\n",
              "       [[ 73,  66,  84],\n",
              "        [ 94,  87, 105],\n",
              "        [115, 108, 126],\n",
              "        ...,\n",
              "        [117, 126,  71],\n",
              "        [133, 142,  87],\n",
              "        [144, 153,  98]],\n",
              "\n",
              "       ...,\n",
              "\n",
              "       [[ 87, 106,  76],\n",
              "        [ 94, 110,  81],\n",
              "        [107, 124,  92],\n",
              "        ...,\n",
              "        [120, 158,  97],\n",
              "        [119, 157,  96],\n",
              "        [119, 158,  95]],\n",
              "\n",
              "       [[ 85, 101,  72],\n",
              "        [ 95, 111,  82],\n",
              "        [112, 127,  96],\n",
              "        ...,\n",
              "        [121, 157,  96],\n",
              "        [120, 156,  94],\n",
              "        [120, 156,  94]],\n",
              "\n",
              "       [[ 85, 101,  74],\n",
              "        [ 97, 113,  84],\n",
              "        [111, 126,  97],\n",
              "        ...,\n",
              "        [120, 156,  95],\n",
              "        [119, 155,  93],\n",
              "        [118, 154,  92]]], dtype=uint8)"
            ]
          },
          "metadata": {},
          "execution_count": 111
        }
      ]
    },
    {
      "cell_type": "markdown",
      "metadata": {
        "id": "grGcwPQbuvCy"
      },
      "source": [
        "## Linear Algebra"
      ]
    },
    {
      "cell_type": "code",
      "metadata": {
        "id": "aMMw1Yq0vSJ_"
      },
      "source": [
        "A = np.random.multivariate_normal([0, 0], np.eye(2), size=3)\n",
        "B = np.random.multivariate_normal([0, 0, 0], np.eye(3), size=2)"
      ],
      "execution_count": null,
      "outputs": []
    },
    {
      "cell_type": "code",
      "metadata": {
        "id": "0-n9fnpqvefS",
        "colab": {
          "base_uri": "https://localhost:8080/"
        },
        "outputId": "8d7d8b34-295f-4fe0-8c9d-811eb567c5d1"
      },
      "source": [
        "A"
      ],
      "execution_count": null,
      "outputs": [
        {
          "output_type": "execute_result",
          "data": {
            "text/plain": [
              "array([[-0.38505198,  0.54509743],\n",
              "       [ 1.98924323,  0.69983352],\n",
              "       [ 0.46672357, -1.75687763]])"
            ]
          },
          "metadata": {},
          "execution_count": 113
        }
      ]
    },
    {
      "cell_type": "code",
      "metadata": {
        "id": "RghaeG9xviP-",
        "colab": {
          "base_uri": "https://localhost:8080/"
        },
        "outputId": "3919966a-7d32-442f-8a72-5ae2ed200559"
      },
      "source": [
        "B"
      ],
      "execution_count": null,
      "outputs": [
        {
          "output_type": "execute_result",
          "data": {
            "text/plain": [
              "array([[ 2.00393586,  1.85706989,  1.63487302],\n",
              "       [-0.40310732,  1.12084371, -2.21343712]])"
            ]
          },
          "metadata": {},
          "execution_count": 114
        }
      ]
    },
    {
      "cell_type": "code",
      "metadata": {
        "id": "tswjpoFPvJra",
        "colab": {
          "base_uri": "https://localhost:8080/"
        },
        "outputId": "a5327414-60cd-4ded-ffc3-96b2e6344f56"
      },
      "source": [
        "# transpose\n",
        "A.transpose()"
      ],
      "execution_count": null,
      "outputs": [
        {
          "output_type": "execute_result",
          "data": {
            "text/plain": [
              "array([[-0.38505198,  1.98924323,  0.46672357],\n",
              "       [ 0.54509743,  0.69983352, -1.75687763]])"
            ]
          },
          "metadata": {},
          "execution_count": 115
        }
      ]
    },
    {
      "cell_type": "code",
      "metadata": {
        "id": "BxPrUCRLu7If",
        "colab": {
          "base_uri": "https://localhost:8080/"
        },
        "outputId": "b778a6a8-b349-4f84-fd81-ba24e94ae6a1"
      },
      "source": [
        "# dot product\n",
        "x = np.random.randint(0, 5, 10)\n",
        "y = np.random.randint(0, 5, 10)\n",
        "print(x)\n",
        "print(y)"
      ],
      "execution_count": null,
      "outputs": [
        {
          "output_type": "stream",
          "name": "stdout",
          "text": [
            "[3 2 2 1 0 2 4 0 0 4]\n",
            "[3 3 2 2 3 4 0 2 3 2]\n"
          ]
        }
      ]
    },
    {
      "cell_type": "code",
      "metadata": {
        "colab": {
          "base_uri": "https://localhost:8080/"
        },
        "id": "nbujPeJ6dn_6",
        "outputId": "00994ae2-0c1f-4040-8fce-2bb2e595f94e"
      },
      "source": [
        "np.dot(x, y)"
      ],
      "execution_count": null,
      "outputs": [
        {
          "output_type": "execute_result",
          "data": {
            "text/plain": [
              "37"
            ]
          },
          "metadata": {},
          "execution_count": 119
        }
      ]
    },
    {
      "cell_type": "code",
      "metadata": {
        "id": "73rMaNNhvLlp",
        "colab": {
          "base_uri": "https://localhost:8080/"
        },
        "outputId": "3a1f1bdb-7e54-46e9-e60c-d522d1266455"
      },
      "source": [
        "# matrix multiplication\n",
        "np.matmul(A, B)"
      ],
      "execution_count": null,
      "outputs": [
        {
          "output_type": "execute_result",
          "data": {
            "text/plain": [
              "array([[-0.99135224, -0.10409941, -1.83604998],\n",
              "       [ 3.70420784,  4.4785677 ,  1.70312261],\n",
              "       [ 1.64349433, -1.10244695,  4.65177194]])"
            ]
          },
          "metadata": {},
          "execution_count": 120
        }
      ]
    },
    {
      "cell_type": "code",
      "metadata": {
        "colab": {
          "base_uri": "https://localhost:8080/"
        },
        "id": "7DHcg6fCd05r",
        "outputId": "fa3eda9e-c37f-4ae1-ad64-167ab9f99527"
      },
      "source": [
        "A.shape"
      ],
      "execution_count": null,
      "outputs": [
        {
          "output_type": "execute_result",
          "data": {
            "text/plain": [
              "(3, 2)"
            ]
          },
          "metadata": {},
          "execution_count": 121
        }
      ]
    },
    {
      "cell_type": "code",
      "metadata": {
        "colab": {
          "base_uri": "https://localhost:8080/"
        },
        "id": "BDN2RZIwd1_b",
        "outputId": "dbd18ae9-9d2d-48f0-df5b-f956009dad34"
      },
      "source": [
        "B.shape"
      ],
      "execution_count": null,
      "outputs": [
        {
          "output_type": "execute_result",
          "data": {
            "text/plain": [
              "(2, 3)"
            ]
          },
          "metadata": {},
          "execution_count": 122
        }
      ]
    },
    {
      "cell_type": "code",
      "metadata": {
        "id": "6xCrQmKJvzj3",
        "colab": {
          "base_uri": "https://localhost:8080/"
        },
        "outputId": "7f625ab4-ff47-4fbf-ed9b-c6cccf3bae19"
      },
      "source": [
        "# function and @ operator\n",
        "A @ B"
      ],
      "execution_count": null,
      "outputs": [
        {
          "output_type": "execute_result",
          "data": {
            "text/plain": [
              "array([[-0.99135224, -0.10409941, -1.83604998],\n",
              "       [ 3.70420784,  4.4785677 ,  1.70312261],\n",
              "       [ 1.64349433, -1.10244695,  4.65177194]])"
            ]
          },
          "metadata": {},
          "execution_count": 123
        }
      ]
    },
    {
      "cell_type": "code",
      "metadata": {
        "id": "lSzv8kQHwZmF"
      },
      "source": [
        "# inverse/determinant "
      ],
      "execution_count": null,
      "outputs": []
    },
    {
      "cell_type": "code",
      "metadata": {
        "id": "Gth0ydY_wc1d",
        "colab": {
          "base_uri": "https://localhost:8080/"
        },
        "outputId": "e318f08f-308a-4bcd-d7f3-9571d12a648c"
      },
      "source": [
        "C = np.random.multivariate_normal([0, 0, 0], np.eye(3), size=3)\n",
        "C"
      ],
      "execution_count": null,
      "outputs": [
        {
          "output_type": "execute_result",
          "data": {
            "text/plain": [
              "array([[-0.77319442, -0.04930552, -1.25451293],\n",
              "       [ 0.27304104,  0.21373028,  1.53260726],\n",
              "       [ 0.02011396,  0.8842226 , -0.136088  ]])"
            ]
          },
          "metadata": {},
          "execution_count": 124
        }
      ]
    },
    {
      "cell_type": "code",
      "metadata": {
        "id": "ZGkC6MSMwoIQ",
        "colab": {
          "base_uri": "https://localhost:8080/"
        },
        "outputId": "94b846a4-822d-4237-d8ed-b4fdb8d3fc8b"
      },
      "source": [
        "np.linalg.inv(C)"
      ],
      "execution_count": null,
      "outputs": [
        {
          "output_type": "execute_result",
          "data": {
            "text/plain": [
              "array([[-1.79898877, -1.45033764,  0.25025485],\n",
              "       [ 0.08835326,  0.16954162,  1.09488281],\n",
              "       [ 0.3081768 ,  0.88722372, -0.19727132]])"
            ]
          },
          "metadata": {},
          "execution_count": 125
        }
      ]
    },
    {
      "cell_type": "code",
      "metadata": {
        "id": "sZA4ll3kwrRt",
        "colab": {
          "base_uri": "https://localhost:8080/"
        },
        "outputId": "b34383dc-1197-4d6f-a394-381779e11b34"
      },
      "source": [
        "np.linalg.det(C)"
      ],
      "execution_count": null,
      "outputs": [
        {
          "output_type": "execute_result",
          "data": {
            "text/plain": [
              "0.7694612245078291"
            ]
          },
          "metadata": {},
          "execution_count": 126
        }
      ]
    },
    {
      "cell_type": "markdown",
      "metadata": {
        "id": "aIJYR70ZtceZ"
      },
      "source": [
        "# In-class activity"
      ]
    },
    {
      "cell_type": "markdown",
      "metadata": {
        "id": "Cq9_xFg9zgIP"
      },
      "source": [
        "write a function using numpy to implement mean squared error between to arrays each of size `n`"
      ]
    },
    {
      "cell_type": "markdown",
      "metadata": {
        "id": "0827INUSxVE3"
      },
      "source": [
        "![image.png](data:image/png;base64,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)"
      ]
    },
    {
      "cell_type": "code",
      "metadata": {
        "id": "a2q4UQ9swnSb"
      },
      "source": [
        "def mean_squared_error(y_true, y_hat):\n",
        "  pass"
      ],
      "execution_count": null,
      "outputs": []
    },
    {
      "cell_type": "code",
      "metadata": {
        "id": "ENG3p0oGxdaw"
      },
      "source": [
        ""
      ],
      "execution_count": null,
      "outputs": []
    },
    {
      "cell_type": "code",
      "metadata": {
        "id": "4z9Ik5Ivy2eE"
      },
      "source": [
        ""
      ],
      "execution_count": null,
      "outputs": []
    },
    {
      "cell_type": "code",
      "metadata": {
        "id": "w9ceaIAqVzJ4"
      },
      "source": [
        ""
      ],
      "execution_count": null,
      "outputs": []
    }
  ]
}
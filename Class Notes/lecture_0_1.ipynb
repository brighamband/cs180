{
  "nbformat": 4,
  "nbformat_minor": 0,
  "metadata": {
    "colab": {
      "name": "lecture-0-1.ipynb",
      "provenance": [],
      "collapsed_sections": []
    },
    "kernelspec": {
      "name": "python3",
      "display_name": "Python 3"
    },
    "language_info": {
      "name": "python"
    }
  },
  "cells": [
    {
      "cell_type": "markdown",
      "metadata": {
        "id": "HqAJHyKmSbFz"
      },
      "source": [
        "# Week 1: Python Introduction"
      ]
    },
    {
      "cell_type": "markdown",
      "metadata": {
        "id": "gyO-Y_JmSfvs"
      },
      "source": [
        "### Variables"
      ]
    },
    {
      "cell_type": "code",
      "metadata": {
        "id": "fjOfukRISXya"
      },
      "source": [
        "x = 100"
      ],
      "execution_count": null,
      "outputs": []
    },
    {
      "cell_type": "code",
      "metadata": {
        "colab": {
          "base_uri": "https://localhost:8080/"
        },
        "id": "NcJxGrpL_gio",
        "outputId": "0460c38b-bd59-499c-8688-ee221bfabf36"
      },
      "source": [
        "print(x)"
      ],
      "execution_count": null,
      "outputs": [
        {
          "output_type": "stream",
          "name": "stdout",
          "text": [
            "100.0\n"
          ]
        }
      ]
    },
    {
      "cell_type": "code",
      "metadata": {
        "id": "0wDdYNEq_X5l"
      },
      "source": [
        "# float\n",
        "x = 100.0"
      ],
      "execution_count": null,
      "outputs": []
    },
    {
      "cell_type": "code",
      "metadata": {
        "id": "uoWpD8Z2SvqL"
      },
      "source": [
        "# More code here"
      ],
      "execution_count": null,
      "outputs": []
    },
    {
      "cell_type": "markdown",
      "metadata": {
        "id": "7LGmMTZASxGW"
      },
      "source": [
        "Types:\n",
        "\n",
        "\n",
        "*   strings\n",
        "*   ints\n",
        "*   floats\n",
        "\n",
        "\n"
      ]
    },
    {
      "cell_type": "code",
      "metadata": {
        "id": "utjjnaahS-kf"
      },
      "source": [
        "# declare a string\n",
        "name = \"Porter Jenkins\""
      ],
      "execution_count": null,
      "outputs": []
    },
    {
      "cell_type": "code",
      "metadata": {
        "colab": {
          "base_uri": "https://localhost:8080/"
        },
        "id": "EzGMB1TFAJN5",
        "outputId": "b6487d61-3ab9-4d44-98b3-cb081df07262"
      },
      "source": [
        "print(name)"
      ],
      "execution_count": null,
      "outputs": [
        {
          "output_type": "stream",
          "name": "stdout",
          "text": [
            "Porter Jenkins\n"
          ]
        }
      ]
    },
    {
      "cell_type": "code",
      "metadata": {
        "id": "ZClRrmqZTDA7"
      },
      "source": [
        "# More code here"
      ],
      "execution_count": null,
      "outputs": []
    },
    {
      "cell_type": "code",
      "metadata": {
        "id": "f4lqGJ1Tdemi"
      },
      "source": [
        "# memory\n",
        "y = x"
      ],
      "execution_count": null,
      "outputs": []
    },
    {
      "cell_type": "code",
      "metadata": {
        "id": "yYY_1SOZASBv"
      },
      "source": [
        "x = x + 1.0"
      ],
      "execution_count": null,
      "outputs": []
    },
    {
      "cell_type": "code",
      "metadata": {
        "colab": {
          "base_uri": "https://localhost:8080/"
        },
        "id": "oDRLALqfAYkY",
        "outputId": "9044fbbe-c99f-481d-9969-b783665eb18a"
      },
      "source": [
        "x"
      ],
      "execution_count": null,
      "outputs": [
        {
          "output_type": "execute_result",
          "data": {
            "text/plain": [
              "101.0"
            ]
          },
          "metadata": {},
          "execution_count": 21
        }
      ]
    },
    {
      "cell_type": "code",
      "metadata": {
        "colab": {
          "base_uri": "https://localhost:8080/"
        },
        "id": "XARIV8PGAfJR",
        "outputId": "b935ccd8-0238-45d3-d456-3ade3072c718"
      },
      "source": [
        "y"
      ],
      "execution_count": null,
      "outputs": [
        {
          "output_type": "execute_result",
          "data": {
            "text/plain": [
              "100.0"
            ]
          },
          "metadata": {},
          "execution_count": 22
        }
      ]
    },
    {
      "cell_type": "code",
      "metadata": {
        "id": "DK4XVRo2AmcB"
      },
      "source": [
        "x += 1"
      ],
      "execution_count": null,
      "outputs": []
    },
    {
      "cell_type": "code",
      "metadata": {
        "colab": {
          "base_uri": "https://localhost:8080/"
        },
        "id": "IsgnLrtSAs0I",
        "outputId": "902c853e-7e7e-4369-c8f6-6d13740c2811"
      },
      "source": [
        "x"
      ],
      "execution_count": null,
      "outputs": [
        {
          "output_type": "execute_result",
          "data": {
            "text/plain": [
              "102.0"
            ]
          },
          "metadata": {},
          "execution_count": 24
        }
      ]
    },
    {
      "cell_type": "markdown",
      "metadata": {
        "id": "Qr4f_l9ITIbc"
      },
      "source": [
        "### Arithmetic"
      ]
    },
    {
      "cell_type": "code",
      "metadata": {
        "id": "dC6joj7fTXsM"
      },
      "source": [
        "# With Floats"
      ],
      "execution_count": null,
      "outputs": []
    },
    {
      "cell_type": "code",
      "metadata": {
        "colab": {
          "base_uri": "https://localhost:8080/"
        },
        "id": "LXWng-w6Aw5Y",
        "outputId": "e4c87618-6f06-4a54-f736-e04ead37284d"
      },
      "source": [
        "100.0 + 20.0"
      ],
      "execution_count": null,
      "outputs": [
        {
          "output_type": "execute_result",
          "data": {
            "text/plain": [
              "120.0"
            ]
          },
          "metadata": {},
          "execution_count": 25
        }
      ]
    },
    {
      "cell_type": "code",
      "metadata": {
        "id": "ekWG1q6MTyCB"
      },
      "source": [
        "# with ints"
      ],
      "execution_count": null,
      "outputs": []
    },
    {
      "cell_type": "code",
      "metadata": {
        "colab": {
          "base_uri": "https://localhost:8080/"
        },
        "id": "eSjU_CQwA86p",
        "outputId": "205fc58e-2e39-4291-8bcd-545d13420ffd"
      },
      "source": [
        "100 + 20"
      ],
      "execution_count": null,
      "outputs": [
        {
          "output_type": "execute_result",
          "data": {
            "text/plain": [
              "120"
            ]
          },
          "metadata": {},
          "execution_count": 26
        }
      ]
    },
    {
      "cell_type": "code",
      "metadata": {
        "id": "y5Z2F3wJTzut"
      },
      "source": [
        "# Mixed types\n",
        "x = 100.0\n",
        "y = 50"
      ],
      "execution_count": null,
      "outputs": []
    },
    {
      "cell_type": "code",
      "metadata": {
        "colab": {
          "base_uri": "https://localhost:8080/"
        },
        "id": "eK7x2Iv8BCax",
        "outputId": "27d8827c-aac8-4425-aa15-92eaad41525c"
      },
      "source": [
        "x + y"
      ],
      "execution_count": null,
      "outputs": [
        {
          "output_type": "execute_result",
          "data": {
            "text/plain": [
              "150.0"
            ]
          },
          "metadata": {},
          "execution_count": 43
        }
      ]
    },
    {
      "cell_type": "code",
      "metadata": {
        "id": "Am-yZDjgT0u4"
      },
      "source": [
        "# x / y = ??"
      ],
      "execution_count": null,
      "outputs": []
    },
    {
      "cell_type": "code",
      "metadata": {
        "id": "NBiP1-D3T7MO",
        "colab": {
          "base_uri": "https://localhost:8080/"
        },
        "outputId": "af963cf8-aa2c-4960-db5c-5c444a03a175"
      },
      "source": [
        "x / y"
      ],
      "execution_count": null,
      "outputs": [
        {
          "output_type": "execute_result",
          "data": {
            "text/plain": [
              "2.0"
            ]
          },
          "metadata": {},
          "execution_count": 45
        }
      ]
    },
    {
      "cell_type": "code",
      "metadata": {
        "colab": {
          "base_uri": "https://localhost:8080/"
        },
        "id": "_sg1e_2hBOpB",
        "outputId": "2beaf8e9-bd5e-4676-869d-b4b18c4b807a"
      },
      "source": [
        "101 // 50"
      ],
      "execution_count": null,
      "outputs": [
        {
          "output_type": "execute_result",
          "data": {
            "text/plain": [
              "2"
            ]
          },
          "metadata": {},
          "execution_count": 46
        }
      ]
    },
    {
      "cell_type": "code",
      "metadata": {
        "colab": {
          "base_uri": "https://localhost:8080/"
        },
        "id": "U_a7b5fmBeHp",
        "outputId": "3cbdc99c-5719-49d8-c74a-02ab824ecbc3"
      },
      "source": [
        "\n",
        "101.0 / 50.0"
      ],
      "execution_count": null,
      "outputs": [
        {
          "output_type": "execute_result",
          "data": {
            "text/plain": [
              "2.02"
            ]
          },
          "metadata": {},
          "execution_count": 32
        }
      ]
    },
    {
      "cell_type": "code",
      "metadata": {
        "colab": {
          "base_uri": "https://localhost:8080/"
        },
        "id": "ijg2tjnSBih4",
        "outputId": "1e5c420a-95d4-47ba-9cca-4da07b5a1a84"
      },
      "source": [
        "\n",
        "101 % 50"
      ],
      "execution_count": null,
      "outputs": [
        {
          "output_type": "execute_result",
          "data": {
            "text/plain": [
              "1"
            ]
          },
          "metadata": {},
          "execution_count": 33
        }
      ]
    },
    {
      "cell_type": "code",
      "metadata": {
        "id": "mR-LyPX7T8Q-"
      },
      "source": [
        "# strings\n",
        "first_name = \"porter\"\n",
        "last_name = \"jenkins\""
      ],
      "execution_count": null,
      "outputs": []
    },
    {
      "cell_type": "code",
      "metadata": {
        "id": "fgIifagcUAOC"
      },
      "source": [
        "full_name = first_name + \" \" + last_name"
      ],
      "execution_count": null,
      "outputs": []
    },
    {
      "cell_type": "code",
      "metadata": {
        "colab": {
          "base_uri": "https://localhost:8080/",
          "height": 35
        },
        "id": "U1LrfCF3B9ae",
        "outputId": "4dd027af-bac2-4e52-c73f-b6f370c96488"
      },
      "source": [
        "full_name"
      ],
      "execution_count": null,
      "outputs": [
        {
          "output_type": "execute_result",
          "data": {
            "application/vnd.google.colaboratory.intrinsic+json": {
              "type": "string"
            },
            "text/plain": [
              "'porter jenkins'"
            ]
          },
          "metadata": {},
          "execution_count": 37
        }
      ]
    },
    {
      "cell_type": "markdown",
      "metadata": {
        "id": "YTUKorK_VLWX"
      },
      "source": [
        "### Basic Data Structures"
      ]
    },
    {
      "cell_type": "code",
      "metadata": {
        "id": "fmqJLn85VS4b"
      },
      "source": [
        "# lists (declaring, indexing, slicing, appending, concatenating)"
      ],
      "execution_count": null,
      "outputs": []
    },
    {
      "cell_type": "code",
      "metadata": {
        "id": "RcbDvKgZCcT5"
      },
      "source": [
        "a = [0, 1, 2, 3]"
      ],
      "execution_count": null,
      "outputs": []
    },
    {
      "cell_type": "code",
      "metadata": {
        "colab": {
          "base_uri": "https://localhost:8080/"
        },
        "id": "Mce2NoWGChrC",
        "outputId": "a0965ece-0fd3-4fdb-e40c-4ef87340e1c4"
      },
      "source": [
        "a"
      ],
      "execution_count": null,
      "outputs": [
        {
          "output_type": "execute_result",
          "data": {
            "text/plain": [
              "[0, 1, 2, 3]"
            ]
          },
          "metadata": {},
          "execution_count": 54
        }
      ]
    },
    {
      "cell_type": "code",
      "metadata": {
        "id": "3NEN5Rm7Ci0S"
      },
      "source": [
        "b = list(range(10))\n"
      ],
      "execution_count": null,
      "outputs": []
    },
    {
      "cell_type": "code",
      "metadata": {
        "colab": {
          "base_uri": "https://localhost:8080/"
        },
        "id": "ayU1jeqCC66i",
        "outputId": "1efdc77a-2163-4286-8cae-58f946a93af7"
      },
      "source": [
        "b"
      ],
      "execution_count": null,
      "outputs": [
        {
          "output_type": "execute_result",
          "data": {
            "text/plain": [
              "[0, 1, 2, 3, 4, 5, 6, 7, 8, 9]"
            ]
          },
          "metadata": {},
          "execution_count": 62
        }
      ]
    },
    {
      "cell_type": "code",
      "metadata": {
        "id": "4wbNhtOGC_7Z"
      },
      "source": [
        "b = list(range(10, 20))"
      ],
      "execution_count": null,
      "outputs": []
    },
    {
      "cell_type": "code",
      "metadata": {
        "colab": {
          "base_uri": "https://localhost:8080/"
        },
        "id": "6Rgnjca-DCDp",
        "outputId": "420b8eb2-7159-4603-e59e-5aef77440f7d"
      },
      "source": [
        "b"
      ],
      "execution_count": null,
      "outputs": [
        {
          "output_type": "execute_result",
          "data": {
            "text/plain": [
              "[10, 11, 12, 13, 14, 15, 16, 17, 18, 19]"
            ]
          },
          "metadata": {},
          "execution_count": 65
        }
      ]
    },
    {
      "cell_type": "code",
      "metadata": {
        "colab": {
          "base_uri": "https://localhost:8080/"
        },
        "id": "uSFnTMl1DFOB",
        "outputId": "063bd7ab-18a2-4f99-e064-f2576605bb7a"
      },
      "source": [
        "b[0]"
      ],
      "execution_count": null,
      "outputs": [
        {
          "output_type": "execute_result",
          "data": {
            "text/plain": [
              "10"
            ]
          },
          "metadata": {},
          "execution_count": 66
        }
      ]
    },
    {
      "cell_type": "code",
      "metadata": {
        "colab": {
          "base_uri": "https://localhost:8080/"
        },
        "id": "V4f3xHOFDV9y",
        "outputId": "23ab70e3-d18a-45b1-f2b2-14bf27bc9e47"
      },
      "source": [
        "b[-1]"
      ],
      "execution_count": null,
      "outputs": [
        {
          "output_type": "execute_result",
          "data": {
            "text/plain": [
              "19"
            ]
          },
          "metadata": {},
          "execution_count": 67
        }
      ]
    },
    {
      "cell_type": "code",
      "metadata": {
        "colab": {
          "base_uri": "https://localhost:8080/"
        },
        "id": "N_8WJkrYDary",
        "outputId": "c69b7a2b-64d8-4999-8db5-1c97bae17552"
      },
      "source": [
        "b[-2]"
      ],
      "execution_count": null,
      "outputs": [
        {
          "output_type": "execute_result",
          "data": {
            "text/plain": [
              "18"
            ]
          },
          "metadata": {},
          "execution_count": 68
        }
      ]
    },
    {
      "cell_type": "code",
      "metadata": {
        "colab": {
          "base_uri": "https://localhost:8080/"
        },
        "id": "WNA5iI6iDcvR",
        "outputId": "b2d2817d-8e60-4d8f-c61c-10832f5ee453"
      },
      "source": [
        "\n",
        "b[1]"
      ],
      "execution_count": null,
      "outputs": [
        {
          "output_type": "execute_result",
          "data": {
            "text/plain": [
              "11"
            ]
          },
          "metadata": {},
          "execution_count": 69
        }
      ]
    },
    {
      "cell_type": "code",
      "metadata": {
        "colab": {
          "base_uri": "https://localhost:8080/"
        },
        "id": "nrFqGsI5DhLB",
        "outputId": "95e2cdb3-1ce7-4fde-ea60-a9eac1313d2c"
      },
      "source": [
        "b[:3]"
      ],
      "execution_count": null,
      "outputs": [
        {
          "output_type": "execute_result",
          "data": {
            "text/plain": [
              "[10, 11, 12]"
            ]
          },
          "metadata": {},
          "execution_count": 70
        }
      ]
    },
    {
      "cell_type": "code",
      "metadata": {
        "colab": {
          "base_uri": "https://localhost:8080/"
        },
        "id": "EsQFT-XFDscS",
        "outputId": "11b54509-b7b7-4f7c-ab63-a01d4e044b80"
      },
      "source": [
        "b[0:3]"
      ],
      "execution_count": null,
      "outputs": [
        {
          "output_type": "execute_result",
          "data": {
            "text/plain": [
              "[10, 11, 12]"
            ]
          },
          "metadata": {},
          "execution_count": 71
        }
      ]
    },
    {
      "cell_type": "code",
      "metadata": {
        "id": "JbvxIrcMDuUa"
      },
      "source": [
        ""
      ],
      "execution_count": null,
      "outputs": []
    },
    {
      "cell_type": "code",
      "metadata": {
        "colab": {
          "base_uri": "https://localhost:8080/"
        },
        "id": "jk3mheXlDwaK",
        "outputId": "dc578584-e5b3-40a6-8d6b-dea66ecbb62b"
      },
      "source": [
        "b[1:4]"
      ],
      "execution_count": null,
      "outputs": [
        {
          "output_type": "execute_result",
          "data": {
            "text/plain": [
              "[11, 12, 13]"
            ]
          },
          "metadata": {},
          "execution_count": 72
        }
      ]
    },
    {
      "cell_type": "code",
      "metadata": {
        "colab": {
          "base_uri": "https://localhost:8080/"
        },
        "id": "pk2wT7c_D7gS",
        "outputId": "5541a332-1d3c-41d9-b26b-966cbe3a3cf1"
      },
      "source": [
        "b[-3:]"
      ],
      "execution_count": null,
      "outputs": [
        {
          "output_type": "execute_result",
          "data": {
            "text/plain": [
              "[17, 18, 19]"
            ]
          },
          "metadata": {},
          "execution_count": 73
        }
      ]
    },
    {
      "cell_type": "code",
      "metadata": {
        "colab": {
          "base_uri": "https://localhost:8080/"
        },
        "id": "F1S_OcBmEMTB",
        "outputId": "e52f1489-59e5-40bc-e6ae-7291fbb04bd5"
      },
      "source": [
        "b"
      ],
      "execution_count": null,
      "outputs": [
        {
          "output_type": "execute_result",
          "data": {
            "text/plain": [
              "[10, 11, 12, 13, 14, 15, 16, 17, 18, 19]"
            ]
          },
          "metadata": {},
          "execution_count": 74
        }
      ]
    },
    {
      "cell_type": "code",
      "metadata": {
        "id": "rmilGs9aEKt6"
      },
      "source": [
        "# appending\n",
        "b.append(20)"
      ],
      "execution_count": null,
      "outputs": []
    },
    {
      "cell_type": "code",
      "metadata": {
        "colab": {
          "base_uri": "https://localhost:8080/"
        },
        "id": "U6atpOT0EOnh",
        "outputId": "41292f73-dea3-4945-9bf7-b359218a80e0"
      },
      "source": [
        "b"
      ],
      "execution_count": null,
      "outputs": [
        {
          "output_type": "execute_result",
          "data": {
            "text/plain": [
              "[10, 11, 12, 13, 14, 15, 16, 17, 18, 19, 20]"
            ]
          },
          "metadata": {},
          "execution_count": 76
        }
      ]
    },
    {
      "cell_type": "code",
      "metadata": {
        "id": "Uk3zM_GOEUdJ"
      },
      "source": [
        ""
      ],
      "execution_count": null,
      "outputs": []
    },
    {
      "cell_type": "code",
      "metadata": {
        "id": "rcHCOjJMESdp"
      },
      "source": [
        "# concat"
      ],
      "execution_count": null,
      "outputs": []
    },
    {
      "cell_type": "code",
      "metadata": {
        "id": "Iqp0ljndc7cx"
      },
      "source": [
        "# mixed types (strings, floats, lists of lists)"
      ],
      "execution_count": null,
      "outputs": []
    },
    {
      "cell_type": "code",
      "metadata": {
        "id": "BzFLPfQ5Cko6"
      },
      "source": [
        "a = [1, \"a\", 2.0]"
      ],
      "execution_count": null,
      "outputs": []
    },
    {
      "cell_type": "code",
      "metadata": {
        "id": "_2zsmRWpCpJS"
      },
      "source": [
        "c = a + b"
      ],
      "execution_count": null,
      "outputs": []
    },
    {
      "cell_type": "code",
      "metadata": {
        "colab": {
          "base_uri": "https://localhost:8080/"
        },
        "id": "i2tc0_NkEYIZ",
        "outputId": "285b0154-a8a4-4411-8e02-6dd98c2d2a54"
      },
      "source": [
        "c"
      ],
      "execution_count": null,
      "outputs": [
        {
          "output_type": "execute_result",
          "data": {
            "text/plain": [
              "[0, 1, 2, 3, 10, 11, 12, 13, 14, 15, 16, 17, 18, 19, 20]"
            ]
          },
          "metadata": {},
          "execution_count": 78
        }
      ]
    },
    {
      "cell_type": "code",
      "metadata": {
        "id": "WR3KJyhxVUfo"
      },
      "source": [
        "# dictionaries (declaring, keys(), items(), get() method)"
      ],
      "execution_count": null,
      "outputs": []
    },
    {
      "cell_type": "code",
      "metadata": {
        "id": "KbCHpzMYEpuS"
      },
      "source": [
        "food = {}"
      ],
      "execution_count": null,
      "outputs": []
    },
    {
      "cell_type": "code",
      "metadata": {
        "id": "Z3XfjV4FFSQC"
      },
      "source": [
        "food[\"main course\"] = \"tacos\""
      ],
      "execution_count": null,
      "outputs": []
    },
    {
      "cell_type": "code",
      "metadata": {
        "colab": {
          "base_uri": "https://localhost:8080/"
        },
        "id": "asWFq936FX-C",
        "outputId": "a5daab9d-46f1-4353-da64-b2bb25da336c"
      },
      "source": [
        "food"
      ],
      "execution_count": null,
      "outputs": [
        {
          "output_type": "execute_result",
          "data": {
            "text/plain": [
              "{'main course': 'tacos'}"
            ]
          },
          "metadata": {},
          "execution_count": 81
        }
      ]
    },
    {
      "cell_type": "code",
      "metadata": {
        "id": "jE2djwCNFaLT"
      },
      "source": [
        "food[\"app\"] = \"mozz sticks\""
      ],
      "execution_count": null,
      "outputs": []
    },
    {
      "cell_type": "code",
      "metadata": {
        "colab": {
          "base_uri": "https://localhost:8080/"
        },
        "id": "AlNIHH6IFd-y",
        "outputId": "b5c96800-b3a1-463f-effe-9c859c136db8"
      },
      "source": [
        "food"
      ],
      "execution_count": null,
      "outputs": [
        {
          "output_type": "execute_result",
          "data": {
            "text/plain": [
              "{'app': 'mozz sticks', 'main course': 'tacos'}"
            ]
          },
          "metadata": {},
          "execution_count": 83
        }
      ]
    },
    {
      "cell_type": "code",
      "metadata": {
        "id": "b9O7vAlkFfIS"
      },
      "source": [
        "food[\"main course\"] = \"pasta\""
      ],
      "execution_count": null,
      "outputs": []
    },
    {
      "cell_type": "code",
      "metadata": {
        "colab": {
          "base_uri": "https://localhost:8080/"
        },
        "id": "NXXgIOmUFhtz",
        "outputId": "68795f6a-a68a-47ed-9339-22102e78b485"
      },
      "source": [
        "food"
      ],
      "execution_count": null,
      "outputs": [
        {
          "output_type": "execute_result",
          "data": {
            "text/plain": [
              "{'app': 'mozz sticks', 'main course': 'pasta'}"
            ]
          },
          "metadata": {},
          "execution_count": 85
        }
      ]
    },
    {
      "cell_type": "code",
      "metadata": {
        "colab": {
          "base_uri": "https://localhost:8080/",
          "height": 35
        },
        "id": "AsDhVYhEFndb",
        "outputId": "65f21841-d98e-4288-ccf0-c145069bbbf5"
      },
      "source": [
        "food[\"main course\"]"
      ],
      "execution_count": null,
      "outputs": [
        {
          "output_type": "execute_result",
          "data": {
            "application/vnd.google.colaboratory.intrinsic+json": {
              "type": "string"
            },
            "text/plain": [
              "'pasta'"
            ]
          },
          "metadata": {},
          "execution_count": 86
        }
      ]
    },
    {
      "cell_type": "code",
      "metadata": {
        "id": "7uJALvo6FqG6"
      },
      "source": [
        "grades = {\"peter\": [.90, .85, .75], \"susan\": [.92, .91, .89]}"
      ],
      "execution_count": null,
      "outputs": []
    },
    {
      "cell_type": "code",
      "metadata": {
        "id": "xdyZ62V7F2jR"
      },
      "source": [
        "grades[\"homework\"] = {\"hw1\": 100.0, \"hw2\": .95}"
      ],
      "execution_count": null,
      "outputs": []
    },
    {
      "cell_type": "code",
      "metadata": {
        "colab": {
          "base_uri": "https://localhost:8080/"
        },
        "id": "5aBMcvS_F66R",
        "outputId": "80a9c5f5-be1c-44b1-e4f3-a95d3bda3632"
      },
      "source": [
        "grades"
      ],
      "execution_count": null,
      "outputs": [
        {
          "output_type": "execute_result",
          "data": {
            "text/plain": [
              "{'homework': {'hw1': 100.0, 'hw2': 0.95},\n",
              " 'peter': [0.9, 0.85, 0.75],\n",
              " 'susan': [0.92, 0.91, 0.89]}"
            ]
          },
          "metadata": {},
          "execution_count": 90
        }
      ]
    },
    {
      "cell_type": "code",
      "metadata": {
        "colab": {
          "base_uri": "https://localhost:8080/"
        },
        "id": "x2jesA3VGKDC",
        "outputId": "6aae3f2a-84b1-4632-df16-5d02d88ba572"
      },
      "source": [
        "grades['homework'][\"hw1\"]"
      ],
      "execution_count": null,
      "outputs": [
        {
          "output_type": "execute_result",
          "data": {
            "text/plain": [
              "100.0"
            ]
          },
          "metadata": {},
          "execution_count": 91
        }
      ]
    },
    {
      "cell_type": "code",
      "metadata": {
        "colab": {
          "base_uri": "https://localhost:8080/"
        },
        "id": "eLt_xNQTGTDL",
        "outputId": "448ff3be-93dc-48f5-9fcf-d3eb91fd413b"
      },
      "source": [
        "\"michael\" in grades"
      ],
      "execution_count": null,
      "outputs": [
        {
          "output_type": "execute_result",
          "data": {
            "text/plain": [
              "False"
            ]
          },
          "metadata": {},
          "execution_count": 92
        }
      ]
    },
    {
      "cell_type": "code",
      "metadata": {
        "colab": {
          "base_uri": "https://localhost:8080/",
          "height": 162
        },
        "id": "mI7WA3jZGbv6",
        "outputId": "eebf47da-6170-4177-b85e-9a727e12e66e"
      },
      "source": [
        "grades[\"michael\"]"
      ],
      "execution_count": null,
      "outputs": [
        {
          "output_type": "error",
          "ename": "KeyError",
          "evalue": "ignored",
          "traceback": [
            "\u001b[0;31m---------------------------------------------------------------------------\u001b[0m",
            "\u001b[0;31mKeyError\u001b[0m                                  Traceback (most recent call last)",
            "\u001b[0;32m<ipython-input-93-6e0bed94c1ea>\u001b[0m in \u001b[0;36m<module>\u001b[0;34m()\u001b[0m\n\u001b[0;32m----> 1\u001b[0;31m \u001b[0mgrades\u001b[0m\u001b[0;34m[\u001b[0m\u001b[0;34m\"michael\"\u001b[0m\u001b[0;34m]\u001b[0m\u001b[0;34m\u001b[0m\u001b[0;34m\u001b[0m\u001b[0m\n\u001b[0m",
            "\u001b[0;31mKeyError\u001b[0m: 'michael'"
          ]
        }
      ]
    },
    {
      "cell_type": "code",
      "metadata": {
        "colab": {
          "base_uri": "https://localhost:8080/",
          "height": 35
        },
        "id": "BYVUp1RKGeQi",
        "outputId": "9de38f33-10ad-4415-e452-49c2fbc22a13"
      },
      "source": [
        "grades.get(\"michael\", \"student does not exist\")"
      ],
      "execution_count": null,
      "outputs": [
        {
          "output_type": "execute_result",
          "data": {
            "application/vnd.google.colaboratory.intrinsic+json": {
              "type": "string"
            },
            "text/plain": [
              "'student does not exist'"
            ]
          },
          "metadata": {},
          "execution_count": 94
        }
      ]
    },
    {
      "cell_type": "code",
      "metadata": {
        "colab": {
          "base_uri": "https://localhost:8080/"
        },
        "id": "mKw1O8hTG0az",
        "outputId": "746a8dbc-a14c-4612-f890-3116223eaaf0"
      },
      "source": [
        "grades.get(\"susan\", \"student does not exist\")"
      ],
      "execution_count": null,
      "outputs": [
        {
          "output_type": "execute_result",
          "data": {
            "text/plain": [
              "[0.92, 0.91, 0.89]"
            ]
          },
          "metadata": {},
          "execution_count": 95
        }
      ]
    },
    {
      "cell_type": "code",
      "metadata": {
        "id": "YkErI52CHDq6"
      },
      "source": [
        "grades.get(\"michael\", None)"
      ],
      "execution_count": null,
      "outputs": []
    },
    {
      "cell_type": "code",
      "metadata": {
        "id": "Tm0oS55GVWJ1"
      },
      "source": [
        "# sets (declaring, adding, intersection, difference, union)"
      ],
      "execution_count": null,
      "outputs": []
    },
    {
      "cell_type": "code",
      "metadata": {
        "id": "_0ZGN3qvHMNy"
      },
      "source": [
        "z = set([0, 1, 2, 3])"
      ],
      "execution_count": null,
      "outputs": []
    },
    {
      "cell_type": "code",
      "metadata": {
        "colab": {
          "base_uri": "https://localhost:8080/"
        },
        "id": "3O5wBPW1HixM",
        "outputId": "9fe73903-084c-4e6f-d1cd-a467d992198e"
      },
      "source": [
        "z"
      ],
      "execution_count": null,
      "outputs": [
        {
          "output_type": "execute_result",
          "data": {
            "text/plain": [
              "{0, 1, 2, 3}"
            ]
          },
          "metadata": {},
          "execution_count": 101
        }
      ]
    },
    {
      "cell_type": "code",
      "metadata": {
        "id": "8toWpihVHrW7"
      },
      "source": [
        ""
      ],
      "execution_count": null,
      "outputs": []
    },
    {
      "cell_type": "code",
      "metadata": {
        "id": "37ayT9HVHl3z"
      },
      "source": [
        "z.add(4)"
      ],
      "execution_count": null,
      "outputs": []
    },
    {
      "cell_type": "code",
      "metadata": {
        "colab": {
          "base_uri": "https://localhost:8080/"
        },
        "id": "ixPcimwAHsQr",
        "outputId": "1d324f3d-9820-4a46-ea00-b50da102824a"
      },
      "source": [
        "a"
      ],
      "execution_count": null,
      "outputs": [
        {
          "output_type": "execute_result",
          "data": {
            "text/plain": [
              "[0, 1, 2, 3]"
            ]
          },
          "metadata": {},
          "execution_count": 104
        }
      ]
    },
    {
      "cell_type": "code",
      "metadata": {
        "id": "LhrcZ-8MHsAP"
      },
      "source": [
        "a.append(4)"
      ],
      "execution_count": null,
      "outputs": []
    },
    {
      "cell_type": "code",
      "metadata": {
        "colab": {
          "base_uri": "https://localhost:8080/"
        },
        "id": "0fTd5BTYHpHD",
        "outputId": "736f3494-b41c-4d62-bfff-681f9bc66d12"
      },
      "source": [
        "z"
      ],
      "execution_count": null,
      "outputs": [
        {
          "output_type": "execute_result",
          "data": {
            "text/plain": [
              "{0, 1, 2, 3, 4}"
            ]
          },
          "metadata": {},
          "execution_count": 103
        }
      ]
    },
    {
      "cell_type": "code",
      "metadata": {
        "colab": {
          "base_uri": "https://localhost:8080/"
        },
        "id": "h2wZJj1OHu_U",
        "outputId": "2b51b0df-771b-407c-83f1-2688794a34d7"
      },
      "source": [
        "a"
      ],
      "execution_count": null,
      "outputs": [
        {
          "output_type": "execute_result",
          "data": {
            "text/plain": [
              "[0, 1, 2, 3, 4]"
            ]
          },
          "metadata": {},
          "execution_count": 107
        }
      ]
    },
    {
      "cell_type": "code",
      "metadata": {
        "id": "kit6XemEH0zz"
      },
      "source": [
        ""
      ],
      "execution_count": null,
      "outputs": []
    },
    {
      "cell_type": "code",
      "metadata": {
        "id": "4DSKI891Hxzb"
      },
      "source": [
        "a.append(4)\n",
        "z.add(4)"
      ],
      "execution_count": null,
      "outputs": []
    },
    {
      "cell_type": "code",
      "metadata": {
        "colab": {
          "base_uri": "https://localhost:8080/"
        },
        "id": "P6PMh3rKH3UB",
        "outputId": "d9729a01-322a-443f-dc23-4941953b4755"
      },
      "source": [
        "a"
      ],
      "execution_count": null,
      "outputs": [
        {
          "output_type": "execute_result",
          "data": {
            "text/plain": [
              "[0, 1, 2, 3, 4, 4]"
            ]
          },
          "metadata": {},
          "execution_count": 109
        }
      ]
    },
    {
      "cell_type": "code",
      "metadata": {
        "colab": {
          "base_uri": "https://localhost:8080/"
        },
        "id": "ucOBS1L6H3cN",
        "outputId": "395a14ac-cf31-4d5a-e5b9-8441a15823ab"
      },
      "source": [
        "z"
      ],
      "execution_count": null,
      "outputs": [
        {
          "output_type": "execute_result",
          "data": {
            "text/plain": [
              "{0, 1, 2, 3, 4}"
            ]
          },
          "metadata": {},
          "execution_count": 110
        }
      ]
    },
    {
      "cell_type": "markdown",
      "metadata": {
        "id": "UU-IIPzRTCY7"
      },
      "source": [
        "### Basic String operations"
      ]
    },
    {
      "cell_type": "code",
      "metadata": {
        "id": "T_GjRK6fTEH_"
      },
      "source": [
        "# split"
      ],
      "execution_count": null,
      "outputs": []
    },
    {
      "cell_type": "code",
      "metadata": {
        "id": "ot0Zig5QQjXB"
      },
      "source": [
        "full_name = \"porter reece jenkins\\n\""
      ],
      "execution_count": null,
      "outputs": []
    },
    {
      "cell_type": "code",
      "metadata": {
        "id": "SVA9-RcVQqAo"
      },
      "source": [
        "splits = full_name.split(\" \")"
      ],
      "execution_count": null,
      "outputs": []
    },
    {
      "cell_type": "code",
      "metadata": {
        "colab": {
          "base_uri": "https://localhost:8080/",
          "height": 35
        },
        "id": "W9Mgx2lpQ4Ow",
        "outputId": "93e1ef73-f355-4ba4-d13e-4d19fe48709c"
      },
      "source": [
        "splits[0]"
      ],
      "execution_count": null,
      "outputs": [
        {
          "output_type": "execute_result",
          "data": {
            "application/vnd.google.colaboratory.intrinsic+json": {
              "type": "string"
            },
            "text/plain": [
              "'porter'"
            ]
          },
          "metadata": {},
          "execution_count": 6
        }
      ]
    },
    {
      "cell_type": "code",
      "metadata": {
        "colab": {
          "base_uri": "https://localhost:8080/"
        },
        "id": "B9WGqEtIQ524",
        "outputId": "780fce60-5537-49e4-ee30-1c9a9be60974"
      },
      "source": [
        "\n",
        "splits"
      ],
      "execution_count": null,
      "outputs": [
        {
          "output_type": "execute_result",
          "data": {
            "text/plain": [
              "['porter', 'reece', 'jenkins']"
            ]
          },
          "metadata": {},
          "execution_count": 7
        }
      ]
    },
    {
      "cell_type": "code",
      "metadata": {
        "id": "wzpBiUSbTFd3",
        "colab": {
          "base_uri": "https://localhost:8080/",
          "height": 35
        },
        "outputId": "ae6653ae-3391-4262-8da6-8f8f3e2cbbbf"
      },
      "source": [
        "# strip\n",
        "full_name.strip()"
      ],
      "execution_count": null,
      "outputs": [
        {
          "output_type": "execute_result",
          "data": {
            "application/vnd.google.colaboratory.intrinsic+json": {
              "type": "string"
            },
            "text/plain": [
              "'porter reece jenkins'"
            ]
          },
          "metadata": {},
          "execution_count": 9
        }
      ]
    },
    {
      "cell_type": "code",
      "metadata": {
        "id": "7RVrY2QkTGVm",
        "colab": {
          "base_uri": "https://localhost:8080/",
          "height": 35
        },
        "outputId": "323653d4-64a9-491c-b497-08565161aaa9"
      },
      "source": [
        "# index\n",
        "full_name[0]"
      ],
      "execution_count": null,
      "outputs": [
        {
          "output_type": "execute_result",
          "data": {
            "application/vnd.google.colaboratory.intrinsic+json": {
              "type": "string"
            },
            "text/plain": [
              "'p'"
            ]
          },
          "metadata": {},
          "execution_count": 10
        }
      ]
    },
    {
      "cell_type": "code",
      "metadata": {
        "colab": {
          "base_uri": "https://localhost:8080/",
          "height": 35
        },
        "id": "FQYLV9_eRLAY",
        "outputId": "f6b4eef0-5603-4086-f018-04b9f0000546"
      },
      "source": [
        "\n",
        "full_name[:6]"
      ],
      "execution_count": null,
      "outputs": [
        {
          "output_type": "execute_result",
          "data": {
            "application/vnd.google.colaboratory.intrinsic+json": {
              "type": "string"
            },
            "text/plain": [
              "'porter'"
            ]
          },
          "metadata": {},
          "execution_count": 11
        }
      ]
    },
    {
      "cell_type": "code",
      "metadata": {
        "id": "EHOUC4QRTHHi"
      },
      "source": [
        "# formatting"
      ],
      "execution_count": null,
      "outputs": []
    },
    {
      "cell_type": "code",
      "metadata": {
        "id": "xnIJS-dmRQjg"
      },
      "source": [
        "first = \"porter\"\n",
        "middle = \"reece\"\n",
        "last = \"jenkins\""
      ],
      "execution_count": null,
      "outputs": []
    },
    {
      "cell_type": "code",
      "metadata": {
        "colab": {
          "base_uri": "https://localhost:8080/",
          "height": 35
        },
        "id": "7_Sow3ZeRZqQ",
        "outputId": "d963e146-342e-41a5-9c13-5637fa6117b4"
      },
      "source": [
        "first + \" \" + \" \" + middle + \" \" + last"
      ],
      "execution_count": null,
      "outputs": [
        {
          "output_type": "execute_result",
          "data": {
            "application/vnd.google.colaboratory.intrinsic+json": {
              "type": "string"
            },
            "text/plain": [
              "'porter  reece jenkins'"
            ]
          },
          "metadata": {},
          "execution_count": 15
        }
      ]
    },
    {
      "cell_type": "code",
      "metadata": {
        "colab": {
          "base_uri": "https://localhost:8080/",
          "height": 35
        },
        "id": "QZorh28WRjiQ",
        "outputId": "5ed71802-dd7a-4444-d5c6-00ac6df0d5f2"
      },
      "source": [
        "f\"{first} {middle} {last}\""
      ],
      "execution_count": null,
      "outputs": [
        {
          "output_type": "execute_result",
          "data": {
            "application/vnd.google.colaboratory.intrinsic+json": {
              "type": "string"
            },
            "text/plain": [
              "'porter reece jenkins'"
            ]
          },
          "metadata": {},
          "execution_count": 16
        }
      ]
    },
    {
      "cell_type": "markdown",
      "metadata": {
        "id": "0r0ocGQbUfpY"
      },
      "source": [
        "### Control flow"
      ]
    },
    {
      "cell_type": "markdown",
      "metadata": {
        "id": "DYnA6DsYV4cM"
      },
      "source": [
        "#### if else statements"
      ]
    },
    {
      "cell_type": "code",
      "metadata": {
        "id": "xcICqvcKWbdh",
        "colab": {
          "base_uri": "https://localhost:8080/"
        },
        "outputId": "90f9e77e-0559-4bb7-d5ae-9e936a32826f"
      },
      "source": [
        "# if else example\n",
        "if first == \"porter\":\n",
        "  print(\"name is porter\")\n",
        "elif middle == 'reece':\n",
        "  print(\"middle name is reece\")\n",
        "else:\n",
        "  print(\"somebody else\")"
      ],
      "execution_count": null,
      "outputs": [
        {
          "output_type": "stream",
          "name": "stdout",
          "text": [
            "name is porter\n"
          ]
        }
      ]
    },
    {
      "cell_type": "markdown",
      "metadata": {
        "id": "aRzD5j_yU3FY"
      },
      "source": [
        "#### For loops"
      ]
    },
    {
      "cell_type": "code",
      "metadata": {
        "id": "QET_hjz7U35Z"
      },
      "source": [
        "# iterables"
      ],
      "execution_count": null,
      "outputs": []
    },
    {
      "cell_type": "code",
      "metadata": {
        "colab": {
          "base_uri": "https://localhost:8080/"
        },
        "id": "I3wj_uY8SLAA",
        "outputId": "c673d6d3-3e1f-4b79-f36e-1120d3d5364a"
      },
      "source": [
        "for i in range(0, 10):\n",
        "  print(i)"
      ],
      "execution_count": null,
      "outputs": [
        {
          "output_type": "stream",
          "name": "stdout",
          "text": [
            "0\n",
            "1\n",
            "2\n",
            "3\n",
            "4\n",
            "5\n",
            "6\n",
            "7\n",
            "8\n",
            "9\n"
          ]
        }
      ]
    },
    {
      "cell_type": "code",
      "metadata": {
        "colab": {
          "base_uri": "https://localhost:8080/"
        },
        "id": "gnnfPiYISZCI",
        "outputId": "2e85e942-d696-4717-b23f-38c81610f9f6"
      },
      "source": [
        "arr = [0, 1, 2, 3, 4, 5]\n",
        "for i in arr:\n",
        "  print(i**2)"
      ],
      "execution_count": null,
      "outputs": [
        {
          "output_type": "stream",
          "name": "stdout",
          "text": [
            "0\n",
            "1\n",
            "4\n",
            "9\n",
            "16\n",
            "25\n"
          ]
        }
      ]
    },
    {
      "cell_type": "code",
      "metadata": {
        "id": "Bc_haspwVH2s"
      },
      "source": [
        "# range"
      ],
      "execution_count": null,
      "outputs": []
    },
    {
      "cell_type": "code",
      "metadata": {
        "id": "TI7i54NnVdNm"
      },
      "source": [
        "# list comprehensions (floats, ints, strings)\n",
        "new_arr = [i**2 for i in arr if i%2 == 0]"
      ],
      "execution_count": null,
      "outputs": []
    },
    {
      "cell_type": "code",
      "metadata": {
        "colab": {
          "base_uri": "https://localhost:8080/"
        },
        "id": "pRLTAiDqS2Kp",
        "outputId": "b85f1285-a1cc-490c-b578-209cb1ba2d30"
      },
      "source": [
        "new_arr"
      ],
      "execution_count": null,
      "outputs": [
        {
          "output_type": "execute_result",
          "data": {
            "text/plain": [
              "[0, 4, 16]"
            ]
          },
          "metadata": {},
          "execution_count": 32
        }
      ]
    },
    {
      "cell_type": "markdown",
      "metadata": {
        "id": "SLV60Am8VnNG"
      },
      "source": [
        "#### While Loops"
      ]
    },
    {
      "cell_type": "code",
      "metadata": {
        "id": "3GJxn6TaVo_R"
      },
      "source": [
        "# while loop example"
      ],
      "execution_count": null,
      "outputs": []
    },
    {
      "cell_type": "code",
      "metadata": {
        "colab": {
          "base_uri": "https://localhost:8080/"
        },
        "id": "scGPRytATXc5",
        "outputId": "6d1141d1-21dc-4027-cc66-88b7e2c812d3"
      },
      "source": [
        "i = 0\n",
        "while i < 10:\n",
        "  print(i)\n",
        "  i += 1"
      ],
      "execution_count": null,
      "outputs": [
        {
          "output_type": "stream",
          "name": "stdout",
          "text": [
            "0\n",
            "1\n",
            "2\n",
            "3\n",
            "4\n",
            "5\n",
            "6\n",
            "7\n",
            "8\n",
            "9\n"
          ]
        }
      ]
    },
    {
      "cell_type": "markdown",
      "metadata": {
        "id": "L0u45UMJWe33"
      },
      "source": [
        "### Functions"
      ]
    },
    {
      "cell_type": "markdown",
      "metadata": {
        "id": "D_6LP9XTW3bx"
      },
      "source": [
        "#### Defining functions"
      ]
    },
    {
      "cell_type": "code",
      "metadata": {
        "id": "hOLrNbhzWhWt"
      },
      "source": [
        "# defining functions\n",
        "def square(x):\n",
        "  return x**2"
      ],
      "execution_count": null,
      "outputs": []
    },
    {
      "cell_type": "code",
      "metadata": {
        "colab": {
          "base_uri": "https://localhost:8080/"
        },
        "id": "XeeEe2kET3bC",
        "outputId": "2cdad394-0b03-42bb-9eea-bbc2caecf30b"
      },
      "source": [
        "square(10.0)"
      ],
      "execution_count": null,
      "outputs": [
        {
          "output_type": "execute_result",
          "data": {
            "text/plain": [
              "100.0"
            ]
          },
          "metadata": {},
          "execution_count": 38
        }
      ]
    },
    {
      "cell_type": "markdown",
      "metadata": {
        "id": "22AuTsuYW57t"
      },
      "source": [
        "#### Return values (multiple)"
      ]
    },
    {
      "cell_type": "code",
      "metadata": {
        "id": "yKLAf315W1s-"
      },
      "source": [
        "def square_and_square_root(x):\n",
        "  square = x**2\n",
        "  square_rt = x**0.5\n",
        "  return square, square_rt"
      ],
      "execution_count": null,
      "outputs": []
    },
    {
      "cell_type": "code",
      "metadata": {
        "id": "JmOwhNwXUQnp"
      },
      "source": [
        "square, square_rt = square_and_square_root(x=10.0)"
      ],
      "execution_count": null,
      "outputs": []
    },
    {
      "cell_type": "code",
      "metadata": {
        "colab": {
          "base_uri": "https://localhost:8080/"
        },
        "id": "zBc5TTkKUajQ",
        "outputId": "38d0be08-269d-4a94-c488-a40f089e7f35"
      },
      "source": [
        "print(square)\n",
        "print(square_rt)"
      ],
      "execution_count": null,
      "outputs": [
        {
          "output_type": "stream",
          "name": "stdout",
          "text": [
            "100.0\n",
            "3.1622776601683795\n"
          ]
        }
      ]
    },
    {
      "cell_type": "markdown",
      "metadata": {
        "id": "Mgv9RMdoW9Rg"
      },
      "source": [
        "#### Optional arguments, default parameters"
      ]
    },
    {
      "cell_type": "code",
      "metadata": {
        "id": "AF6i59vSTNT4"
      },
      "source": [
        "def x_plus_y(x, y=0):\n",
        "  return x + y"
      ],
      "execution_count": null,
      "outputs": []
    },
    {
      "cell_type": "code",
      "metadata": {
        "colab": {
          "base_uri": "https://localhost:8080/"
        },
        "id": "dE3M0TE6UxMx",
        "outputId": "27a5db8c-e97c-4fab-d931-c44d7d7de662"
      },
      "source": [
        "x_plus_y(x=200, y=100)"
      ],
      "execution_count": null,
      "outputs": [
        {
          "output_type": "execute_result",
          "data": {
            "text/plain": [
              "300"
            ]
          },
          "metadata": {},
          "execution_count": 54
        }
      ]
    },
    {
      "cell_type": "markdown",
      "metadata": {
        "id": "YavQ4FI6ztx2"
      },
      "source": [
        "In-class Activity"
      ]
    },
    {
      "cell_type": "markdown",
      "metadata": {
        "id": "56hekcucz1hB"
      },
      "source": [
        "Write a function that returns the integers 1:9 in a 3x3 matrix:"
      ]
    },
    {
      "cell_type": "markdown",
      "metadata": {
        "id": "4IElq90Xz86J"
      },
      "source": [
        "\n",
        "```\n",
        "[\n",
        "  [1,2,3], \n",
        "  [4,5,6],\n",
        "  [7,8,9]\n",
        "]\n",
        "\n",
        "```\n",
        "\n"
      ]
    },
    {
      "cell_type": "code",
      "metadata": {
        "id": "MoCJceAfzxUx"
      },
      "source": [
        "# code goes here"
      ],
      "execution_count": null,
      "outputs": []
    }
  ]
}
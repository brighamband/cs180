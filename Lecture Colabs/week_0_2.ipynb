{
  "nbformat": 4,
  "nbformat_minor": 0,
  "metadata": {
    "colab": {
      "name": "week-0-2.ipynb",
      "provenance": [],
      "collapsed_sections": []
    },
    "kernelspec": {
      "name": "python3",
      "display_name": "Python 3"
    },
    "language_info": {
      "name": "python"
    }
  },
  "cells": [
    {
      "cell_type": "code",
      "metadata": {
        "id": "ZHJBNJHfeUig"
      },
      "source": [
        ""
      ],
      "execution_count": null,
      "outputs": []
    },
    {
      "cell_type": "markdown",
      "metadata": {
        "id": "Mw3xB2tHXkHw"
      },
      "source": [
        "# Python Intro: i/o, Namespaces, objects, classes"
      ]
    },
    {
      "cell_type": "markdown",
      "metadata": {
        "id": "leAg427fd1ZD"
      },
      "source": [
        "### File i/o"
      ]
    },
    {
      "cell_type": "markdown",
      "metadata": {
        "id": "PQqDg7oCeFeO"
      },
      "source": [
        "#### `with` context manager:\n",
        "\n",
        "\n",
        "*    facilitate the proper handling of resources. \n",
        "*   setup and teardown of resources\n",
        "*   Open and close a file stream in the same block\n",
        "\n"
      ]
    },
    {
      "cell_type": "code",
      "metadata": {
        "id": "gMDaPSMVeW3j"
      },
      "source": [
        "# open function\n",
        "with open(\"./data.txt\", \"w\") as f:\n",
        "  for i in range(100):\n",
        "    f.write(f\"{i},{i**2}\\n\")\n",
        "\n"
      ],
      "execution_count": null,
      "outputs": []
    },
    {
      "cell_type": "code",
      "metadata": {
        "id": "EKdexdlBUzIH"
      },
      "source": [
        "# reads\n",
        "with open(\"./data.txt\", \"r\") as f:\n",
        "  dta = f.readlines()"
      ],
      "execution_count": null,
      "outputs": []
    },
    {
      "cell_type": "code",
      "metadata": {
        "colab": {
          "base_uri": "https://localhost:8080/"
        },
        "id": "6t1Lpu3IW0Ua",
        "outputId": "0222e0be-d326-4955-fd0e-caaa4704b58b"
      },
      "source": [
        "dta"
      ],
      "execution_count": null,
      "outputs": [
        {
          "output_type": "execute_result",
          "data": {
            "text/plain": [
              "['0\\n',\n",
              " '1\\n',\n",
              " '2\\n',\n",
              " '3\\n',\n",
              " '4\\n',\n",
              " '5\\n',\n",
              " '6\\n',\n",
              " '7\\n',\n",
              " '8\\n',\n",
              " '9\\n',\n",
              " '10\\n',\n",
              " '11\\n',\n",
              " '12\\n',\n",
              " '13\\n',\n",
              " '14\\n',\n",
              " '15\\n',\n",
              " '16\\n',\n",
              " '17\\n',\n",
              " '18\\n',\n",
              " '19\\n',\n",
              " '20\\n',\n",
              " '21\\n',\n",
              " '22\\n',\n",
              " '23\\n',\n",
              " '24\\n',\n",
              " '25\\n',\n",
              " '26\\n',\n",
              " '27\\n',\n",
              " '28\\n',\n",
              " '29\\n',\n",
              " '30\\n',\n",
              " '31\\n',\n",
              " '32\\n',\n",
              " '33\\n',\n",
              " '34\\n',\n",
              " '35\\n',\n",
              " '36\\n',\n",
              " '37\\n',\n",
              " '38\\n',\n",
              " '39\\n',\n",
              " '40\\n',\n",
              " '41\\n',\n",
              " '42\\n',\n",
              " '43\\n',\n",
              " '44\\n',\n",
              " '45\\n',\n",
              " '46\\n',\n",
              " '47\\n',\n",
              " '48\\n',\n",
              " '49\\n',\n",
              " '50\\n',\n",
              " '51\\n',\n",
              " '52\\n',\n",
              " '53\\n',\n",
              " '54\\n',\n",
              " '55\\n',\n",
              " '56\\n',\n",
              " '57\\n',\n",
              " '58\\n',\n",
              " '59\\n',\n",
              " '60\\n',\n",
              " '61\\n',\n",
              " '62\\n',\n",
              " '63\\n',\n",
              " '64\\n',\n",
              " '65\\n',\n",
              " '66\\n',\n",
              " '67\\n',\n",
              " '68\\n',\n",
              " '69\\n',\n",
              " '70\\n',\n",
              " '71\\n',\n",
              " '72\\n',\n",
              " '73\\n',\n",
              " '74\\n',\n",
              " '75\\n',\n",
              " '76\\n',\n",
              " '77\\n',\n",
              " '78\\n',\n",
              " '79\\n',\n",
              " '80\\n',\n",
              " '81\\n',\n",
              " '82\\n',\n",
              " '83\\n',\n",
              " '84\\n',\n",
              " '85\\n',\n",
              " '86\\n',\n",
              " '87\\n',\n",
              " '88\\n',\n",
              " '89\\n',\n",
              " '90\\n',\n",
              " '91\\n',\n",
              " '92\\n',\n",
              " '93\\n',\n",
              " '94\\n',\n",
              " '95\\n',\n",
              " '96\\n',\n",
              " '97\\n',\n",
              " '98\\n',\n",
              " '99\\n']"
            ]
          },
          "metadata": {},
          "execution_count": 7
        }
      ]
    },
    {
      "cell_type": "code",
      "metadata": {
        "id": "ngPHNtilW7NV"
      },
      "source": [
        "# reads\n",
        "dta = []\n",
        "with open(\"./data.txt\", \"r\") as f:\n",
        "  for line in f:\n",
        "    dta.append(int(line))"
      ],
      "execution_count": null,
      "outputs": []
    },
    {
      "cell_type": "code",
      "metadata": {
        "colab": {
          "base_uri": "https://localhost:8080/"
        },
        "id": "wkbNBBgjXHYB",
        "outputId": "7a717617-11cd-477e-b0e4-a6ca12f1ccd7"
      },
      "source": [
        "dta"
      ],
      "execution_count": null,
      "outputs": [
        {
          "output_type": "execute_result",
          "data": {
            "text/plain": [
              "[0,\n",
              " 1,\n",
              " 2,\n",
              " 3,\n",
              " 4,\n",
              " 5,\n",
              " 6,\n",
              " 7,\n",
              " 8,\n",
              " 9,\n",
              " 10,\n",
              " 11,\n",
              " 12,\n",
              " 13,\n",
              " 14,\n",
              " 15,\n",
              " 16,\n",
              " 17,\n",
              " 18,\n",
              " 19,\n",
              " 20,\n",
              " 21,\n",
              " 22,\n",
              " 23,\n",
              " 24,\n",
              " 25,\n",
              " 26,\n",
              " 27,\n",
              " 28,\n",
              " 29,\n",
              " 30,\n",
              " 31,\n",
              " 32,\n",
              " 33,\n",
              " 34,\n",
              " 35,\n",
              " 36,\n",
              " 37,\n",
              " 38,\n",
              " 39,\n",
              " 40,\n",
              " 41,\n",
              " 42,\n",
              " 43,\n",
              " 44,\n",
              " 45,\n",
              " 46,\n",
              " 47,\n",
              " 48,\n",
              " 49,\n",
              " 50,\n",
              " 51,\n",
              " 52,\n",
              " 53,\n",
              " 54,\n",
              " 55,\n",
              " 56,\n",
              " 57,\n",
              " 58,\n",
              " 59,\n",
              " 60,\n",
              " 61,\n",
              " 62,\n",
              " 63,\n",
              " 64,\n",
              " 65,\n",
              " 66,\n",
              " 67,\n",
              " 68,\n",
              " 69,\n",
              " 70,\n",
              " 71,\n",
              " 72,\n",
              " 73,\n",
              " 74,\n",
              " 75,\n",
              " 76,\n",
              " 77,\n",
              " 78,\n",
              " 79,\n",
              " 80,\n",
              " 81,\n",
              " 82,\n",
              " 83,\n",
              " 84,\n",
              " 85,\n",
              " 86,\n",
              " 87,\n",
              " 88,\n",
              " 89,\n",
              " 90,\n",
              " 91,\n",
              " 92,\n",
              " 93,\n",
              " 94,\n",
              " 95,\n",
              " 96,\n",
              " 97,\n",
              " 98,\n",
              " 99]"
            ]
          },
          "metadata": {},
          "execution_count": 19
        }
      ]
    },
    {
      "cell_type": "code",
      "metadata": {
        "id": "ajVzfrTgU0Om"
      },
      "source": [
        "# writes"
      ],
      "execution_count": null,
      "outputs": []
    },
    {
      "cell_type": "markdown",
      "metadata": {
        "id": "8_Hrz3duYKVq"
      },
      "source": [
        "### Classes and Objects"
      ]
    },
    {
      "cell_type": "code",
      "metadata": {
        "id": "WRZ2PdScXjFI"
      },
      "source": [
        "# defining classes\n",
        "class SuperHumanRobotAi():\n",
        "\n",
        "    def __init__(self, name):\n",
        "        # code goes here\n",
        "        self.name = name\n",
        "\n",
        "    def gen_action(self):\n",
        "        # code goes here\n",
        "        return \"take over the world\"\n",
        "\n",
        "    def change_name(self, new_name):\n",
        "      # code goes here\n",
        "      self.name = new_name\n"
      ],
      "execution_count": null,
      "outputs": []
    },
    {
      "cell_type": "code",
      "metadata": {
        "id": "Oz3RvywyTnba"
      },
      "source": [
        "bot = SuperHumanRobotAi(name=\"hal\")"
      ],
      "execution_count": null,
      "outputs": []
    },
    {
      "cell_type": "code",
      "metadata": {
        "id": "9PkMuPoUUAsy",
        "colab": {
          "base_uri": "https://localhost:8080/",
          "height": 35
        },
        "outputId": "e839e9b3-2a86-40eb-f387-49928a046c32"
      },
      "source": [
        "bot.gen_action()"
      ],
      "execution_count": null,
      "outputs": [
        {
          "output_type": "execute_result",
          "data": {
            "application/vnd.google.colaboratory.intrinsic+json": {
              "type": "string"
            },
            "text/plain": [
              "'take over the world'"
            ]
          },
          "metadata": {},
          "execution_count": 27
        }
      ]
    },
    {
      "cell_type": "code",
      "metadata": {
        "id": "GMzaPdBFZoty"
      },
      "source": [
        "bot.change_name(\"michael\")"
      ],
      "execution_count": null,
      "outputs": []
    },
    {
      "cell_type": "code",
      "metadata": {
        "colab": {
          "base_uri": "https://localhost:8080/",
          "height": 35
        },
        "id": "SJI3PRrdZsTK",
        "outputId": "9c05ea17-e461-49df-bd3e-0acb44479e30"
      },
      "source": [
        "bot.name "
      ],
      "execution_count": null,
      "outputs": [
        {
          "output_type": "execute_result",
          "data": {
            "application/vnd.google.colaboratory.intrinsic+json": {
              "type": "string"
            },
            "text/plain": [
              "'michael'"
            ]
          },
          "metadata": {},
          "execution_count": 31
        }
      ]
    },
    {
      "cell_type": "code",
      "metadata": {
        "id": "Wxz-cIq8ZgeM"
      },
      "source": [
        "# inheritance"
      ],
      "execution_count": null,
      "outputs": []
    },
    {
      "cell_type": "code",
      "metadata": {
        "id": "EMuaU35RZm7c"
      },
      "source": [
        "class NiceRobot(SuperHumanRobotAi):\n",
        "\n",
        "  def __init__(self, name):\n",
        "    super(SuperHumanRobotAi, self).__init__()\n",
        "      \n",
        "  def gen_action(self):\n",
        "    return \"give out free kittens\"\n"
      ],
      "execution_count": null,
      "outputs": []
    },
    {
      "cell_type": "code",
      "metadata": {
        "id": "3OI9MqfoaGyK"
      },
      "source": [
        "bot_2 = NiceRobot(\"ava\")"
      ],
      "execution_count": null,
      "outputs": []
    },
    {
      "cell_type": "code",
      "metadata": {
        "colab": {
          "base_uri": "https://localhost:8080/",
          "height": 35
        },
        "id": "CUC8KBxUacGS",
        "outputId": "30cab150-4bd0-4534-f3cc-e3dd30687588"
      },
      "source": [
        "bot_2.gen_action()"
      ],
      "execution_count": null,
      "outputs": [
        {
          "output_type": "execute_result",
          "data": {
            "application/vnd.google.colaboratory.intrinsic+json": {
              "type": "string"
            },
            "text/plain": [
              "'give out free kittens'"
            ]
          },
          "metadata": {},
          "execution_count": 39
        }
      ]
    },
    {
      "cell_type": "markdown",
      "metadata": {
        "id": "cD0X34Uraz-J"
      },
      "source": [
        "### In-class activity"
      ]
    },
    {
      "cell_type": "markdown",
      "metadata": {
        "id": "6vqnOAwNa3ZT"
      },
      "source": [
        "#### Create your first Python class:\n",
        "\n",
        "\n",
        "*   Write a class called `Dog()`\n",
        "*   Pass name, breed, weight (in lbs), and color to the constructor (i.e., `__init__`)\n",
        "*   Implement a method to return each of the attributes you passed to the `__init__`\n",
        "*   Implement a method that return the dog's weight in kilograms: `kg = lbs / 2.2046`\n",
        "\n"
      ]
    },
    {
      "cell_type": "code",
      "metadata": {
        "id": "yDiWlLJfdGid"
      },
      "source": [
        "# File >> Save a Copy in Drive\n",
        "# your code here"
      ],
      "execution_count": null,
      "outputs": []
    },
    {
      "cell_type": "code",
      "metadata": {
        "id": "vH5rO5rPeVS3"
      },
      "source": [
        ""
      ],
      "execution_count": null,
      "outputs": []
    },
    {
      "cell_type": "code",
      "metadata": {
        "id": "tFMLm2WYW6Qq"
      },
      "source": [
        ""
      ],
      "execution_count": null,
      "outputs": []
    },
    {
      "cell_type": "code",
      "metadata": {
        "id": "F_VQdX1rabdi"
      },
      "source": [
        "\n"
      ],
      "execution_count": null,
      "outputs": []
    }
  ]
}
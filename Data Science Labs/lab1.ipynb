{
  "nbformat": 4,
  "nbformat_minor": 0,
  "metadata": {
    "colab": {
      "name": "lab1.ipynb",
      "provenance": [],
      "collapsed_sections": []
    },
    "kernelspec": {
      "name": "python3",
      "display_name": "Python 3"
    },
    "language_info": {
      "name": "python"
    }
  },
  "cells": [
    {
      "cell_type": "markdown",
      "metadata": {
        "id": "84nCM1HGxPW5"
      },
      "source": [
        "# Exercise 1"
      ]
    },
    {
      "cell_type": "code",
      "metadata": {
        "id": "4Sn-_d0jxGhn"
      },
      "source": [
        "import requests\n",
        "import csv\n",
        "\n",
        "dta = requests.get(\"https://archive.ics.uci.edu/ml/machine-learning-databases/iris/iris.data\").text\n",
        "headers = ['sepal length (cm)', 'sepal width (cm)', 'petal length (cm)', 'petal width (cm)', 'class']\n",
        "\n",
        "def write_csv(dta, headers):\n",
        "  # break long single string into list of strings (separated by each endline char)\n",
        "  dta_lines = dta.splitlines()\n",
        "\n",
        "  # with open('/gdrive/My Drive/Colab Notebooks/CS 180/lab1ex1.csv', 'w') as f:\n",
        "  with open('merged.csv', 'w') as f:\n",
        "    writer = csv.writer(f)\n",
        "    writer.writerow(headers)\n",
        "\n",
        "    # break each row string into a cell string (by splitting on commas) before writing to row\n",
        "    for line in dta_lines:\n",
        "      writer.writerow(line.split(','))\n",
        "\n",
        "write_csv(dta, headers)"
      ],
      "execution_count": null,
      "outputs": []
    },
    {
      "cell_type": "markdown",
      "metadata": {
        "id": "6JK-Meup5hbF"
      },
      "source": [
        "# Exercise 2"
      ]
    },
    {
      "cell_type": "markdown",
      "metadata": {
        "id": "_V8BfXly5jTb"
      },
      "source": [
        "# Exercise 3"
      ]
    },
    {
      "cell_type": "code",
      "metadata": {
        "colab": {
          "base_uri": "https://localhost:8080/"
        },
        "id": "0QoIfPrk5izG",
        "outputId": "10888ffe-d244-442b-efe6-459c9e18e45e"
      },
      "source": [
        "class Car:\n",
        "  def __init__(self, color, model, year, max_speed, mileage, cur_speed):\n",
        "    self.color = color\n",
        "    self.model = model\n",
        "    self.year = year\n",
        "    self.max_speed = max_speed\n",
        "    self.mileage = mileage\n",
        "    self.cur_speed = cur_speed\n",
        "\n",
        "  def print_speed(self):\n",
        "    print('New speed: ', self.cur_speed, 'mph')\n",
        "\n",
        "  def accelerate(self, amount):\n",
        "    '''Increase current speed by 'amount' miles per hour'''\n",
        "    self.cur_speed += amount\n",
        "    self.print_speed()\n",
        "\n",
        "  def brake(self):\n",
        "    '''Decrease current speed by 20%'''\n",
        "    self.cur_speed *= 0.8\n",
        "    self.print_speed()\n",
        "\n",
        "  \n",
        "car = Car('blue', 'Corolla', 2007, 100, 40, 0)\n",
        "\n",
        "print('Speeding up.')\n",
        "while (car.cur_speed + 10) <= car.max_speed:\n",
        "  car.accelerate(10)\n",
        "\n",
        "print('Max speed reached. Slowing back down.')\n",
        "car.brake()\n",
        "while car.cur_speed > 0:\n",
        "  car.cur_speed -= 10\n",
        "  car.print_speed()\n",
        "\n",
        "print('Car has stopped')"
      ],
      "execution_count": 111,
      "outputs": [
        {
          "output_type": "stream",
          "name": "stdout",
          "text": [
            "Speeding up.\n",
            "New speed:  10 mph\n",
            "New speed:  20 mph\n",
            "New speed:  30 mph\n",
            "New speed:  40 mph\n",
            "New speed:  50 mph\n",
            "New speed:  60 mph\n",
            "New speed:  70 mph\n",
            "New speed:  80 mph\n",
            "New speed:  90 mph\n",
            "New speed:  100 mph\n",
            "Max speed reached. Slowing back down.\n",
            "New speed:  80.0 mph\n",
            "New speed:  70.0 mph\n",
            "New speed:  60.0 mph\n",
            "New speed:  50.0 mph\n",
            "New speed:  40.0 mph\n",
            "New speed:  30.0 mph\n",
            "New speed:  20.0 mph\n",
            "New speed:  10.0 mph\n",
            "New speed:  0.0 mph\n",
            "Car has stopped\n"
          ]
        }
      ]
    },
    {
      "cell_type": "code",
      "metadata": {
        "id": "ImKHVdBHCyLa"
      },
      "source": [
        ""
      ],
      "execution_count": null,
      "outputs": []
    }
  ]
}
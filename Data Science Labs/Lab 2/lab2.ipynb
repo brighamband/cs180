{
  "nbformat": 4,
  "nbformat_minor": 0,
  "metadata": {
    "colab": {
      "name": "lab2.ipynb",
      "provenance": [],
      "collapsed_sections": []
    },
    "kernelspec": {
      "name": "python3",
      "display_name": "Python 3"
    },
    "language_info": {
      "name": "python"
    }
  },
  "cells": [
    {
      "cell_type": "markdown",
      "metadata": {
        "id": "gG9GvD2eB30i"
      },
      "source": [
        "# Exercise 1"
      ]
    },
    {
      "cell_type": "code",
      "metadata": {
        "id": "Ze5oY4VKCLNn"
      },
      "source": [
        "X =   [[ 0.9573075 ,  0.83877059,  1.51767182],\n",
        "       [ 0.83782936, -0.88288659,  0.7371596 ],\n",
        "       [-0.01786695,  0.83195016,  0.66394427],\n",
        "       [-2.43495362, -0.5999003 , -1.40044824],\n",
        "       [-0.67749399, -0.93229581,  0.4736418 ],\n",
        "       [ 0.47934903,  0.90244159, -0.24246888],\n",
        "       [ 1.00280715, -0.68745287, -1.08115248],\n",
        "       [ 0.98143632,  0.77163722,  0.07051186],\n",
        "       [ 1.10721349,  0.37520477,  0.54710493],\n",
        "       [ 0.20813717, -0.56000733, -0.38301232]]"
      ],
      "execution_count": 4,
      "outputs": []
    },
    {
      "cell_type": "markdown",
      "metadata": {
        "id": "8EUPiSp6B7tG"
      },
      "source": [
        "###A (For loops version)"
      ]
    },
    {
      "cell_type": "code",
      "metadata": {
        "colab": {
          "base_uri": "https://localhost:8080/"
        },
        "id": "AZdeAYeNBoAv",
        "outputId": "7fd57f1c-0745-411c-df5e-0b33ae397a25"
      },
      "source": [
        "def compute_means_over_columns(matrix):\n",
        "  means = []\n",
        "  for row in matrix:\n",
        "    sum = 0\n",
        "    for cell in row:\n",
        "      sum += cell\n",
        "    mean = sum / len(row)\n",
        "    means.append(mean)\n",
        "  return means\n",
        "\n",
        "means = compute_means_over_columns(X)\n",
        "\n",
        "for i in range(len(means)):\n",
        "  print(f'Mean over column {i + 1}: {means[i]}')"
      ],
      "execution_count": 26,
      "outputs": [
        {
          "output_type": "stream",
          "name": "stdout",
          "text": [
            "Mean over column 1: 1.1045833033333332\n",
            "Mean over column 2: 0.23070079\n",
            "Mean over column 3: 0.49267582666666665\n",
            "Mean over column 4: -1.4784340533333333\n",
            "Mean over column 5: -0.378716\n",
            "Mean over column 6: 0.3797739133333334\n",
            "Mean over column 7: -0.2552660666666667\n",
            "Mean over column 8: 0.6078618\n",
            "Mean over column 9: 0.67650773\n",
            "Mean over column 10: -0.24496082666666666\n"
          ]
        }
      ]
    },
    {
      "cell_type": "markdown",
      "metadata": {
        "id": "5apTACdUCEey"
      },
      "source": [
        "B (Vectorization version)"
      ]
    },
    {
      "cell_type": "code",
      "metadata": {
        "colab": {
          "base_uri": "https://localhost:8080/"
        },
        "id": "GRe2zbk_CG4c",
        "outputId": "671d555e-96c5-4102-a925-487fe6b91202"
      },
      "source": [
        "import numpy as np\n",
        "\n",
        "arr = np.array(X)\n",
        "np.mean(arr, axis=1)"
      ],
      "execution_count": 50,
      "outputs": [
        {
          "output_type": "execute_result",
          "data": {
            "text/plain": [
              "array([ 1.1045833 ,  0.23070079,  0.49267583, -1.47843405, -0.378716  ,\n",
              "        0.37977391, -0.25526607,  0.6078618 ,  0.67650773, -0.24496083])"
            ]
          },
          "metadata": {},
          "execution_count": 50
        }
      ]
    }
  ]
}
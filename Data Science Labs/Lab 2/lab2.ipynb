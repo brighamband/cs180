{
  "nbformat": 4,
  "nbformat_minor": 0,
  "metadata": {
    "colab": {
      "name": "lab2.ipynb",
      "provenance": [],
      "collapsed_sections": []
    },
    "kernelspec": {
      "name": "python3",
      "display_name": "Python 3"
    },
    "language_info": {
      "name": "python"
    }
  },
  "cells": [
    {
      "cell_type": "markdown",
      "metadata": {
        "id": "gG9GvD2eB30i"
      },
      "source": [
        "# Exercise 1 - Means over Columns"
      ]
    },
    {
      "cell_type": "code",
      "metadata": {
        "id": "Ze5oY4VKCLNn"
      },
      "source": [
        "X =   [[ 0.9573075 ,  0.83877059,  1.51767182],\n",
        "       [ 0.83782936, -0.88288659,  0.7371596 ],\n",
        "       [-0.01786695,  0.83195016,  0.66394427],\n",
        "       [-2.43495362, -0.5999003 , -1.40044824],\n",
        "       [-0.67749399, -0.93229581,  0.4736418 ],\n",
        "       [ 0.47934903,  0.90244159, -0.24246888],\n",
        "       [ 1.00280715, -0.68745287, -1.08115248],\n",
        "       [ 0.98143632,  0.77163722,  0.07051186],\n",
        "       [ 1.10721349,  0.37520477,  0.54710493],\n",
        "       [ 0.20813717, -0.56000733, -0.38301232]]"
      ],
      "execution_count": 1,
      "outputs": []
    },
    {
      "cell_type": "markdown",
      "metadata": {
        "id": "8EUPiSp6B7tG"
      },
      "source": [
        "###A (For loops version)"
      ]
    },
    {
      "cell_type": "code",
      "metadata": {
        "colab": {
          "base_uri": "https://localhost:8080/"
        },
        "id": "AZdeAYeNBoAv",
        "outputId": "f2ab2d5d-9ea3-4263-89fa-4f2759c75995"
      },
      "source": [
        "def compute_means_over_columns(matrix):\n",
        "  means = []\n",
        "  for row in matrix:\n",
        "    sum = 0\n",
        "    for elem in row:\n",
        "      sum += elem\n",
        "    mean = sum / len(row)\n",
        "    means.append(mean)\n",
        "  return means\n",
        "\n",
        "means = compute_means_over_columns(X)\n",
        "\n",
        "for i in range(len(means)):\n",
        "  print(f'Mean over column {i + 1}: {means[i]}')"
      ],
      "execution_count": 2,
      "outputs": [
        {
          "output_type": "stream",
          "name": "stdout",
          "text": [
            "Mean over column 1: 1.1045833033333332\n",
            "Mean over column 2: 0.23070079\n",
            "Mean over column 3: 0.49267582666666665\n",
            "Mean over column 4: -1.4784340533333333\n",
            "Mean over column 5: -0.378716\n",
            "Mean over column 6: 0.3797739133333334\n",
            "Mean over column 7: -0.2552660666666667\n",
            "Mean over column 8: 0.6078618\n",
            "Mean over column 9: 0.67650773\n",
            "Mean over column 10: -0.24496082666666666\n"
          ]
        }
      ]
    },
    {
      "cell_type": "markdown",
      "metadata": {
        "id": "5apTACdUCEey"
      },
      "source": [
        "###B (Vectorization version)"
      ]
    },
    {
      "cell_type": "code",
      "metadata": {
        "colab": {
          "base_uri": "https://localhost:8080/"
        },
        "id": "GRe2zbk_CG4c",
        "outputId": "5caf53a7-3553-4330-fbbd-1e34741cac7b"
      },
      "source": [
        "import numpy as np\n",
        "\n",
        "arr = np.array(X)\n",
        "np.mean(arr, axis=1)"
      ],
      "execution_count": 3,
      "outputs": [
        {
          "output_type": "execute_result",
          "data": {
            "text/plain": [
              "array([ 1.1045833 ,  0.23070079,  0.49267583, -1.47843405, -0.378716  ,\n",
              "        0.37977391, -0.25526607,  0.6078618 ,  0.67650773, -0.24496083])"
            ]
          },
          "metadata": {},
          "execution_count": 3
        }
      ]
    },
    {
      "cell_type": "markdown",
      "metadata": {
        "id": "A1qDAMHSYU7A"
      },
      "source": [
        "# Exercise 2 - Matrix Addition"
      ]
    },
    {
      "cell_type": "code",
      "metadata": {
        "id": "p_t1B4tWSsu9"
      },
      "source": [
        "A =   [[-0.92597499,  0.43720423, -0.35210601],\n",
        "       [-1.57649123, -1.07509224,  0.47516471],\n",
        "       [-0.20934054,  1.02077567,  1.07644301],\n",
        "       [-0.15567112, -2.55700368, -1.46401899],\n",
        "       [ 0.02719893,  0.19837065,  1.85917993],\n",
        "       [-0.48220856, -0.5882894 ,  0.8520666 ],\n",
        "       [-0.61637754, -1.28843955,  0.21051033],\n",
        "       [-0.37856032, -0.18264039, -1.66748906],\n",
        "       [-1.88442764,  1.06363804, -0.73199025],\n",
        "       [ 1.1067878 , -1.50124564,  0.3577191 ]]\n",
        "       \n",
        "B =   [[-0.92597499,  0.43720423, -0.35210601],\n",
        "       [-1.57649123, -1.07509224,  0.47516471],\n",
        "       [-0.20934054,  1.02077567,  1.07644301],\n",
        "       [-0.15567112, -2.55700368, -1.46401899],\n",
        "       [ 0.02719893,  0.19837065,  1.85917993],\n",
        "       [-0.48220856, -0.5882894 ,  0.8520666 ],\n",
        "       [-0.61637754, -1.28843955,  0.21051033],\n",
        "       [-0.37856032, -0.18264039, -1.66748906],\n",
        "       [-1.88442764,  1.06363804, -0.73199025],\n",
        "       [ 1.1067878 , -1.50124564,  0.3577191 ]]"
      ],
      "execution_count": 4,
      "outputs": []
    },
    {
      "cell_type": "markdown",
      "metadata": {
        "id": "djQG6BsdSP3i"
      },
      "source": [
        "###A (For loops version)"
      ]
    },
    {
      "cell_type": "code",
      "metadata": {
        "colab": {
          "base_uri": "https://localhost:8080/"
        },
        "id": "CQKs4rfgYWay",
        "outputId": "9ef6262b-03ba-4eb5-d768-7724935d30b5"
      },
      "source": [
        "new_matrix = []\n",
        "\n",
        "for i in range(len(A)):\n",
        "  new_row = []\n",
        "  for j in range(len(B[0])):\n",
        "    sum = A[i][j] + B[i][j]\n",
        "    new_row.append(sum)\n",
        "  new_row\n",
        "  new_matrix.append(new_row)\n",
        "\n",
        "new_matrix\n"
      ],
      "execution_count": 5,
      "outputs": [
        {
          "output_type": "execute_result",
          "data": {
            "text/plain": [
              "[[-1.85194998, 0.87440846, -0.70421202],\n",
              " [-3.15298246, -2.15018448, 0.95032942],\n",
              " [-0.41868108, 2.04155134, 2.15288602],\n",
              " [-0.31134224, -5.11400736, -2.92803798],\n",
              " [0.05439786, 0.3967413, 3.71835986],\n",
              " [-0.96441712, -1.1765788, 1.7041332],\n",
              " [-1.23275508, -2.5768791, 0.42102066],\n",
              " [-0.75712064, -0.36528078, -3.33497812],\n",
              " [-3.76885528, 2.12727608, -1.4639805],\n",
              " [2.2135756, -3.00249128, 0.7154382]]"
            ]
          },
          "metadata": {},
          "execution_count": 5
        }
      ]
    },
    {
      "cell_type": "markdown",
      "metadata": {
        "id": "BQvIsC_TSTIc"
      },
      "source": [
        "###B (Vectorization version)"
      ]
    },
    {
      "cell_type": "code",
      "metadata": {
        "colab": {
          "base_uri": "https://localhost:8080/"
        },
        "id": "D3bWW6MHScgQ",
        "outputId": "36aeb7ff-11ae-4894-b2da-c03e5e4e1fed"
      },
      "source": [
        "import numpy as np\n",
        "\n",
        "arr_a = np.array(A)\n",
        "arr_b = np.array(B)\n",
        "\n",
        "arr_a + arr_b"
      ],
      "execution_count": 6,
      "outputs": [
        {
          "output_type": "execute_result",
          "data": {
            "text/plain": [
              "array([[-1.85194998,  0.87440846, -0.70421202],\n",
              "       [-3.15298246, -2.15018448,  0.95032942],\n",
              "       [-0.41868108,  2.04155134,  2.15288602],\n",
              "       [-0.31134224, -5.11400736, -2.92803798],\n",
              "       [ 0.05439786,  0.3967413 ,  3.71835986],\n",
              "       [-0.96441712, -1.1765788 ,  1.7041332 ],\n",
              "       [-1.23275508, -2.5768791 ,  0.42102066],\n",
              "       [-0.75712064, -0.36528078, -3.33497812],\n",
              "       [-3.76885528,  2.12727608, -1.4639805 ],\n",
              "       [ 2.2135756 , -3.00249128,  0.7154382 ]])"
            ]
          },
          "metadata": {},
          "execution_count": 6
        }
      ]
    },
    {
      "cell_type": "markdown",
      "metadata": {
        "id": "F25crwCyWlNp"
      },
      "source": [
        "#Exercise 3 - Dot Product"
      ]
    },
    {
      "cell_type": "code",
      "metadata": {
        "id": "ejXhFsybWxRr"
      },
      "source": [
        "a = [4, 2, 6, 2, 5, 7, 5, 8, 8, 4]\n",
        "b = [4, 2, 6, 2, 5, 7, 5, 8, 8, 4]"
      ],
      "execution_count": 7,
      "outputs": []
    },
    {
      "cell_type": "markdown",
      "metadata": {
        "id": "8FesNNFXWn7j"
      },
      "source": [
        "###A (For loops version)"
      ]
    },
    {
      "cell_type": "code",
      "metadata": {
        "colab": {
          "base_uri": "https://localhost:8080/"
        },
        "id": "r2KhghJ6WvzB",
        "outputId": "ab372424-75c6-4544-dc3c-6c5b50fd1099"
      },
      "source": [
        "sum = 0\n",
        "for i in range(len(a)):\n",
        "  sum += a[i] * b[i]\n",
        "\n",
        "sum"
      ],
      "execution_count": 8,
      "outputs": [
        {
          "output_type": "execute_result",
          "data": {
            "text/plain": [
              "303"
            ]
          },
          "metadata": {},
          "execution_count": 8
        }
      ]
    },
    {
      "cell_type": "markdown",
      "metadata": {
        "id": "CXlz0pL_WtXY"
      },
      "source": [
        "###B (Vectorization version)"
      ]
    },
    {
      "cell_type": "code",
      "metadata": {
        "colab": {
          "base_uri": "https://localhost:8080/"
        },
        "id": "LejWnospWwYA",
        "outputId": "64231f70-3ead-4ac2-fd78-6ac9d22803e7"
      },
      "source": [
        "import numpy as np\n",
        "\n",
        "arr_a = np.array(a)\n",
        "arr_b = np.array(b)\n",
        "\n",
        "np.dot(arr_a, arr_b)"
      ],
      "execution_count": 9,
      "outputs": [
        {
          "output_type": "execute_result",
          "data": {
            "text/plain": [
              "303"
            ]
          },
          "metadata": {},
          "execution_count": 9
        }
      ]
    },
    {
      "cell_type": "markdown",
      "metadata": {
        "id": "svlNhUAIYRzs"
      },
      "source": [
        "#Exercise 4 - Matrix Multiplication"
      ]
    },
    {
      "cell_type": "code",
      "metadata": {
        "id": "Bj9Rg0FBZMrJ"
      },
      "source": [
        ""
      ],
      "execution_count": 9,
      "outputs": []
    },
    {
      "cell_type": "markdown",
      "metadata": {
        "id": "07va4f2JZHcc"
      },
      "source": [
        ""
      ]
    },
    {
      "cell_type": "markdown",
      "metadata": {
        "id": "MyS96BJ2ZHlJ"
      },
      "source": [
        "###A (For loops version)"
      ]
    },
    {
      "cell_type": "code",
      "metadata": {
        "colab": {
          "base_uri": "https://localhost:8080/"
        },
        "id": "WApVOeyqZMOf",
        "outputId": "9612e92c-b573-44cd-f5d7-16eb75fbe832"
      },
      "source": [
        "a = []\n",
        "b = []\n",
        "\n",
        "lines = []\n",
        "with open(\"input.txt\", \"r\") as f:\n",
        "  # lines = f.readlines()\n",
        "  lines = f.read().splitlines()\n",
        "\n",
        "for line in lines:\n",
        "  if \"A\" in line:\n",
        "    print(line.split()[2:])\n",
        "  \n",
        "\n",
        "# for i in range(len(lines)):\n",
        "#   lines[i].replace(\"\\n\",\"\")\n",
        "\n",
        "lines\n",
        "\n",
        "  # for line in f:\n",
        "  #   line = line.replace(\"=\", \"\")\n",
        "  #   row_list = line.split()\n",
        "  #   if \"A\" in row_list:\n",
        "  #     row_list = row_list[1:]\n",
        "  #     a.append(row_list)\n",
        "  #   if \"B\" in row_list:\n",
        "  #     row_list = row_list[1:]\n",
        "  #     b.append(row_list)\n",
        "    # if \"A\" in line:\n",
        "    #   line_list = f[i].split()\n",
        "    #   print(line_list)\n",
        "# print(a)\n",
        "# print(b)\n",
        "# with open(\"output.txt\", \"w\") as f:\n",
        "#   f.write(\"hello\")"
      ],
      "execution_count": 10,
      "outputs": [
        {
          "output_type": "stream",
          "name": "stdout",
          "text": [
            "['1', '2']\n"
          ]
        },
        {
          "output_type": "execute_result",
          "data": {
            "text/plain": [
              "['A = 1 2', '    2 1', 'B = 3', '    1']"
            ]
          },
          "metadata": {},
          "execution_count": 10
        }
      ]
    },
    {
      "cell_type": "markdown",
      "metadata": {
        "id": "oJ312LJIZI1-"
      },
      "source": [
        "###B (Vectorization version)"
      ]
    },
    {
      "cell_type": "code",
      "metadata": {
        "id": "Bpqb1x-4jLYi"
      },
      "source": [
        "import numpy as np\n",
        "\n",
        "## FIXME --- HAVE TO ACTUALLY LOAD THEM FROM A FILE\n",
        "\n",
        "arr_a = np.array([[1,2],[2,1]])\n",
        "arr_b = np.array([3,1])\n",
        "\n",
        "result = np.matmul(arr_a, arr_b)\n",
        "\n",
        "with open(\"output.txt\", \"w\") as f:\n",
        "  f.write(str(result))"
      ],
      "execution_count": 11,
      "outputs": []
    }
  ]
}
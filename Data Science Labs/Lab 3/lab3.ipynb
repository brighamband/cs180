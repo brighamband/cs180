{
  "nbformat": 4,
  "nbformat_minor": 0,
  "metadata": {
    "colab": {
      "name": "lab3.ipynb",
      "provenance": [],
      "collapsed_sections": []
    },
    "kernelspec": {
      "name": "python3",
      "display_name": "Python 3"
    },
    "language_info": {
      "name": "python"
    }
  },
  "cells": [
    {
      "cell_type": "code",
      "metadata": {
        "id": "DjaJO8np1Hc6"
      },
      "source": [
        "import numpy as np\n",
        "import pandas as pd"
      ],
      "execution_count": 1,
      "outputs": []
    },
    {
      "cell_type": "markdown",
      "metadata": {
        "id": "mqy5dhdpyRZj"
      },
      "source": [
        "#Exercise 1"
      ]
    },
    {
      "cell_type": "code",
      "metadata": {
        "colab": {
          "base_uri": "https://localhost:8080/"
        },
        "id": "p_xXB6-d492I",
        "outputId": "96453dde-ee77-4f67-c267-91fba0c399d9"
      },
      "source": [
        "math = pd.Series([80,96,78,59],['Mark','Barbara','Eleanor','David'])\n",
        "print(math)"
      ],
      "execution_count": 2,
      "outputs": [
        {
          "output_type": "stream",
          "name": "stdout",
          "text": [
            "Mark       80\n",
            "Barbara    96\n",
            "Eleanor    78\n",
            "David      59\n",
            "dtype: int64\n"
          ]
        }
      ]
    },
    {
      "cell_type": "code",
      "metadata": {
        "colab": {
          "base_uri": "https://localhost:8080/"
        },
        "id": "RBOKFqAVygB0",
        "outputId": "95f4aefd-9b02-402f-be84-eb491fc6751b"
      },
      "source": [
        "english = pd.Series([90,87,97,65],['Mark','Barbara','Eleanor','David'])\n",
        "print(english)"
      ],
      "execution_count": 3,
      "outputs": [
        {
          "output_type": "stream",
          "name": "stdout",
          "text": [
            "Mark       90\n",
            "Barbara    87\n",
            "Eleanor    97\n",
            "David      65\n",
            "dtype: int64\n"
          ]
        }
      ]
    },
    {
      "cell_type": "code",
      "metadata": {
        "colab": {
          "base_uri": "https://localhost:8080/"
        },
        "id": "ymp0bSpz5LVy",
        "outputId": "78cf9ed2-67e5-4aef-ba82-1aef428cb908"
      },
      "source": [
        "simple_grades = pd.DataFrame({'Math': math, 'English': english})\n",
        "print(simple_grades)"
      ],
      "execution_count": 4,
      "outputs": [
        {
          "output_type": "stream",
          "name": "stdout",
          "text": [
            "         Math  English\n",
            "Mark       80       90\n",
            "Barbara    96       87\n",
            "Eleanor    78       97\n",
            "David      59       65\n"
          ]
        }
      ]
    },
    {
      "cell_type": "code",
      "metadata": {
        "colab": {
          "base_uri": "https://localhost:8080/"
        },
        "id": "wAewAvWS5o6a",
        "outputId": "09cf6c79-eb05-497c-b4f6-e20a9f528f1d"
      },
      "source": [
        "data = np.array([[52.0, 73.0], [10.0, 39.0], [35.0, np.nan], [np.nan, 26.0], [np.nan, 99.0], [81.0, 68.0]])\n",
        "grades = pd.DataFrame(data, columns = ['Math', 'English'], index = ['Barbara', 'David', 'Eleanor', 'Greg', 'Lauren', 'Mark'])\n",
        "\n",
        "# look at the column labels of grades\n",
        "print(grades.columns)\n",
        "# look at the index labels of grades\n",
        "print(grades.index)\n",
        "# look at the values (2d array) of grades\n",
        "print(grades.values)"
      ],
      "execution_count": 5,
      "outputs": [
        {
          "output_type": "stream",
          "name": "stdout",
          "text": [
            "Index(['Math', 'English'], dtype='object')\n",
            "Index(['Barbara', 'David', 'Eleanor', 'Greg', 'Lauren', 'Mark'], dtype='object')\n",
            "[[52. 73.]\n",
            " [10. 39.]\n",
            " [35. nan]\n",
            " [nan 26.]\n",
            " [nan 99.]\n",
            " [81. 68.]]\n"
          ]
        }
      ]
    },
    {
      "cell_type": "code",
      "metadata": {
        "id": "WQvGnA9Z6nAo",
        "colab": {
          "base_uri": "https://localhost:8080/"
        },
        "outputId": "88235c98-3869-46f0-fbc5-7273e25b4bb5"
      },
      "source": [
        "grades.loc[['David','Greg'],'Math']"
      ],
      "execution_count": 6,
      "outputs": [
        {
          "output_type": "execute_result",
          "data": {
            "text/plain": [
              "David    10.0\n",
              "Greg      NaN\n",
              "Name: Math, dtype: float64"
            ]
          },
          "metadata": {},
          "execution_count": 6
        }
      ]
    },
    {
      "cell_type": "code",
      "metadata": {
        "id": "fGm7u5dk6qAM",
        "colab": {
          "base_uri": "https://localhost:8080/"
        },
        "outputId": "447d11a4-a1fe-417c-aaca-1a0c2c5d7391"
      },
      "source": [
        "grades.iloc[[1,3],0]"
      ],
      "execution_count": 7,
      "outputs": [
        {
          "output_type": "execute_result",
          "data": {
            "text/plain": [
              "David    10.0\n",
              "Greg      NaN\n",
              "Name: Math, dtype: float64"
            ]
          },
          "metadata": {},
          "execution_count": 7
        }
      ]
    },
    {
      "cell_type": "markdown",
      "metadata": {
        "id": "AuwHSZ4XyW2U"
      },
      "source": [
        "#Exercise 2"
      ]
    },
    {
      "cell_type": "code",
      "metadata": {
        "id": "mq74Q_7wyhB2",
        "colab": {
          "base_uri": "https://localhost:8080/"
        },
        "outputId": "55173aa9-7a2f-4ce0-ddba-032cf9543ff4"
      },
      "source": [
        "grades.loc['Eleanor']"
      ],
      "execution_count": 8,
      "outputs": [
        {
          "output_type": "execute_result",
          "data": {
            "text/plain": [
              "Math       35.0\n",
              "English     NaN\n",
              "Name: Eleanor, dtype: float64"
            ]
          },
          "metadata": {},
          "execution_count": 8
        }
      ]
    },
    {
      "cell_type": "code",
      "metadata": {
        "colab": {
          "base_uri": "https://localhost:8080/"
        },
        "id": "pXxaqKQi4LCQ",
        "outputId": "d72ff8e0-eff5-457c-e14d-7872622de67b"
      },
      "source": [
        "grades.loc['Mark']"
      ],
      "execution_count": 9,
      "outputs": [
        {
          "output_type": "execute_result",
          "data": {
            "text/plain": [
              "Math       81.0\n",
              "English    68.0\n",
              "Name: Mark, dtype: float64"
            ]
          },
          "metadata": {},
          "execution_count": 9
        }
      ]
    },
    {
      "cell_type": "code",
      "metadata": {
        "colab": {
          "base_uri": "https://localhost:8080/"
        },
        "id": "OwuLnTjk4VQC",
        "outputId": "ebc2ca2c-169e-47c9-9b4e-a9ed8ffa5b34"
      },
      "source": [
        "grades['Math']"
      ],
      "execution_count": 10,
      "outputs": [
        {
          "output_type": "execute_result",
          "data": {
            "text/plain": [
              "Barbara    52.0\n",
              "David      10.0\n",
              "Eleanor    35.0\n",
              "Greg        NaN\n",
              "Lauren      NaN\n",
              "Mark       81.0\n",
              "Name: Math, dtype: float64"
            ]
          },
          "metadata": {},
          "execution_count": 10
        }
      ]
    },
    {
      "cell_type": "code",
      "metadata": {
        "colab": {
          "base_uri": "https://localhost:8080/",
          "height": 235
        },
        "id": "vLaYiEY94jxP",
        "outputId": "2d0164cf-2128-4dfc-e44b-8a1e3584924b"
      },
      "source": [
        "grades['History'] = 100\n",
        "grades['History'] = np.random.randint(0,100,6)\n",
        "grades"
      ],
      "execution_count": 11,
      "outputs": [
        {
          "output_type": "execute_result",
          "data": {
            "text/html": [
              "<div>\n",
              "<style scoped>\n",
              "    .dataframe tbody tr th:only-of-type {\n",
              "        vertical-align: middle;\n",
              "    }\n",
              "\n",
              "    .dataframe tbody tr th {\n",
              "        vertical-align: top;\n",
              "    }\n",
              "\n",
              "    .dataframe thead th {\n",
              "        text-align: right;\n",
              "    }\n",
              "</style>\n",
              "<table border=\"1\" class=\"dataframe\">\n",
              "  <thead>\n",
              "    <tr style=\"text-align: right;\">\n",
              "      <th></th>\n",
              "      <th>Math</th>\n",
              "      <th>English</th>\n",
              "      <th>History</th>\n",
              "    </tr>\n",
              "  </thead>\n",
              "  <tbody>\n",
              "    <tr>\n",
              "      <th>Barbara</th>\n",
              "      <td>52.0</td>\n",
              "      <td>73.0</td>\n",
              "      <td>79</td>\n",
              "    </tr>\n",
              "    <tr>\n",
              "      <th>David</th>\n",
              "      <td>10.0</td>\n",
              "      <td>39.0</td>\n",
              "      <td>98</td>\n",
              "    </tr>\n",
              "    <tr>\n",
              "      <th>Eleanor</th>\n",
              "      <td>35.0</td>\n",
              "      <td>NaN</td>\n",
              "      <td>41</td>\n",
              "    </tr>\n",
              "    <tr>\n",
              "      <th>Greg</th>\n",
              "      <td>NaN</td>\n",
              "      <td>26.0</td>\n",
              "      <td>97</td>\n",
              "    </tr>\n",
              "    <tr>\n",
              "      <th>Lauren</th>\n",
              "      <td>NaN</td>\n",
              "      <td>99.0</td>\n",
              "      <td>84</td>\n",
              "    </tr>\n",
              "    <tr>\n",
              "      <th>Mark</th>\n",
              "      <td>81.0</td>\n",
              "      <td>68.0</td>\n",
              "      <td>35</td>\n",
              "    </tr>\n",
              "  </tbody>\n",
              "</table>\n",
              "</div>"
            ],
            "text/plain": [
              "         Math  English  History\n",
              "Barbara  52.0     73.0       79\n",
              "David    10.0     39.0       98\n",
              "Eleanor  35.0      NaN       41\n",
              "Greg      NaN     26.0       97\n",
              "Lauren    NaN     99.0       84\n",
              "Mark     81.0     68.0       35"
            ]
          },
          "metadata": {},
          "execution_count": 11
        }
      ]
    },
    {
      "cell_type": "code",
      "metadata": {
        "colab": {
          "base_uri": "https://localhost:8080/",
          "height": 142
        },
        "id": "CrwdMO5_49ow",
        "outputId": "c831fb49-e385-4487-c08d-a71830639a72"
      },
      "source": [
        "grades.head(3)"
      ],
      "execution_count": 12,
      "outputs": [
        {
          "output_type": "execute_result",
          "data": {
            "text/html": [
              "<div>\n",
              "<style scoped>\n",
              "    .dataframe tbody tr th:only-of-type {\n",
              "        vertical-align: middle;\n",
              "    }\n",
              "\n",
              "    .dataframe tbody tr th {\n",
              "        vertical-align: top;\n",
              "    }\n",
              "\n",
              "    .dataframe thead th {\n",
              "        text-align: right;\n",
              "    }\n",
              "</style>\n",
              "<table border=\"1\" class=\"dataframe\">\n",
              "  <thead>\n",
              "    <tr style=\"text-align: right;\">\n",
              "      <th></th>\n",
              "      <th>Math</th>\n",
              "      <th>English</th>\n",
              "      <th>History</th>\n",
              "    </tr>\n",
              "  </thead>\n",
              "  <tbody>\n",
              "    <tr>\n",
              "      <th>Barbara</th>\n",
              "      <td>52.0</td>\n",
              "      <td>73.0</td>\n",
              "      <td>79</td>\n",
              "    </tr>\n",
              "    <tr>\n",
              "      <th>David</th>\n",
              "      <td>10.0</td>\n",
              "      <td>39.0</td>\n",
              "      <td>98</td>\n",
              "    </tr>\n",
              "    <tr>\n",
              "      <th>Eleanor</th>\n",
              "      <td>35.0</td>\n",
              "      <td>NaN</td>\n",
              "      <td>41</td>\n",
              "    </tr>\n",
              "  </tbody>\n",
              "</table>\n",
              "</div>"
            ],
            "text/plain": [
              "         Math  English  History\n",
              "Barbara  52.0     73.0       79\n",
              "David    10.0     39.0       98\n",
              "Eleanor  35.0      NaN       41"
            ]
          },
          "metadata": {},
          "execution_count": 12
        }
      ]
    },
    {
      "cell_type": "code",
      "metadata": {
        "id": "eUUyyABl5DEY",
        "colab": {
          "base_uri": "https://localhost:8080/",
          "height": 235
        },
        "outputId": "e14d74c5-b2cf-4161-fa1a-c66cf55029fc"
      },
      "source": [
        "grades.reindex(columns=['English','Math','History'])"
      ],
      "execution_count": 15,
      "outputs": [
        {
          "output_type": "execute_result",
          "data": {
            "text/html": [
              "<div>\n",
              "<style scoped>\n",
              "    .dataframe tbody tr th:only-of-type {\n",
              "        vertical-align: middle;\n",
              "    }\n",
              "\n",
              "    .dataframe tbody tr th {\n",
              "        vertical-align: top;\n",
              "    }\n",
              "\n",
              "    .dataframe thead th {\n",
              "        text-align: right;\n",
              "    }\n",
              "</style>\n",
              "<table border=\"1\" class=\"dataframe\">\n",
              "  <thead>\n",
              "    <tr style=\"text-align: right;\">\n",
              "      <th></th>\n",
              "      <th>English</th>\n",
              "      <th>Math</th>\n",
              "      <th>History</th>\n",
              "    </tr>\n",
              "  </thead>\n",
              "  <tbody>\n",
              "    <tr>\n",
              "      <th>Barbara</th>\n",
              "      <td>73.0</td>\n",
              "      <td>52.0</td>\n",
              "      <td>79</td>\n",
              "    </tr>\n",
              "    <tr>\n",
              "      <th>David</th>\n",
              "      <td>39.0</td>\n",
              "      <td>10.0</td>\n",
              "      <td>98</td>\n",
              "    </tr>\n",
              "    <tr>\n",
              "      <th>Eleanor</th>\n",
              "      <td>NaN</td>\n",
              "      <td>35.0</td>\n",
              "      <td>41</td>\n",
              "    </tr>\n",
              "    <tr>\n",
              "      <th>Greg</th>\n",
              "      <td>26.0</td>\n",
              "      <td>NaN</td>\n",
              "      <td>97</td>\n",
              "    </tr>\n",
              "    <tr>\n",
              "      <th>Lauren</th>\n",
              "      <td>99.0</td>\n",
              "      <td>NaN</td>\n",
              "      <td>84</td>\n",
              "    </tr>\n",
              "    <tr>\n",
              "      <th>Mark</th>\n",
              "      <td>68.0</td>\n",
              "      <td>81.0</td>\n",
              "      <td>35</td>\n",
              "    </tr>\n",
              "  </tbody>\n",
              "</table>\n",
              "</div>"
            ],
            "text/plain": [
              "         English  Math  History\n",
              "Barbara     73.0  52.0       79\n",
              "David       39.0  10.0       98\n",
              "Eleanor      NaN  35.0       41\n",
              "Greg        26.0   NaN       97\n",
              "Lauren      99.0   NaN       84\n",
              "Mark        68.0  81.0       35"
            ]
          },
          "metadata": {},
          "execution_count": 15
        }
      ]
    },
    {
      "cell_type": "code",
      "metadata": {
        "colab": {
          "base_uri": "https://localhost:8080/",
          "height": 235
        },
        "id": "YFU05lYwkdak",
        "outputId": "88ae6de0-e6db-463f-ef9a-cb7099879dfa"
      },
      "source": [
        "grades.sort_values('Math',ascending=False)"
      ],
      "execution_count": 17,
      "outputs": [
        {
          "output_type": "execute_result",
          "data": {
            "text/html": [
              "<div>\n",
              "<style scoped>\n",
              "    .dataframe tbody tr th:only-of-type {\n",
              "        vertical-align: middle;\n",
              "    }\n",
              "\n",
              "    .dataframe tbody tr th {\n",
              "        vertical-align: top;\n",
              "    }\n",
              "\n",
              "    .dataframe thead th {\n",
              "        text-align: right;\n",
              "    }\n",
              "</style>\n",
              "<table border=\"1\" class=\"dataframe\">\n",
              "  <thead>\n",
              "    <tr style=\"text-align: right;\">\n",
              "      <th></th>\n",
              "      <th>Math</th>\n",
              "      <th>English</th>\n",
              "      <th>History</th>\n",
              "    </tr>\n",
              "  </thead>\n",
              "  <tbody>\n",
              "    <tr>\n",
              "      <th>Mark</th>\n",
              "      <td>81.0</td>\n",
              "      <td>68.0</td>\n",
              "      <td>35</td>\n",
              "    </tr>\n",
              "    <tr>\n",
              "      <th>Barbara</th>\n",
              "      <td>52.0</td>\n",
              "      <td>73.0</td>\n",
              "      <td>79</td>\n",
              "    </tr>\n",
              "    <tr>\n",
              "      <th>Eleanor</th>\n",
              "      <td>35.0</td>\n",
              "      <td>NaN</td>\n",
              "      <td>41</td>\n",
              "    </tr>\n",
              "    <tr>\n",
              "      <th>David</th>\n",
              "      <td>10.0</td>\n",
              "      <td>39.0</td>\n",
              "      <td>98</td>\n",
              "    </tr>\n",
              "    <tr>\n",
              "      <th>Greg</th>\n",
              "      <td>NaN</td>\n",
              "      <td>26.0</td>\n",
              "      <td>97</td>\n",
              "    </tr>\n",
              "    <tr>\n",
              "      <th>Lauren</th>\n",
              "      <td>NaN</td>\n",
              "      <td>99.0</td>\n",
              "      <td>84</td>\n",
              "    </tr>\n",
              "  </tbody>\n",
              "</table>\n",
              "</div>"
            ],
            "text/plain": [
              "         Math  English  History\n",
              "Mark     81.0     68.0       35\n",
              "Barbara  52.0     73.0       79\n",
              "Eleanor  35.0      NaN       41\n",
              "David    10.0     39.0       98\n",
              "Greg      NaN     26.0       97\n",
              "Lauren    NaN     99.0       84"
            ]
          },
          "metadata": {},
          "execution_count": 17
        }
      ]
    },
    {
      "cell_type": "code",
      "metadata": {
        "colab": {
          "base_uri": "https://localhost:8080/",
          "height": 235
        },
        "id": "iRd0FnyBkj9P",
        "outputId": "b9108766-e509-46e1-e755-1431af48533a"
      },
      "source": [
        "grades.drop(columns=['Math'])"
      ],
      "execution_count": 18,
      "outputs": [
        {
          "output_type": "execute_result",
          "data": {
            "text/html": [
              "<div>\n",
              "<style scoped>\n",
              "    .dataframe tbody tr th:only-of-type {\n",
              "        vertical-align: middle;\n",
              "    }\n",
              "\n",
              "    .dataframe tbody tr th {\n",
              "        vertical-align: top;\n",
              "    }\n",
              "\n",
              "    .dataframe thead th {\n",
              "        text-align: right;\n",
              "    }\n",
              "</style>\n",
              "<table border=\"1\" class=\"dataframe\">\n",
              "  <thead>\n",
              "    <tr style=\"text-align: right;\">\n",
              "      <th></th>\n",
              "      <th>English</th>\n",
              "      <th>History</th>\n",
              "    </tr>\n",
              "  </thead>\n",
              "  <tbody>\n",
              "    <tr>\n",
              "      <th>Barbara</th>\n",
              "      <td>73.0</td>\n",
              "      <td>79</td>\n",
              "    </tr>\n",
              "    <tr>\n",
              "      <th>David</th>\n",
              "      <td>39.0</td>\n",
              "      <td>98</td>\n",
              "    </tr>\n",
              "    <tr>\n",
              "      <th>Eleanor</th>\n",
              "      <td>NaN</td>\n",
              "      <td>41</td>\n",
              "    </tr>\n",
              "    <tr>\n",
              "      <th>Greg</th>\n",
              "      <td>26.0</td>\n",
              "      <td>97</td>\n",
              "    </tr>\n",
              "    <tr>\n",
              "      <th>Lauren</th>\n",
              "      <td>99.0</td>\n",
              "      <td>84</td>\n",
              "    </tr>\n",
              "    <tr>\n",
              "      <th>Mark</th>\n",
              "      <td>68.0</td>\n",
              "      <td>35</td>\n",
              "    </tr>\n",
              "  </tbody>\n",
              "</table>\n",
              "</div>"
            ],
            "text/plain": [
              "         English  History\n",
              "Barbara     73.0       79\n",
              "David       39.0       98\n",
              "Eleanor      NaN       41\n",
              "Greg        26.0       97\n",
              "Lauren      99.0       84\n",
              "Mark        68.0       35"
            ]
          },
          "metadata": {},
          "execution_count": 18
        }
      ]
    },
    {
      "cell_type": "markdown",
      "metadata": {
        "id": "agejUawIyXGp"
      },
      "source": [
        "#Exercise 3"
      ]
    },
    {
      "cell_type": "code",
      "metadata": {
        "id": "itFsGv-vyhxg",
        "colab": {
          "base_uri": "https://localhost:8080/",
          "height": 235
        },
        "outputId": "af590c84-2c1f-44d3-9e8a-f694082ca220"
      },
      "source": [
        "costs = pd.read_csv('costs.csv')\n",
        "costs"
      ],
      "execution_count": 31,
      "outputs": [
        {
          "output_type": "execute_result",
          "data": {
            "text/html": [
              "<div>\n",
              "<style scoped>\n",
              "    .dataframe tbody tr th:only-of-type {\n",
              "        vertical-align: middle;\n",
              "    }\n",
              "\n",
              "    .dataframe tbody tr th {\n",
              "        vertical-align: top;\n",
              "    }\n",
              "\n",
              "    .dataframe thead th {\n",
              "        text-align: right;\n",
              "    }\n",
              "</style>\n",
              "<table border=\"1\" class=\"dataframe\">\n",
              "  <thead>\n",
              "    <tr style=\"text-align: right;\">\n",
              "      <th></th>\n",
              "      <th>books</th>\n",
              "      <th>food</th>\n",
              "      <th>fortnite_skins</th>\n",
              "      <th>rent</th>\n",
              "    </tr>\n",
              "  </thead>\n",
              "  <tbody>\n",
              "    <tr>\n",
              "      <th>0</th>\n",
              "      <td>385</td>\n",
              "      <td>800</td>\n",
              "      <td>15</td>\n",
              "      <td>500</td>\n",
              "    </tr>\n",
              "    <tr>\n",
              "      <th>1</th>\n",
              "      <td>280</td>\n",
              "      <td>700</td>\n",
              "      <td>10</td>\n",
              "      <td>500</td>\n",
              "    </tr>\n",
              "    <tr>\n",
              "      <th>2</th>\n",
              "      <td>300</td>\n",
              "      <td>775</td>\n",
              "      <td>40</td>\n",
              "      <td>500</td>\n",
              "    </tr>\n",
              "    <tr>\n",
              "      <th>3</th>\n",
              "      <td>312</td>\n",
              "      <td>750</td>\n",
              "      <td>18</td>\n",
              "      <td>525</td>\n",
              "    </tr>\n",
              "    <tr>\n",
              "      <th>4</th>\n",
              "      <td>330</td>\n",
              "      <td>712</td>\n",
              "      <td>16</td>\n",
              "      <td>525</td>\n",
              "    </tr>\n",
              "    <tr>\n",
              "      <th>5</th>\n",
              "      <td>120</td>\n",
              "      <td>900</td>\n",
              "      <td>5</td>\n",
              "      <td>550</td>\n",
              "    </tr>\n",
              "  </tbody>\n",
              "</table>\n",
              "</div>"
            ],
            "text/plain": [
              "   books  food  fortnite_skins  rent\n",
              "0    385   800              15   500\n",
              "1    280   700              10   500\n",
              "2    300   775              40   500\n",
              "3    312   750              18   525\n",
              "4    330   712              16   525\n",
              "5    120   900               5   550"
            ]
          },
          "metadata": {},
          "execution_count": 31
        }
      ]
    },
    {
      "cell_type": "code",
      "metadata": {
        "colab": {
          "base_uri": "https://localhost:8080/",
          "height": 235
        },
        "id": "duMPc6C0mxXa",
        "outputId": "c68274a6-0ed5-4574-d4a0-790aa0580440"
      },
      "source": [
        "costs['girlfriend'] = 100\n",
        "costs"
      ],
      "execution_count": 32,
      "outputs": [
        {
          "output_type": "execute_result",
          "data": {
            "text/html": [
              "<div>\n",
              "<style scoped>\n",
              "    .dataframe tbody tr th:only-of-type {\n",
              "        vertical-align: middle;\n",
              "    }\n",
              "\n",
              "    .dataframe tbody tr th {\n",
              "        vertical-align: top;\n",
              "    }\n",
              "\n",
              "    .dataframe thead th {\n",
              "        text-align: right;\n",
              "    }\n",
              "</style>\n",
              "<table border=\"1\" class=\"dataframe\">\n",
              "  <thead>\n",
              "    <tr style=\"text-align: right;\">\n",
              "      <th></th>\n",
              "      <th>books</th>\n",
              "      <th>food</th>\n",
              "      <th>fortnite_skins</th>\n",
              "      <th>rent</th>\n",
              "      <th>girlfriend</th>\n",
              "    </tr>\n",
              "  </thead>\n",
              "  <tbody>\n",
              "    <tr>\n",
              "      <th>0</th>\n",
              "      <td>385</td>\n",
              "      <td>800</td>\n",
              "      <td>15</td>\n",
              "      <td>500</td>\n",
              "      <td>100</td>\n",
              "    </tr>\n",
              "    <tr>\n",
              "      <th>1</th>\n",
              "      <td>280</td>\n",
              "      <td>700</td>\n",
              "      <td>10</td>\n",
              "      <td>500</td>\n",
              "      <td>100</td>\n",
              "    </tr>\n",
              "    <tr>\n",
              "      <th>2</th>\n",
              "      <td>300</td>\n",
              "      <td>775</td>\n",
              "      <td>40</td>\n",
              "      <td>500</td>\n",
              "      <td>100</td>\n",
              "    </tr>\n",
              "    <tr>\n",
              "      <th>3</th>\n",
              "      <td>312</td>\n",
              "      <td>750</td>\n",
              "      <td>18</td>\n",
              "      <td>525</td>\n",
              "      <td>100</td>\n",
              "    </tr>\n",
              "    <tr>\n",
              "      <th>4</th>\n",
              "      <td>330</td>\n",
              "      <td>712</td>\n",
              "      <td>16</td>\n",
              "      <td>525</td>\n",
              "      <td>100</td>\n",
              "    </tr>\n",
              "    <tr>\n",
              "      <th>5</th>\n",
              "      <td>120</td>\n",
              "      <td>900</td>\n",
              "      <td>5</td>\n",
              "      <td>550</td>\n",
              "      <td>100</td>\n",
              "    </tr>\n",
              "  </tbody>\n",
              "</table>\n",
              "</div>"
            ],
            "text/plain": [
              "   books  food  fortnite_skins  rent  girlfriend\n",
              "0    385   800              15   500         100\n",
              "1    280   700              10   500         100\n",
              "2    300   775              40   500         100\n",
              "3    312   750              18   525         100\n",
              "4    330   712              16   525         100\n",
              "5    120   900               5   550         100"
            ]
          },
          "metadata": {},
          "execution_count": 32
        }
      ]
    },
    {
      "cell_type": "code",
      "metadata": {
        "colab": {
          "base_uri": "https://localhost:8080/",
          "height": 235
        },
        "id": "Gyl0ZuHbm4i2",
        "outputId": "c778cd95-6c17-4daf-c77b-ace06bf983a8"
      },
      "source": [
        "costs = costs.reindex(columns=['rent','books','food','fortnite_skins','girlfriend'])\n",
        "costs"
      ],
      "execution_count": 45,
      "outputs": [
        {
          "output_type": "execute_result",
          "data": {
            "text/html": [
              "<div>\n",
              "<style scoped>\n",
              "    .dataframe tbody tr th:only-of-type {\n",
              "        vertical-align: middle;\n",
              "    }\n",
              "\n",
              "    .dataframe tbody tr th {\n",
              "        vertical-align: top;\n",
              "    }\n",
              "\n",
              "    .dataframe thead th {\n",
              "        text-align: right;\n",
              "    }\n",
              "</style>\n",
              "<table border=\"1\" class=\"dataframe\">\n",
              "  <thead>\n",
              "    <tr style=\"text-align: right;\">\n",
              "      <th></th>\n",
              "      <th>rent</th>\n",
              "      <th>books</th>\n",
              "      <th>food</th>\n",
              "      <th>fortnite_skins</th>\n",
              "      <th>girlfriend</th>\n",
              "    </tr>\n",
              "  </thead>\n",
              "  <tbody>\n",
              "    <tr>\n",
              "      <th>0</th>\n",
              "      <td>500</td>\n",
              "      <td>385</td>\n",
              "      <td>800</td>\n",
              "      <td>15</td>\n",
              "      <td>100</td>\n",
              "    </tr>\n",
              "    <tr>\n",
              "      <th>1</th>\n",
              "      <td>500</td>\n",
              "      <td>280</td>\n",
              "      <td>700</td>\n",
              "      <td>10</td>\n",
              "      <td>100</td>\n",
              "    </tr>\n",
              "    <tr>\n",
              "      <th>2</th>\n",
              "      <td>500</td>\n",
              "      <td>300</td>\n",
              "      <td>775</td>\n",
              "      <td>40</td>\n",
              "      <td>100</td>\n",
              "    </tr>\n",
              "    <tr>\n",
              "      <th>3</th>\n",
              "      <td>525</td>\n",
              "      <td>312</td>\n",
              "      <td>750</td>\n",
              "      <td>18</td>\n",
              "      <td>100</td>\n",
              "    </tr>\n",
              "    <tr>\n",
              "      <th>4</th>\n",
              "      <td>525</td>\n",
              "      <td>330</td>\n",
              "      <td>712</td>\n",
              "      <td>16</td>\n",
              "      <td>100</td>\n",
              "    </tr>\n",
              "    <tr>\n",
              "      <th>5</th>\n",
              "      <td>550</td>\n",
              "      <td>120</td>\n",
              "      <td>900</td>\n",
              "      <td>5</td>\n",
              "      <td>100</td>\n",
              "    </tr>\n",
              "  </tbody>\n",
              "</table>\n",
              "</div>"
            ],
            "text/plain": [
              "   rent  books  food  fortnite_skins  girlfriend\n",
              "0   500    385   800              15         100\n",
              "1   500    280   700              10         100\n",
              "2   500    300   775              40         100\n",
              "3   525    312   750              18         100\n",
              "4   525    330   712              16         100\n",
              "5   550    120   900               5         100"
            ]
          },
          "metadata": {},
          "execution_count": 45
        }
      ]
    },
    {
      "cell_type": "code",
      "metadata": {
        "colab": {
          "base_uri": "https://localhost:8080/",
          "height": 235
        },
        "id": "3zuUGqYwof0L",
        "outputId": "7df805a9-b418-4453-abea-74bbb1906211"
      },
      "source": [
        "costs = costs.sort_values(by='fortnite_skins', ascending=False)\n",
        "costs"
      ],
      "execution_count": 49,
      "outputs": [
        {
          "output_type": "execute_result",
          "data": {
            "text/html": [
              "<div>\n",
              "<style scoped>\n",
              "    .dataframe tbody tr th:only-of-type {\n",
              "        vertical-align: middle;\n",
              "    }\n",
              "\n",
              "    .dataframe tbody tr th {\n",
              "        vertical-align: top;\n",
              "    }\n",
              "\n",
              "    .dataframe thead th {\n",
              "        text-align: right;\n",
              "    }\n",
              "</style>\n",
              "<table border=\"1\" class=\"dataframe\">\n",
              "  <thead>\n",
              "    <tr style=\"text-align: right;\">\n",
              "      <th></th>\n",
              "      <th>rent</th>\n",
              "      <th>books</th>\n",
              "      <th>food</th>\n",
              "      <th>fortnite_skins</th>\n",
              "      <th>girlfriend</th>\n",
              "    </tr>\n",
              "  </thead>\n",
              "  <tbody>\n",
              "    <tr>\n",
              "      <th>2</th>\n",
              "      <td>500</td>\n",
              "      <td>300</td>\n",
              "      <td>775</td>\n",
              "      <td>40</td>\n",
              "      <td>100</td>\n",
              "    </tr>\n",
              "    <tr>\n",
              "      <th>3</th>\n",
              "      <td>525</td>\n",
              "      <td>312</td>\n",
              "      <td>750</td>\n",
              "      <td>18</td>\n",
              "      <td>100</td>\n",
              "    </tr>\n",
              "    <tr>\n",
              "      <th>4</th>\n",
              "      <td>525</td>\n",
              "      <td>330</td>\n",
              "      <td>712</td>\n",
              "      <td>16</td>\n",
              "      <td>100</td>\n",
              "    </tr>\n",
              "    <tr>\n",
              "      <th>0</th>\n",
              "      <td>500</td>\n",
              "      <td>385</td>\n",
              "      <td>800</td>\n",
              "      <td>15</td>\n",
              "      <td>100</td>\n",
              "    </tr>\n",
              "    <tr>\n",
              "      <th>1</th>\n",
              "      <td>500</td>\n",
              "      <td>280</td>\n",
              "      <td>700</td>\n",
              "      <td>10</td>\n",
              "      <td>100</td>\n",
              "    </tr>\n",
              "    <tr>\n",
              "      <th>5</th>\n",
              "      <td>550</td>\n",
              "      <td>120</td>\n",
              "      <td>900</td>\n",
              "      <td>5</td>\n",
              "      <td>100</td>\n",
              "    </tr>\n",
              "  </tbody>\n",
              "</table>\n",
              "</div>"
            ],
            "text/plain": [
              "   rent  books  food  fortnite_skins  girlfriend\n",
              "2   500    300   775              40         100\n",
              "3   525    312   750              18         100\n",
              "4   525    330   712              16         100\n",
              "0   500    385   800              15         100\n",
              "1   500    280   700              10         100\n",
              "5   550    120   900               5         100"
            ]
          },
          "metadata": {},
          "execution_count": 49
        }
      ]
    },
    {
      "cell_type": "code",
      "metadata": {
        "colab": {
          "base_uri": "https://localhost:8080/",
          "height": 235
        },
        "id": "zlJGz8eVo2TK",
        "outputId": "97a86432-909c-4a19-d93b-86fd217028f2"
      },
      "source": [
        "costs['rent'] = 1000\n",
        "costs"
      ],
      "execution_count": 52,
      "outputs": [
        {
          "output_type": "execute_result",
          "data": {
            "text/html": [
              "<div>\n",
              "<style scoped>\n",
              "    .dataframe tbody tr th:only-of-type {\n",
              "        vertical-align: middle;\n",
              "    }\n",
              "\n",
              "    .dataframe tbody tr th {\n",
              "        vertical-align: top;\n",
              "    }\n",
              "\n",
              "    .dataframe thead th {\n",
              "        text-align: right;\n",
              "    }\n",
              "</style>\n",
              "<table border=\"1\" class=\"dataframe\">\n",
              "  <thead>\n",
              "    <tr style=\"text-align: right;\">\n",
              "      <th></th>\n",
              "      <th>rent</th>\n",
              "      <th>books</th>\n",
              "      <th>food</th>\n",
              "      <th>fortnite_skins</th>\n",
              "      <th>girlfriend</th>\n",
              "    </tr>\n",
              "  </thead>\n",
              "  <tbody>\n",
              "    <tr>\n",
              "      <th>2</th>\n",
              "      <td>1000</td>\n",
              "      <td>300</td>\n",
              "      <td>775</td>\n",
              "      <td>40</td>\n",
              "      <td>100</td>\n",
              "    </tr>\n",
              "    <tr>\n",
              "      <th>3</th>\n",
              "      <td>1000</td>\n",
              "      <td>312</td>\n",
              "      <td>750</td>\n",
              "      <td>18</td>\n",
              "      <td>100</td>\n",
              "    </tr>\n",
              "    <tr>\n",
              "      <th>4</th>\n",
              "      <td>1000</td>\n",
              "      <td>330</td>\n",
              "      <td>712</td>\n",
              "      <td>16</td>\n",
              "      <td>100</td>\n",
              "    </tr>\n",
              "    <tr>\n",
              "      <th>0</th>\n",
              "      <td>1000</td>\n",
              "      <td>385</td>\n",
              "      <td>800</td>\n",
              "      <td>15</td>\n",
              "      <td>100</td>\n",
              "    </tr>\n",
              "    <tr>\n",
              "      <th>1</th>\n",
              "      <td>1000</td>\n",
              "      <td>280</td>\n",
              "      <td>700</td>\n",
              "      <td>10</td>\n",
              "      <td>100</td>\n",
              "    </tr>\n",
              "    <tr>\n",
              "      <th>5</th>\n",
              "      <td>1000</td>\n",
              "      <td>120</td>\n",
              "      <td>900</td>\n",
              "      <td>5</td>\n",
              "      <td>100</td>\n",
              "    </tr>\n",
              "  </tbody>\n",
              "</table>\n",
              "</div>"
            ],
            "text/plain": [
              "   rent  books  food  fortnite_skins  girlfriend\n",
              "2  1000    300   775              40         100\n",
              "3  1000    312   750              18         100\n",
              "4  1000    330   712              16         100\n",
              "0  1000    385   800              15         100\n",
              "1  1000    280   700              10         100\n",
              "5  1000    120   900               5         100"
            ]
          },
          "metadata": {},
          "execution_count": 52
        }
      ]
    },
    {
      "cell_type": "code",
      "metadata": {
        "colab": {
          "base_uri": "https://localhost:8080/",
          "height": 235
        },
        "id": "DciYtP2oo_Dq",
        "outputId": "f869e68e-18e0-4de1-ea89-55b58842849b"
      },
      "source": [
        "costs.head(6)"
      ],
      "execution_count": 53,
      "outputs": [
        {
          "output_type": "execute_result",
          "data": {
            "text/html": [
              "<div>\n",
              "<style scoped>\n",
              "    .dataframe tbody tr th:only-of-type {\n",
              "        vertical-align: middle;\n",
              "    }\n",
              "\n",
              "    .dataframe tbody tr th {\n",
              "        vertical-align: top;\n",
              "    }\n",
              "\n",
              "    .dataframe thead th {\n",
              "        text-align: right;\n",
              "    }\n",
              "</style>\n",
              "<table border=\"1\" class=\"dataframe\">\n",
              "  <thead>\n",
              "    <tr style=\"text-align: right;\">\n",
              "      <th></th>\n",
              "      <th>rent</th>\n",
              "      <th>books</th>\n",
              "      <th>food</th>\n",
              "      <th>fortnite_skins</th>\n",
              "      <th>girlfriend</th>\n",
              "    </tr>\n",
              "  </thead>\n",
              "  <tbody>\n",
              "    <tr>\n",
              "      <th>2</th>\n",
              "      <td>1000</td>\n",
              "      <td>300</td>\n",
              "      <td>775</td>\n",
              "      <td>40</td>\n",
              "      <td>100</td>\n",
              "    </tr>\n",
              "    <tr>\n",
              "      <th>3</th>\n",
              "      <td>1000</td>\n",
              "      <td>312</td>\n",
              "      <td>750</td>\n",
              "      <td>18</td>\n",
              "      <td>100</td>\n",
              "    </tr>\n",
              "    <tr>\n",
              "      <th>4</th>\n",
              "      <td>1000</td>\n",
              "      <td>330</td>\n",
              "      <td>712</td>\n",
              "      <td>16</td>\n",
              "      <td>100</td>\n",
              "    </tr>\n",
              "    <tr>\n",
              "      <th>0</th>\n",
              "      <td>1000</td>\n",
              "      <td>385</td>\n",
              "      <td>800</td>\n",
              "      <td>15</td>\n",
              "      <td>100</td>\n",
              "    </tr>\n",
              "    <tr>\n",
              "      <th>1</th>\n",
              "      <td>1000</td>\n",
              "      <td>280</td>\n",
              "      <td>700</td>\n",
              "      <td>10</td>\n",
              "      <td>100</td>\n",
              "    </tr>\n",
              "    <tr>\n",
              "      <th>5</th>\n",
              "      <td>1000</td>\n",
              "      <td>120</td>\n",
              "      <td>900</td>\n",
              "      <td>5</td>\n",
              "      <td>100</td>\n",
              "    </tr>\n",
              "  </tbody>\n",
              "</table>\n",
              "</div>"
            ],
            "text/plain": [
              "   rent  books  food  fortnite_skins  girlfriend\n",
              "2  1000    300   775              40         100\n",
              "3  1000    312   750              18         100\n",
              "4  1000    330   712              16         100\n",
              "0  1000    385   800              15         100\n",
              "1  1000    280   700              10         100\n",
              "5  1000    120   900               5         100"
            ]
          },
          "metadata": {},
          "execution_count": 53
        }
      ]
    },
    {
      "cell_type": "markdown",
      "metadata": {
        "id": "6NKHq6-ryXXf"
      },
      "source": [
        "#Exercise 4"
      ]
    },
    {
      "cell_type": "code",
      "metadata": {
        "colab": {
          "base_uri": "https://localhost:8080/",
          "height": 235
        },
        "id": "Pynj8lrMpdGN",
        "outputId": "825282dc-15a0-4eb7-b40d-ec18bba863ae"
      },
      "source": [
        "costs.dropna()"
      ],
      "execution_count": 58,
      "outputs": [
        {
          "output_type": "execute_result",
          "data": {
            "text/html": [
              "<div>\n",
              "<style scoped>\n",
              "    .dataframe tbody tr th:only-of-type {\n",
              "        vertical-align: middle;\n",
              "    }\n",
              "\n",
              "    .dataframe tbody tr th {\n",
              "        vertical-align: top;\n",
              "    }\n",
              "\n",
              "    .dataframe thead th {\n",
              "        text-align: right;\n",
              "    }\n",
              "</style>\n",
              "<table border=\"1\" class=\"dataframe\">\n",
              "  <thead>\n",
              "    <tr style=\"text-align: right;\">\n",
              "      <th></th>\n",
              "      <th>rent</th>\n",
              "      <th>books</th>\n",
              "      <th>food</th>\n",
              "      <th>fortnite_skins</th>\n",
              "      <th>girlfriend</th>\n",
              "    </tr>\n",
              "  </thead>\n",
              "  <tbody>\n",
              "    <tr>\n",
              "      <th>2</th>\n",
              "      <td>1000</td>\n",
              "      <td>300</td>\n",
              "      <td>775</td>\n",
              "      <td>40</td>\n",
              "      <td>100</td>\n",
              "    </tr>\n",
              "    <tr>\n",
              "      <th>3</th>\n",
              "      <td>1000</td>\n",
              "      <td>312</td>\n",
              "      <td>750</td>\n",
              "      <td>18</td>\n",
              "      <td>100</td>\n",
              "    </tr>\n",
              "    <tr>\n",
              "      <th>4</th>\n",
              "      <td>1000</td>\n",
              "      <td>330</td>\n",
              "      <td>712</td>\n",
              "      <td>16</td>\n",
              "      <td>100</td>\n",
              "    </tr>\n",
              "    <tr>\n",
              "      <th>0</th>\n",
              "      <td>1000</td>\n",
              "      <td>385</td>\n",
              "      <td>800</td>\n",
              "      <td>15</td>\n",
              "      <td>100</td>\n",
              "    </tr>\n",
              "    <tr>\n",
              "      <th>1</th>\n",
              "      <td>1000</td>\n",
              "      <td>280</td>\n",
              "      <td>700</td>\n",
              "      <td>10</td>\n",
              "      <td>100</td>\n",
              "    </tr>\n",
              "    <tr>\n",
              "      <th>5</th>\n",
              "      <td>1000</td>\n",
              "      <td>120</td>\n",
              "      <td>900</td>\n",
              "      <td>5</td>\n",
              "      <td>100</td>\n",
              "    </tr>\n",
              "  </tbody>\n",
              "</table>\n",
              "</div>"
            ],
            "text/plain": [
              "   rent  books  food  fortnite_skins  girlfriend\n",
              "2  1000    300   775              40         100\n",
              "3  1000    312   750              18         100\n",
              "4  1000    330   712              16         100\n",
              "0  1000    385   800              15         100\n",
              "1  1000    280   700              10         100\n",
              "5  1000    120   900               5         100"
            ]
          },
          "metadata": {},
          "execution_count": 58
        }
      ]
    },
    {
      "cell_type": "code",
      "metadata": {
        "colab": {
          "base_uri": "https://localhost:8080/",
          "height": 235
        },
        "id": "FIheT-cSpfNt",
        "outputId": "a8d277e1-7eae-4689-81f2-f45d5019f1be"
      },
      "source": [
        "costs.fillna(0.0)"
      ],
      "execution_count": 59,
      "outputs": [
        {
          "output_type": "execute_result",
          "data": {
            "text/html": [
              "<div>\n",
              "<style scoped>\n",
              "    .dataframe tbody tr th:only-of-type {\n",
              "        vertical-align: middle;\n",
              "    }\n",
              "\n",
              "    .dataframe tbody tr th {\n",
              "        vertical-align: top;\n",
              "    }\n",
              "\n",
              "    .dataframe thead th {\n",
              "        text-align: right;\n",
              "    }\n",
              "</style>\n",
              "<table border=\"1\" class=\"dataframe\">\n",
              "  <thead>\n",
              "    <tr style=\"text-align: right;\">\n",
              "      <th></th>\n",
              "      <th>rent</th>\n",
              "      <th>books</th>\n",
              "      <th>food</th>\n",
              "      <th>fortnite_skins</th>\n",
              "      <th>girlfriend</th>\n",
              "    </tr>\n",
              "  </thead>\n",
              "  <tbody>\n",
              "    <tr>\n",
              "      <th>2</th>\n",
              "      <td>1000</td>\n",
              "      <td>300</td>\n",
              "      <td>775</td>\n",
              "      <td>40</td>\n",
              "      <td>100</td>\n",
              "    </tr>\n",
              "    <tr>\n",
              "      <th>3</th>\n",
              "      <td>1000</td>\n",
              "      <td>312</td>\n",
              "      <td>750</td>\n",
              "      <td>18</td>\n",
              "      <td>100</td>\n",
              "    </tr>\n",
              "    <tr>\n",
              "      <th>4</th>\n",
              "      <td>1000</td>\n",
              "      <td>330</td>\n",
              "      <td>712</td>\n",
              "      <td>16</td>\n",
              "      <td>100</td>\n",
              "    </tr>\n",
              "    <tr>\n",
              "      <th>0</th>\n",
              "      <td>1000</td>\n",
              "      <td>385</td>\n",
              "      <td>800</td>\n",
              "      <td>15</td>\n",
              "      <td>100</td>\n",
              "    </tr>\n",
              "    <tr>\n",
              "      <th>1</th>\n",
              "      <td>1000</td>\n",
              "      <td>280</td>\n",
              "      <td>700</td>\n",
              "      <td>10</td>\n",
              "      <td>100</td>\n",
              "    </tr>\n",
              "    <tr>\n",
              "      <th>5</th>\n",
              "      <td>1000</td>\n",
              "      <td>120</td>\n",
              "      <td>900</td>\n",
              "      <td>5</td>\n",
              "      <td>100</td>\n",
              "    </tr>\n",
              "  </tbody>\n",
              "</table>\n",
              "</div>"
            ],
            "text/plain": [
              "   rent  books  food  fortnite_skins  girlfriend\n",
              "2  1000    300   775              40         100\n",
              "3  1000    312   750              18         100\n",
              "4  1000    330   712              16         100\n",
              "0  1000    385   800              15         100\n",
              "1  1000    280   700              10         100\n",
              "5  1000    120   900               5         100"
            ]
          },
          "metadata": {},
          "execution_count": 59
        }
      ]
    },
    {
      "cell_type": "code",
      "metadata": {
        "id": "V_x_X7DkyisY",
        "colab": {
          "base_uri": "https://localhost:8080/"
        },
        "outputId": "7d55ab54-9764-466d-b955-a5ff6dd5fe4c"
      },
      "source": [
        "costs.mean()"
      ],
      "execution_count": 60,
      "outputs": [
        {
          "output_type": "execute_result",
          "data": {
            "text/plain": [
              "rent              1000.000000\n",
              "books              287.833333\n",
              "food               772.833333\n",
              "fortnite_skins      17.333333\n",
              "girlfriend         100.000000\n",
              "dtype: float64"
            ]
          },
          "metadata": {},
          "execution_count": 60
        }
      ]
    },
    {
      "cell_type": "markdown",
      "metadata": {
        "id": "cLT1VQbOyXio"
      },
      "source": [
        "#Exercise 5"
      ]
    },
    {
      "cell_type": "code",
      "metadata": {
        "id": "piOBeEDAyjVR",
        "colab": {
          "base_uri": "https://localhost:8080/",
          "height": 669
        },
        "outputId": "7a3e5fa2-e3d0-49b0-bc89-af08a8a8c35c"
      },
      "source": [
        "sups = pd.read_csv('supplements.csv')\n",
        "sups"
      ],
      "execution_count": 64,
      "outputs": [
        {
          "output_type": "execute_result",
          "data": {
            "text/html": [
              "<div>\n",
              "<style scoped>\n",
              "    .dataframe tbody tr th:only-of-type {\n",
              "        vertical-align: middle;\n",
              "    }\n",
              "\n",
              "    .dataframe tbody tr th {\n",
              "        vertical-align: top;\n",
              "    }\n",
              "\n",
              "    .dataframe thead th {\n",
              "        text-align: right;\n",
              "    }\n",
              "</style>\n",
              "<table border=\"1\" class=\"dataframe\">\n",
              "  <thead>\n",
              "    <tr style=\"text-align: right;\">\n",
              "      <th></th>\n",
              "      <th>vitamin_c</th>\n",
              "      <th>vitamin_d</th>\n",
              "      <th>vitamin_e</th>\n",
              "      <th>vitamin_k</th>\n",
              "      <th>vitamin_b6</th>\n",
              "    </tr>\n",
              "  </thead>\n",
              "  <tbody>\n",
              "    <tr>\n",
              "      <th>0</th>\n",
              "      <td>NaN</td>\n",
              "      <td>547.0</td>\n",
              "      <td>21.0</td>\n",
              "      <td>25.0</td>\n",
              "      <td>6.0</td>\n",
              "    </tr>\n",
              "    <tr>\n",
              "      <th>1</th>\n",
              "      <td>65.0</td>\n",
              "      <td>744.0</td>\n",
              "      <td>21.0</td>\n",
              "      <td>25.0</td>\n",
              "      <td>6.0</td>\n",
              "    </tr>\n",
              "    <tr>\n",
              "      <th>2</th>\n",
              "      <td>71.0</td>\n",
              "      <td>664.0</td>\n",
              "      <td>22.0</td>\n",
              "      <td>30.0</td>\n",
              "      <td>NaN</td>\n",
              "    </tr>\n",
              "    <tr>\n",
              "      <th>3</th>\n",
              "      <td>49.0</td>\n",
              "      <td>506.0</td>\n",
              "      <td>20.0</td>\n",
              "      <td>37.0</td>\n",
              "      <td>9.0</td>\n",
              "    </tr>\n",
              "    <tr>\n",
              "      <th>4</th>\n",
              "      <td>43.0</td>\n",
              "      <td>520.0</td>\n",
              "      <td>24.0</td>\n",
              "      <td>23.0</td>\n",
              "      <td>0.0</td>\n",
              "    </tr>\n",
              "    <tr>\n",
              "      <th>5</th>\n",
              "      <td>69.0</td>\n",
              "      <td>417.0</td>\n",
              "      <td>24.0</td>\n",
              "      <td>38.0</td>\n",
              "      <td>8.0</td>\n",
              "    </tr>\n",
              "    <tr>\n",
              "      <th>6</th>\n",
              "      <td>51.0</td>\n",
              "      <td>556.0</td>\n",
              "      <td>20.0</td>\n",
              "      <td>NaN</td>\n",
              "      <td>5.0</td>\n",
              "    </tr>\n",
              "    <tr>\n",
              "      <th>7</th>\n",
              "      <td>59.0</td>\n",
              "      <td>768.0</td>\n",
              "      <td>24.0</td>\n",
              "      <td>31.0</td>\n",
              "      <td>8.0</td>\n",
              "    </tr>\n",
              "    <tr>\n",
              "      <th>8</th>\n",
              "      <td>69.0</td>\n",
              "      <td>439.0</td>\n",
              "      <td>24.0</td>\n",
              "      <td>37.0</td>\n",
              "      <td>1.0</td>\n",
              "    </tr>\n",
              "    <tr>\n",
              "      <th>9</th>\n",
              "      <td>59.0</td>\n",
              "      <td>476.0</td>\n",
              "      <td>20.0</td>\n",
              "      <td>32.0</td>\n",
              "      <td>9.0</td>\n",
              "    </tr>\n",
              "    <tr>\n",
              "      <th>10</th>\n",
              "      <td>65.0</td>\n",
              "      <td>585.0</td>\n",
              "      <td>24.0</td>\n",
              "      <td>18.0</td>\n",
              "      <td>8.0</td>\n",
              "    </tr>\n",
              "    <tr>\n",
              "      <th>11</th>\n",
              "      <td>80.0</td>\n",
              "      <td>516.0</td>\n",
              "      <td>23.0</td>\n",
              "      <td>30.0</td>\n",
              "      <td>7.0</td>\n",
              "    </tr>\n",
              "    <tr>\n",
              "      <th>12</th>\n",
              "      <td>59.0</td>\n",
              "      <td>591.0</td>\n",
              "      <td>23.0</td>\n",
              "      <td>30.0</td>\n",
              "      <td>3.0</td>\n",
              "    </tr>\n",
              "    <tr>\n",
              "      <th>13</th>\n",
              "      <td>60.0</td>\n",
              "      <td>549.0</td>\n",
              "      <td>22.0</td>\n",
              "      <td>32.0</td>\n",
              "      <td>0.0</td>\n",
              "    </tr>\n",
              "    <tr>\n",
              "      <th>14</th>\n",
              "      <td>80.0</td>\n",
              "      <td>NaN</td>\n",
              "      <td>NaN</td>\n",
              "      <td>38.0</td>\n",
              "      <td>10.0</td>\n",
              "    </tr>\n",
              "    <tr>\n",
              "      <th>15</th>\n",
              "      <td>77.0</td>\n",
              "      <td>790.0</td>\n",
              "      <td>23.0</td>\n",
              "      <td>23.0</td>\n",
              "      <td>10.0</td>\n",
              "    </tr>\n",
              "    <tr>\n",
              "      <th>16</th>\n",
              "      <td>71.0</td>\n",
              "      <td>771.0</td>\n",
              "      <td>24.0</td>\n",
              "      <td>18.0</td>\n",
              "      <td>1.0</td>\n",
              "    </tr>\n",
              "    <tr>\n",
              "      <th>17</th>\n",
              "      <td>42.0</td>\n",
              "      <td>764.0</td>\n",
              "      <td>22.0</td>\n",
              "      <td>NaN</td>\n",
              "      <td>5.0</td>\n",
              "    </tr>\n",
              "    <tr>\n",
              "      <th>18</th>\n",
              "      <td>NaN</td>\n",
              "      <td>517.0</td>\n",
              "      <td>24.0</td>\n",
              "      <td>20.0</td>\n",
              "      <td>6.0</td>\n",
              "    </tr>\n",
              "    <tr>\n",
              "      <th>19</th>\n",
              "      <td>68.0</td>\n",
              "      <td>770.0</td>\n",
              "      <td>24.0</td>\n",
              "      <td>31.0</td>\n",
              "      <td>3.0</td>\n",
              "    </tr>\n",
              "  </tbody>\n",
              "</table>\n",
              "</div>"
            ],
            "text/plain": [
              "    vitamin_c  vitamin_d  vitamin_e  vitamin_k  vitamin_b6\n",
              "0         NaN      547.0       21.0       25.0         6.0\n",
              "1        65.0      744.0       21.0       25.0         6.0\n",
              "2        71.0      664.0       22.0       30.0         NaN\n",
              "3        49.0      506.0       20.0       37.0         9.0\n",
              "4        43.0      520.0       24.0       23.0         0.0\n",
              "5        69.0      417.0       24.0       38.0         8.0\n",
              "6        51.0      556.0       20.0        NaN         5.0\n",
              "7        59.0      768.0       24.0       31.0         8.0\n",
              "8        69.0      439.0       24.0       37.0         1.0\n",
              "9        59.0      476.0       20.0       32.0         9.0\n",
              "10       65.0      585.0       24.0       18.0         8.0\n",
              "11       80.0      516.0       23.0       30.0         7.0\n",
              "12       59.0      591.0       23.0       30.0         3.0\n",
              "13       60.0      549.0       22.0       32.0         0.0\n",
              "14       80.0        NaN        NaN       38.0        10.0\n",
              "15       77.0      790.0       23.0       23.0        10.0\n",
              "16       71.0      771.0       24.0       18.0         1.0\n",
              "17       42.0      764.0       22.0        NaN         5.0\n",
              "18        NaN      517.0       24.0       20.0         6.0\n",
              "19       68.0      770.0       24.0       31.0         3.0"
            ]
          },
          "metadata": {},
          "execution_count": 64
        }
      ]
    },
    {
      "cell_type": "code",
      "metadata": {
        "colab": {
          "base_uri": "https://localhost:8080/",
          "height": 669
        },
        "id": "gj4c31chp7c-",
        "outputId": "43b3cbb4-ebb3-400b-edef-1f4048f5f7ab"
      },
      "source": [
        "sups = sups.bfill(axis='rows')\n",
        "sups"
      ],
      "execution_count": 70,
      "outputs": [
        {
          "output_type": "execute_result",
          "data": {
            "text/html": [
              "<div>\n",
              "<style scoped>\n",
              "    .dataframe tbody tr th:only-of-type {\n",
              "        vertical-align: middle;\n",
              "    }\n",
              "\n",
              "    .dataframe tbody tr th {\n",
              "        vertical-align: top;\n",
              "    }\n",
              "\n",
              "    .dataframe thead th {\n",
              "        text-align: right;\n",
              "    }\n",
              "</style>\n",
              "<table border=\"1\" class=\"dataframe\">\n",
              "  <thead>\n",
              "    <tr style=\"text-align: right;\">\n",
              "      <th></th>\n",
              "      <th>vitamin_c</th>\n",
              "      <th>vitamin_d</th>\n",
              "      <th>vitamin_e</th>\n",
              "      <th>vitamin_k</th>\n",
              "      <th>vitamin_b6</th>\n",
              "    </tr>\n",
              "  </thead>\n",
              "  <tbody>\n",
              "    <tr>\n",
              "      <th>0</th>\n",
              "      <td>65.0</td>\n",
              "      <td>547.0</td>\n",
              "      <td>21.0</td>\n",
              "      <td>25.0</td>\n",
              "      <td>6.0</td>\n",
              "    </tr>\n",
              "    <tr>\n",
              "      <th>1</th>\n",
              "      <td>65.0</td>\n",
              "      <td>744.0</td>\n",
              "      <td>21.0</td>\n",
              "      <td>25.0</td>\n",
              "      <td>6.0</td>\n",
              "    </tr>\n",
              "    <tr>\n",
              "      <th>2</th>\n",
              "      <td>71.0</td>\n",
              "      <td>664.0</td>\n",
              "      <td>22.0</td>\n",
              "      <td>30.0</td>\n",
              "      <td>9.0</td>\n",
              "    </tr>\n",
              "    <tr>\n",
              "      <th>3</th>\n",
              "      <td>49.0</td>\n",
              "      <td>506.0</td>\n",
              "      <td>20.0</td>\n",
              "      <td>37.0</td>\n",
              "      <td>9.0</td>\n",
              "    </tr>\n",
              "    <tr>\n",
              "      <th>4</th>\n",
              "      <td>43.0</td>\n",
              "      <td>520.0</td>\n",
              "      <td>24.0</td>\n",
              "      <td>23.0</td>\n",
              "      <td>0.0</td>\n",
              "    </tr>\n",
              "    <tr>\n",
              "      <th>5</th>\n",
              "      <td>69.0</td>\n",
              "      <td>417.0</td>\n",
              "      <td>24.0</td>\n",
              "      <td>38.0</td>\n",
              "      <td>8.0</td>\n",
              "    </tr>\n",
              "    <tr>\n",
              "      <th>6</th>\n",
              "      <td>51.0</td>\n",
              "      <td>556.0</td>\n",
              "      <td>20.0</td>\n",
              "      <td>31.0</td>\n",
              "      <td>5.0</td>\n",
              "    </tr>\n",
              "    <tr>\n",
              "      <th>7</th>\n",
              "      <td>59.0</td>\n",
              "      <td>768.0</td>\n",
              "      <td>24.0</td>\n",
              "      <td>31.0</td>\n",
              "      <td>8.0</td>\n",
              "    </tr>\n",
              "    <tr>\n",
              "      <th>8</th>\n",
              "      <td>69.0</td>\n",
              "      <td>439.0</td>\n",
              "      <td>24.0</td>\n",
              "      <td>37.0</td>\n",
              "      <td>1.0</td>\n",
              "    </tr>\n",
              "    <tr>\n",
              "      <th>9</th>\n",
              "      <td>59.0</td>\n",
              "      <td>476.0</td>\n",
              "      <td>20.0</td>\n",
              "      <td>32.0</td>\n",
              "      <td>9.0</td>\n",
              "    </tr>\n",
              "    <tr>\n",
              "      <th>10</th>\n",
              "      <td>65.0</td>\n",
              "      <td>585.0</td>\n",
              "      <td>24.0</td>\n",
              "      <td>18.0</td>\n",
              "      <td>8.0</td>\n",
              "    </tr>\n",
              "    <tr>\n",
              "      <th>11</th>\n",
              "      <td>80.0</td>\n",
              "      <td>516.0</td>\n",
              "      <td>23.0</td>\n",
              "      <td>30.0</td>\n",
              "      <td>7.0</td>\n",
              "    </tr>\n",
              "    <tr>\n",
              "      <th>12</th>\n",
              "      <td>59.0</td>\n",
              "      <td>591.0</td>\n",
              "      <td>23.0</td>\n",
              "      <td>30.0</td>\n",
              "      <td>3.0</td>\n",
              "    </tr>\n",
              "    <tr>\n",
              "      <th>13</th>\n",
              "      <td>60.0</td>\n",
              "      <td>549.0</td>\n",
              "      <td>22.0</td>\n",
              "      <td>32.0</td>\n",
              "      <td>0.0</td>\n",
              "    </tr>\n",
              "    <tr>\n",
              "      <th>14</th>\n",
              "      <td>80.0</td>\n",
              "      <td>790.0</td>\n",
              "      <td>23.0</td>\n",
              "      <td>38.0</td>\n",
              "      <td>10.0</td>\n",
              "    </tr>\n",
              "    <tr>\n",
              "      <th>15</th>\n",
              "      <td>77.0</td>\n",
              "      <td>790.0</td>\n",
              "      <td>23.0</td>\n",
              "      <td>23.0</td>\n",
              "      <td>10.0</td>\n",
              "    </tr>\n",
              "    <tr>\n",
              "      <th>16</th>\n",
              "      <td>71.0</td>\n",
              "      <td>771.0</td>\n",
              "      <td>24.0</td>\n",
              "      <td>18.0</td>\n",
              "      <td>1.0</td>\n",
              "    </tr>\n",
              "    <tr>\n",
              "      <th>17</th>\n",
              "      <td>42.0</td>\n",
              "      <td>764.0</td>\n",
              "      <td>22.0</td>\n",
              "      <td>20.0</td>\n",
              "      <td>5.0</td>\n",
              "    </tr>\n",
              "    <tr>\n",
              "      <th>18</th>\n",
              "      <td>68.0</td>\n",
              "      <td>517.0</td>\n",
              "      <td>24.0</td>\n",
              "      <td>20.0</td>\n",
              "      <td>6.0</td>\n",
              "    </tr>\n",
              "    <tr>\n",
              "      <th>19</th>\n",
              "      <td>68.0</td>\n",
              "      <td>770.0</td>\n",
              "      <td>24.0</td>\n",
              "      <td>31.0</td>\n",
              "      <td>3.0</td>\n",
              "    </tr>\n",
              "  </tbody>\n",
              "</table>\n",
              "</div>"
            ],
            "text/plain": [
              "    vitamin_c  vitamin_d  vitamin_e  vitamin_k  vitamin_b6\n",
              "0        65.0      547.0       21.0       25.0         6.0\n",
              "1        65.0      744.0       21.0       25.0         6.0\n",
              "2        71.0      664.0       22.0       30.0         9.0\n",
              "3        49.0      506.0       20.0       37.0         9.0\n",
              "4        43.0      520.0       24.0       23.0         0.0\n",
              "5        69.0      417.0       24.0       38.0         8.0\n",
              "6        51.0      556.0       20.0       31.0         5.0\n",
              "7        59.0      768.0       24.0       31.0         8.0\n",
              "8        69.0      439.0       24.0       37.0         1.0\n",
              "9        59.0      476.0       20.0       32.0         9.0\n",
              "10       65.0      585.0       24.0       18.0         8.0\n",
              "11       80.0      516.0       23.0       30.0         7.0\n",
              "12       59.0      591.0       23.0       30.0         3.0\n",
              "13       60.0      549.0       22.0       32.0         0.0\n",
              "14       80.0      790.0       23.0       38.0        10.0\n",
              "15       77.0      790.0       23.0       23.0        10.0\n",
              "16       71.0      771.0       24.0       18.0         1.0\n",
              "17       42.0      764.0       22.0       20.0         5.0\n",
              "18       68.0      517.0       24.0       20.0         6.0\n",
              "19       68.0      770.0       24.0       31.0         3.0"
            ]
          },
          "metadata": {},
          "execution_count": 70
        }
      ]
    },
    {
      "cell_type": "code",
      "metadata": {
        "colab": {
          "base_uri": "https://localhost:8080/",
          "height": 669
        },
        "id": "HiYylc7kqobl",
        "outputId": "a1d505ce-fd26-48b3-e33c-0c697d642a68"
      },
      "source": [
        "sups = sups.sort_values(by='vitamin_b6',ascending=False)\n",
        "sups"
      ],
      "execution_count": 73,
      "outputs": [
        {
          "output_type": "execute_result",
          "data": {
            "text/html": [
              "<div>\n",
              "<style scoped>\n",
              "    .dataframe tbody tr th:only-of-type {\n",
              "        vertical-align: middle;\n",
              "    }\n",
              "\n",
              "    .dataframe tbody tr th {\n",
              "        vertical-align: top;\n",
              "    }\n",
              "\n",
              "    .dataframe thead th {\n",
              "        text-align: right;\n",
              "    }\n",
              "</style>\n",
              "<table border=\"1\" class=\"dataframe\">\n",
              "  <thead>\n",
              "    <tr style=\"text-align: right;\">\n",
              "      <th></th>\n",
              "      <th>vitamin_c</th>\n",
              "      <th>vitamin_d</th>\n",
              "      <th>vitamin_e</th>\n",
              "      <th>vitamin_k</th>\n",
              "      <th>vitamin_b6</th>\n",
              "    </tr>\n",
              "  </thead>\n",
              "  <tbody>\n",
              "    <tr>\n",
              "      <th>15</th>\n",
              "      <td>77.0</td>\n",
              "      <td>790.0</td>\n",
              "      <td>23.0</td>\n",
              "      <td>23.0</td>\n",
              "      <td>10.0</td>\n",
              "    </tr>\n",
              "    <tr>\n",
              "      <th>14</th>\n",
              "      <td>80.0</td>\n",
              "      <td>790.0</td>\n",
              "      <td>23.0</td>\n",
              "      <td>38.0</td>\n",
              "      <td>10.0</td>\n",
              "    </tr>\n",
              "    <tr>\n",
              "      <th>2</th>\n",
              "      <td>71.0</td>\n",
              "      <td>664.0</td>\n",
              "      <td>22.0</td>\n",
              "      <td>30.0</td>\n",
              "      <td>9.0</td>\n",
              "    </tr>\n",
              "    <tr>\n",
              "      <th>3</th>\n",
              "      <td>49.0</td>\n",
              "      <td>506.0</td>\n",
              "      <td>20.0</td>\n",
              "      <td>37.0</td>\n",
              "      <td>9.0</td>\n",
              "    </tr>\n",
              "    <tr>\n",
              "      <th>9</th>\n",
              "      <td>59.0</td>\n",
              "      <td>476.0</td>\n",
              "      <td>20.0</td>\n",
              "      <td>32.0</td>\n",
              "      <td>9.0</td>\n",
              "    </tr>\n",
              "    <tr>\n",
              "      <th>10</th>\n",
              "      <td>65.0</td>\n",
              "      <td>585.0</td>\n",
              "      <td>24.0</td>\n",
              "      <td>18.0</td>\n",
              "      <td>8.0</td>\n",
              "    </tr>\n",
              "    <tr>\n",
              "      <th>5</th>\n",
              "      <td>69.0</td>\n",
              "      <td>417.0</td>\n",
              "      <td>24.0</td>\n",
              "      <td>38.0</td>\n",
              "      <td>8.0</td>\n",
              "    </tr>\n",
              "    <tr>\n",
              "      <th>7</th>\n",
              "      <td>59.0</td>\n",
              "      <td>768.0</td>\n",
              "      <td>24.0</td>\n",
              "      <td>31.0</td>\n",
              "      <td>8.0</td>\n",
              "    </tr>\n",
              "    <tr>\n",
              "      <th>11</th>\n",
              "      <td>80.0</td>\n",
              "      <td>516.0</td>\n",
              "      <td>23.0</td>\n",
              "      <td>30.0</td>\n",
              "      <td>7.0</td>\n",
              "    </tr>\n",
              "    <tr>\n",
              "      <th>1</th>\n",
              "      <td>65.0</td>\n",
              "      <td>744.0</td>\n",
              "      <td>21.0</td>\n",
              "      <td>25.0</td>\n",
              "      <td>6.0</td>\n",
              "    </tr>\n",
              "    <tr>\n",
              "      <th>0</th>\n",
              "      <td>65.0</td>\n",
              "      <td>547.0</td>\n",
              "      <td>21.0</td>\n",
              "      <td>25.0</td>\n",
              "      <td>6.0</td>\n",
              "    </tr>\n",
              "    <tr>\n",
              "      <th>18</th>\n",
              "      <td>68.0</td>\n",
              "      <td>517.0</td>\n",
              "      <td>24.0</td>\n",
              "      <td>20.0</td>\n",
              "      <td>6.0</td>\n",
              "    </tr>\n",
              "    <tr>\n",
              "      <th>6</th>\n",
              "      <td>51.0</td>\n",
              "      <td>556.0</td>\n",
              "      <td>20.0</td>\n",
              "      <td>31.0</td>\n",
              "      <td>5.0</td>\n",
              "    </tr>\n",
              "    <tr>\n",
              "      <th>17</th>\n",
              "      <td>42.0</td>\n",
              "      <td>764.0</td>\n",
              "      <td>22.0</td>\n",
              "      <td>20.0</td>\n",
              "      <td>5.0</td>\n",
              "    </tr>\n",
              "    <tr>\n",
              "      <th>12</th>\n",
              "      <td>59.0</td>\n",
              "      <td>591.0</td>\n",
              "      <td>23.0</td>\n",
              "      <td>30.0</td>\n",
              "      <td>3.0</td>\n",
              "    </tr>\n",
              "    <tr>\n",
              "      <th>19</th>\n",
              "      <td>68.0</td>\n",
              "      <td>770.0</td>\n",
              "      <td>24.0</td>\n",
              "      <td>31.0</td>\n",
              "      <td>3.0</td>\n",
              "    </tr>\n",
              "    <tr>\n",
              "      <th>8</th>\n",
              "      <td>69.0</td>\n",
              "      <td>439.0</td>\n",
              "      <td>24.0</td>\n",
              "      <td>37.0</td>\n",
              "      <td>1.0</td>\n",
              "    </tr>\n",
              "    <tr>\n",
              "      <th>16</th>\n",
              "      <td>71.0</td>\n",
              "      <td>771.0</td>\n",
              "      <td>24.0</td>\n",
              "      <td>18.0</td>\n",
              "      <td>1.0</td>\n",
              "    </tr>\n",
              "    <tr>\n",
              "      <th>13</th>\n",
              "      <td>60.0</td>\n",
              "      <td>549.0</td>\n",
              "      <td>22.0</td>\n",
              "      <td>32.0</td>\n",
              "      <td>0.0</td>\n",
              "    </tr>\n",
              "    <tr>\n",
              "      <th>4</th>\n",
              "      <td>43.0</td>\n",
              "      <td>520.0</td>\n",
              "      <td>24.0</td>\n",
              "      <td>23.0</td>\n",
              "      <td>0.0</td>\n",
              "    </tr>\n",
              "  </tbody>\n",
              "</table>\n",
              "</div>"
            ],
            "text/plain": [
              "    vitamin_c  vitamin_d  vitamin_e  vitamin_k  vitamin_b6\n",
              "15       77.0      790.0       23.0       23.0        10.0\n",
              "14       80.0      790.0       23.0       38.0        10.0\n",
              "2        71.0      664.0       22.0       30.0         9.0\n",
              "3        49.0      506.0       20.0       37.0         9.0\n",
              "9        59.0      476.0       20.0       32.0         9.0\n",
              "10       65.0      585.0       24.0       18.0         8.0\n",
              "5        69.0      417.0       24.0       38.0         8.0\n",
              "7        59.0      768.0       24.0       31.0         8.0\n",
              "11       80.0      516.0       23.0       30.0         7.0\n",
              "1        65.0      744.0       21.0       25.0         6.0\n",
              "0        65.0      547.0       21.0       25.0         6.0\n",
              "18       68.0      517.0       24.0       20.0         6.0\n",
              "6        51.0      556.0       20.0       31.0         5.0\n",
              "17       42.0      764.0       22.0       20.0         5.0\n",
              "12       59.0      591.0       23.0       30.0         3.0\n",
              "19       68.0      770.0       24.0       31.0         3.0\n",
              "8        69.0      439.0       24.0       37.0         1.0\n",
              "16       71.0      771.0       24.0       18.0         1.0\n",
              "13       60.0      549.0       22.0       32.0         0.0\n",
              "4        43.0      520.0       24.0       23.0         0.0"
            ]
          },
          "metadata": {},
          "execution_count": 73
        }
      ]
    },
    {
      "cell_type": "code",
      "metadata": {
        "colab": {
          "base_uri": "https://localhost:8080/",
          "height": 669
        },
        "id": "KBb3wgK2q2Kt",
        "outputId": "b7eba619-f211-4da1-8312-e87bc91f6ce6"
      },
      "source": [
        "subset_df = sups.drop(columns=['vitamin_d'])\n",
        "subset_df"
      ],
      "execution_count": 77,
      "outputs": [
        {
          "output_type": "execute_result",
          "data": {
            "text/html": [
              "<div>\n",
              "<style scoped>\n",
              "    .dataframe tbody tr th:only-of-type {\n",
              "        vertical-align: middle;\n",
              "    }\n",
              "\n",
              "    .dataframe tbody tr th {\n",
              "        vertical-align: top;\n",
              "    }\n",
              "\n",
              "    .dataframe thead th {\n",
              "        text-align: right;\n",
              "    }\n",
              "</style>\n",
              "<table border=\"1\" class=\"dataframe\">\n",
              "  <thead>\n",
              "    <tr style=\"text-align: right;\">\n",
              "      <th></th>\n",
              "      <th>vitamin_c</th>\n",
              "      <th>vitamin_e</th>\n",
              "      <th>vitamin_k</th>\n",
              "      <th>vitamin_b6</th>\n",
              "    </tr>\n",
              "  </thead>\n",
              "  <tbody>\n",
              "    <tr>\n",
              "      <th>15</th>\n",
              "      <td>77.0</td>\n",
              "      <td>23.0</td>\n",
              "      <td>23.0</td>\n",
              "      <td>10.0</td>\n",
              "    </tr>\n",
              "    <tr>\n",
              "      <th>14</th>\n",
              "      <td>80.0</td>\n",
              "      <td>23.0</td>\n",
              "      <td>38.0</td>\n",
              "      <td>10.0</td>\n",
              "    </tr>\n",
              "    <tr>\n",
              "      <th>2</th>\n",
              "      <td>71.0</td>\n",
              "      <td>22.0</td>\n",
              "      <td>30.0</td>\n",
              "      <td>9.0</td>\n",
              "    </tr>\n",
              "    <tr>\n",
              "      <th>3</th>\n",
              "      <td>49.0</td>\n",
              "      <td>20.0</td>\n",
              "      <td>37.0</td>\n",
              "      <td>9.0</td>\n",
              "    </tr>\n",
              "    <tr>\n",
              "      <th>9</th>\n",
              "      <td>59.0</td>\n",
              "      <td>20.0</td>\n",
              "      <td>32.0</td>\n",
              "      <td>9.0</td>\n",
              "    </tr>\n",
              "    <tr>\n",
              "      <th>10</th>\n",
              "      <td>65.0</td>\n",
              "      <td>24.0</td>\n",
              "      <td>18.0</td>\n",
              "      <td>8.0</td>\n",
              "    </tr>\n",
              "    <tr>\n",
              "      <th>5</th>\n",
              "      <td>69.0</td>\n",
              "      <td>24.0</td>\n",
              "      <td>38.0</td>\n",
              "      <td>8.0</td>\n",
              "    </tr>\n",
              "    <tr>\n",
              "      <th>7</th>\n",
              "      <td>59.0</td>\n",
              "      <td>24.0</td>\n",
              "      <td>31.0</td>\n",
              "      <td>8.0</td>\n",
              "    </tr>\n",
              "    <tr>\n",
              "      <th>11</th>\n",
              "      <td>80.0</td>\n",
              "      <td>23.0</td>\n",
              "      <td>30.0</td>\n",
              "      <td>7.0</td>\n",
              "    </tr>\n",
              "    <tr>\n",
              "      <th>1</th>\n",
              "      <td>65.0</td>\n",
              "      <td>21.0</td>\n",
              "      <td>25.0</td>\n",
              "      <td>6.0</td>\n",
              "    </tr>\n",
              "    <tr>\n",
              "      <th>0</th>\n",
              "      <td>65.0</td>\n",
              "      <td>21.0</td>\n",
              "      <td>25.0</td>\n",
              "      <td>6.0</td>\n",
              "    </tr>\n",
              "    <tr>\n",
              "      <th>18</th>\n",
              "      <td>68.0</td>\n",
              "      <td>24.0</td>\n",
              "      <td>20.0</td>\n",
              "      <td>6.0</td>\n",
              "    </tr>\n",
              "    <tr>\n",
              "      <th>6</th>\n",
              "      <td>51.0</td>\n",
              "      <td>20.0</td>\n",
              "      <td>31.0</td>\n",
              "      <td>5.0</td>\n",
              "    </tr>\n",
              "    <tr>\n",
              "      <th>17</th>\n",
              "      <td>42.0</td>\n",
              "      <td>22.0</td>\n",
              "      <td>20.0</td>\n",
              "      <td>5.0</td>\n",
              "    </tr>\n",
              "    <tr>\n",
              "      <th>12</th>\n",
              "      <td>59.0</td>\n",
              "      <td>23.0</td>\n",
              "      <td>30.0</td>\n",
              "      <td>3.0</td>\n",
              "    </tr>\n",
              "    <tr>\n",
              "      <th>19</th>\n",
              "      <td>68.0</td>\n",
              "      <td>24.0</td>\n",
              "      <td>31.0</td>\n",
              "      <td>3.0</td>\n",
              "    </tr>\n",
              "    <tr>\n",
              "      <th>8</th>\n",
              "      <td>69.0</td>\n",
              "      <td>24.0</td>\n",
              "      <td>37.0</td>\n",
              "      <td>1.0</td>\n",
              "    </tr>\n",
              "    <tr>\n",
              "      <th>16</th>\n",
              "      <td>71.0</td>\n",
              "      <td>24.0</td>\n",
              "      <td>18.0</td>\n",
              "      <td>1.0</td>\n",
              "    </tr>\n",
              "    <tr>\n",
              "      <th>13</th>\n",
              "      <td>60.0</td>\n",
              "      <td>22.0</td>\n",
              "      <td>32.0</td>\n",
              "      <td>0.0</td>\n",
              "    </tr>\n",
              "    <tr>\n",
              "      <th>4</th>\n",
              "      <td>43.0</td>\n",
              "      <td>24.0</td>\n",
              "      <td>23.0</td>\n",
              "      <td>0.0</td>\n",
              "    </tr>\n",
              "  </tbody>\n",
              "</table>\n",
              "</div>"
            ],
            "text/plain": [
              "    vitamin_c  vitamin_e  vitamin_k  vitamin_b6\n",
              "15       77.0       23.0       23.0        10.0\n",
              "14       80.0       23.0       38.0        10.0\n",
              "2        71.0       22.0       30.0         9.0\n",
              "3        49.0       20.0       37.0         9.0\n",
              "9        59.0       20.0       32.0         9.0\n",
              "10       65.0       24.0       18.0         8.0\n",
              "5        69.0       24.0       38.0         8.0\n",
              "7        59.0       24.0       31.0         8.0\n",
              "11       80.0       23.0       30.0         7.0\n",
              "1        65.0       21.0       25.0         6.0\n",
              "0        65.0       21.0       25.0         6.0\n",
              "18       68.0       24.0       20.0         6.0\n",
              "6        51.0       20.0       31.0         5.0\n",
              "17       42.0       22.0       20.0         5.0\n",
              "12       59.0       23.0       30.0         3.0\n",
              "19       68.0       24.0       31.0         3.0\n",
              "8        69.0       24.0       37.0         1.0\n",
              "16       71.0       24.0       18.0         1.0\n",
              "13       60.0       22.0       32.0         0.0\n",
              "4        43.0       24.0       23.0         0.0"
            ]
          },
          "metadata": {},
          "execution_count": 77
        }
      ]
    },
    {
      "cell_type": "code",
      "metadata": {
        "colab": {
          "base_uri": "https://localhost:8080/",
          "height": 283
        },
        "id": "hGJdeZ4NrOih",
        "outputId": "6101dc6f-bff4-4fe9-903f-860e9d89a371"
      },
      "source": [
        "plt = subset_df.boxplot()\n",
        "plt"
      ],
      "execution_count": 88,
      "outputs": [
        {
          "output_type": "execute_result",
          "data": {
            "text/plain": [
              "<matplotlib.axes._subplots.AxesSubplot at 0x7fe412ea2410>"
            ]
          },
          "metadata": {},
          "execution_count": 88
        },
        {
          "output_type": "display_data",
          "data": {
            "image/png": "[encoded data removed]",
            "text/plain": [
              "<Figure size 432x288 with 1 Axes>"
            ]
          },
          "metadata": {
            "needs_background": "light"
          }
        }
      ]
    },
    {
      "cell_type": "markdown",
      "metadata": {
        "id": "r7HGl6b-yXrB"
      },
      "source": [
        "#Exercise 6"
      ]
    },
    {
      "cell_type": "markdown",
      "metadata": {
        "id": "VFB03NHXsXfs"
      },
      "source": [
        "In the supplements data, I noticed how close the values for vitamin_e are for each other!  This is made obvious by the box and whisker plots.  For most of the plots, they look standard with a whisker length fairly comparable to the length of the box.  On vitamin_e, however, particularly on the top whisker, it is extremely short, almost touching the box itself.  This tells us that its points are very densely populated around the median of the data."
      ]
    },
    {
      "cell_type": "code",
      "metadata": {
        "colab": {
          "base_uri": "https://localhost:8080/",
          "height": 282
        },
        "id": "27zQ_7SGqzut",
        "outputId": "b142585f-76d3-482c-d392-86493974c6c1"
      },
      "source": [
        "subset_df.plot()"
      ],
      "execution_count": 90,
      "outputs": [
        {
          "output_type": "execute_result",
          "data": {
            "text/plain": [
              "<matplotlib.axes._subplots.AxesSubplot at 0x7fe412b4b410>"
            ]
          },
          "metadata": {},
          "execution_count": 90
        },
        {
          "output_type": "display_data",
          "data": {
            "image/png": "[encoded data removed]",
            "text/plain": [
              "<Figure size 432x288 with 1 Axes>"
            ]
          },
          "metadata": {
            "needs_background": "light"
          }
        }
      ]
    },
    {
      "cell_type": "markdown",
      "metadata": {
        "id": "YSiBMWBTtPzV"
      },
      "source": [
        "This line graph makes it just a simple to see how close the y values are for vitamin_e.  They practically create 1 horizontal line with how closely grouped they are."
      ]
    },
    {
      "cell_type": "code",
      "metadata": {
        "id": "nXUXVpUDykFx"
      },
      "source": [
        ""
      ],
      "execution_count": 13,
      "outputs": []
    }
  ]
}
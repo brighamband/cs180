{
  "nbformat": 4,
  "nbformat_minor": 0,
  "metadata": {
    "colab": {
      "name": "lab3.ipynb",
      "provenance": [],
      "collapsed_sections": []
    },
    "kernelspec": {
      "name": "python3",
      "display_name": "Python 3"
    },
    "language_info": {
      "name": "python"
    }
  },
  "cells": [
    {
      "cell_type": "code",
      "metadata": {
        "id": "DjaJO8np1Hc6"
      },
      "source": [
        "import numpy as np\n",
        "import pandas as pd"
      ],
      "execution_count": 1,
      "outputs": []
    },
    {
      "cell_type": "markdown",
      "metadata": {
        "id": "mqy5dhdpyRZj"
      },
      "source": [
        "#Exercise 1"
      ]
    },
    {
      "cell_type": "code",
      "metadata": {
        "colab": {
          "base_uri": "https://localhost:8080/",
          "height": 0
        },
        "id": "p_xXB6-d492I",
        "outputId": "5fe7c9df-1da8-4200-ea39-b742a5f93706"
      },
      "source": [
        "math = pd.Series([80,96,78,59],['Mark','Barbara','Eleanor','David'])\n",
        "print(math)"
      ],
      "execution_count": 4,
      "outputs": [
        {
          "output_type": "stream",
          "name": "stdout",
          "text": [
            "Mark       80\n",
            "Barbara    96\n",
            "Eleanor    78\n",
            "David      59\n",
            "dtype: int64\n"
          ]
        }
      ]
    },
    {
      "cell_type": "code",
      "metadata": {
        "colab": {
          "base_uri": "https://localhost:8080/",
          "height": 0
        },
        "id": "RBOKFqAVygB0",
        "outputId": "1539f1aa-6582-4051-c5e6-c522cb21132c"
      },
      "source": [
        "english = pd.Series([90,87,97,65],['Mark','Barbara','Eleanor','David'])\n",
        "print(english)"
      ],
      "execution_count": 5,
      "outputs": [
        {
          "output_type": "stream",
          "name": "stdout",
          "text": [
            "Mark       90\n",
            "Barbara    87\n",
            "Eleanor    97\n",
            "David      65\n",
            "dtype: int64\n"
          ]
        }
      ]
    },
    {
      "cell_type": "code",
      "metadata": {
        "colab": {
          "base_uri": "https://localhost:8080/",
          "height": 0
        },
        "id": "ymp0bSpz5LVy",
        "outputId": "6ec0bbc0-761f-4cac-f3de-d436d6f06739"
      },
      "source": [
        "simple_grades = pd.DataFrame({'Math': math, 'English': english})\n",
        "print(simple_grades)"
      ],
      "execution_count": 12,
      "outputs": [
        {
          "output_type": "stream",
          "name": "stdout",
          "text": [
            "         Math  English\n",
            "Mark       80       90\n",
            "Barbara    96       87\n",
            "Eleanor    78       97\n",
            "David      59       65\n"
          ]
        }
      ]
    },
    {
      "cell_type": "code",
      "metadata": {
        "colab": {
          "base_uri": "https://localhost:8080/",
          "height": 0
        },
        "id": "wAewAvWS5o6a",
        "outputId": "beae40cb-db0a-4445-9a60-4e265e131f98"
      },
      "source": [
        "data = np.array([[52.0, 73.0], [10.0, 39.0], [35.0, np.nan], [np.nan, 26.0], [np.nan, 99.0], [81.0, 68.0]])\n",
        "grades = pd.DataFrame(data, columns = ['Math', 'English'], index = ['Barbara', 'David', 'Eleanor', 'Greg', 'Lauren', 'Mark'])\n",
        "\n",
        "# look at the column labels of grades\n",
        "print(grades.columns)\n",
        "# look at the index labels of grades\n",
        "print(grades.index)\n",
        "# look at the values (2d array) of grades\n",
        "print(grades.values)"
      ],
      "execution_count": 33,
      "outputs": [
        {
          "output_type": "stream",
          "name": "stdout",
          "text": [
            "Index(['Math', 'English'], dtype='object')\n",
            "Index(['Barbara', 'David', 'Eleanor', 'Greg', 'Lauren', 'Mark'], dtype='object')\n",
            "[[52. 73.]\n",
            " [10. 39.]\n",
            " [35. nan]\n",
            " [nan 26.]\n",
            " [nan 99.]\n",
            " [81. 68.]]\n"
          ]
        }
      ]
    },
    {
      "cell_type": "code",
      "metadata": {
        "colab": {
          "base_uri": "https://localhost:8080/",
          "height": 0
        },
        "id": "WQvGnA9Z6nAo",
        "outputId": "5ca646de-088b-41a5-b4be-96c5ceecaeb0"
      },
      "source": [
        "grades.loc[['David','Greg'],'Math']"
      ],
      "execution_count": 34,
      "outputs": [
        {
          "output_type": "execute_result",
          "data": {
            "text/plain": [
              "David    10.0\n",
              "Greg      NaN\n",
              "Name: Math, dtype: float64"
            ]
          },
          "metadata": {},
          "execution_count": 34
        }
      ]
    },
    {
      "cell_type": "code",
      "metadata": {
        "colab": {
          "base_uri": "https://localhost:8080/",
          "height": 0
        },
        "id": "fGm7u5dk6qAM",
        "outputId": "d0d5c349-2e0a-4259-dc0b-b672ccec4a0c"
      },
      "source": [
        "grades.iloc[[1,3],0]"
      ],
      "execution_count": 35,
      "outputs": [
        {
          "output_type": "execute_result",
          "data": {
            "text/plain": [
              "David    10.0\n",
              "Greg      NaN\n",
              "Name: Math, dtype: float64"
            ]
          },
          "metadata": {},
          "execution_count": 35
        }
      ]
    },
    {
      "cell_type": "markdown",
      "metadata": {
        "id": "AuwHSZ4XyW2U"
      },
      "source": [
        "#Exercise 2"
      ]
    },
    {
      "cell_type": "code",
      "metadata": {
        "id": "mq74Q_7wyhB2"
      },
      "source": [
        ""
      ],
      "execution_count": 24,
      "outputs": []
    },
    {
      "cell_type": "markdown",
      "metadata": {
        "id": "agejUawIyXGp"
      },
      "source": [
        "#Exercise 3"
      ]
    },
    {
      "cell_type": "code",
      "metadata": {
        "id": "itFsGv-vyhxg"
      },
      "source": [
        ""
      ],
      "execution_count": 24,
      "outputs": []
    },
    {
      "cell_type": "markdown",
      "metadata": {
        "id": "6NKHq6-ryXXf"
      },
      "source": [
        "#Exercise 4"
      ]
    },
    {
      "cell_type": "code",
      "metadata": {
        "id": "V_x_X7DkyisY"
      },
      "source": [
        ""
      ],
      "execution_count": null,
      "outputs": []
    },
    {
      "cell_type": "markdown",
      "metadata": {
        "id": "cLT1VQbOyXio"
      },
      "source": [
        "#Exercise 5"
      ]
    },
    {
      "cell_type": "code",
      "metadata": {
        "id": "piOBeEDAyjVR"
      },
      "source": [
        ""
      ],
      "execution_count": null,
      "outputs": []
    },
    {
      "cell_type": "markdown",
      "metadata": {
        "id": "r7HGl6b-yXrB"
      },
      "source": [
        "#Exercise 6"
      ]
    },
    {
      "cell_type": "code",
      "metadata": {
        "id": "nXUXVpUDykFx"
      },
      "source": [
        ""
      ],
      "execution_count": null,
      "outputs": []
    }
  ]
}